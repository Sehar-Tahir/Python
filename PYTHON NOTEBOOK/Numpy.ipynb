{
 "cells": [
  {
   "cell_type": "markdown",
   "id": "1073ee98",
   "metadata": {},
   "source": [
    "### Numpy -> Numerical Python is a library -> core library of python\n",
    "### pip install numpy"
   ]
  },
  {
   "cell_type": "code",
   "execution_count": 1,
   "id": "b89757a1",
   "metadata": {},
   "outputs": [],
   "source": [
    "import numpy as np"
   ]
  },
  {
   "cell_type": "code",
   "execution_count": 9,
   "id": "ced4aa75",
   "metadata": {},
   "outputs": [
    {
     "data": {
      "text/plain": [
       "array([1, 2, 3])"
      ]
     },
     "execution_count": 9,
     "metadata": {},
     "output_type": "execute_result"
    }
   ],
   "source": [
    "# Create a 1D array\n",
    "arr1 = np.array([1,2,3])\n",
    "arr1\n",
    "# (type(arr1))\n",
    "# (len(arr1))\n",
    "# (arr1[1])\n",
    "# (arr1[0:])"
   ]
  },
  {
   "cell_type": "code",
   "execution_count": 20,
   "id": "55e7a884",
   "metadata": {},
   "outputs": [
    {
     "data": {
      "text/plain": [
       "array([0., 0., 0., 0., 0., 0.])"
      ]
     },
     "execution_count": 20,
     "metadata": {},
     "output_type": "execute_result"
    }
   ],
   "source": [
    "#functions\n",
    "(np.zeros(6))  #zeros array\n",
    "# (np.ones(5))   #ones array\n",
    "# (np.empty(4))  #empty array              #every time comes a differnt value why?\n",
    "# (np.arange(10))  #range\n",
    "# (np.arange(2,20))  #specific range\n",
    "# (np.arange(2,20,3))  #specific range withy specific interval\n",
    "# #table of 9\n",
    "# (np.arange(9,99,9))\n",
    "# (np.linspace(0,20, num=5))   #specific line space/specific interval\n",
    "# (np.ones(20, dtype=np.int64)) #specify datatype"
   ]
  },
  {
   "cell_type": "code",
   "execution_count": 25,
   "id": "6337464b",
   "metadata": {},
   "outputs": [
    {
     "data": {
      "text/plain": [
       "array([10. , 65. ,  8.5, 89. , 24. , 75. , 43. , 76. ,  1.2,  0.6, 79. ])"
      ]
     },
     "execution_count": 25,
     "metadata": {},
     "output_type": "execute_result"
    }
   ],
   "source": [
    "#Array Functions\n",
    "arr2 = np.array([10,65,8.5,89,24,75,43,76,1.2,0.6,79])\n",
    "arr2\n",
    "# arr2.sort()   #sort\n",
    "# arr2\n",
    "# np.concatenate((arr1, arr2)) #concatenate"
   ]
  },
  {
   "cell_type": "code",
   "execution_count": 31,
   "id": "a11eeec6",
   "metadata": {},
   "outputs": [
    {
     "data": {
      "text/plain": [
       "array([[1, 2, 3, 4, 5],\n",
       "       [5, 4, 3, 2, 1]])"
      ]
     },
     "execution_count": 31,
     "metadata": {},
     "output_type": "execute_result"
    }
   ],
   "source": [
    "#Create a 2D array\n",
    "arr3 = np.array([[1,2,3,4,5],[5,4,3,2,1]])\n",
    "arr3\n",
    "# arr4 = np.array([[6,7,8,9,10],[10,9,8,7,6]])\n",
    "# arr4\n",
    "# np.concatenate((arr3, arr4)) #concatenate\n",
    "# np.concatenate((arr3, arr4), axis=0) #concatenate  y axis\n",
    "# np.concatenate((arr3, arr4), axis=1) #concatenate  x axis"
   ]
  },
  {
   "cell_type": "code",
   "execution_count": 36,
   "id": "7ed95922",
   "metadata": {},
   "outputs": [
    {
     "data": {
      "text/plain": [
       "array([[[0, 1, 2, 3],\n",
       "        [4, 5, 6, 7]],\n",
       "\n",
       "       [[0, 1, 2, 3],\n",
       "        [4, 5, 6, 7]],\n",
       "\n",
       "       [[0, 1, 2, 3],\n",
       "        [4, 5, 6, 7]]])"
      ]
     },
     "execution_count": 36,
     "metadata": {},
     "output_type": "execute_result"
    }
   ],
   "source": [
    "#Create a 3D array\n",
    "arr5 = np.array([[[0,1,2,3],[4,5,6,7]],[[0,1,2,3],[4,5,6,7]],[[0,1,2,3],[4,5,6,7]]])\n",
    "arr5\n",
    "# arr5.ndim  #to find the number of dimensions\n",
    "# arr5.size  # to find num of elements\n",
    "# arr5.shape  # to find shape (dims,rows,cols)"
   ]
  },
  {
   "cell_type": "code",
   "execution_count": 38,
   "id": "e0d15119",
   "metadata": {},
   "outputs": [
    {
     "data": {
      "text/plain": [
       "array([[1, 2, 3],\n",
       "       [4, 5, 6],\n",
       "       [7, 8, 9]])"
      ]
     },
     "execution_count": 38,
     "metadata": {},
     "output_type": "execute_result"
    }
   ],
   "source": [
    "# Reshape arrays \n",
    "arr6= np.array([1,2,3,4,5,6,7,8,9])\n",
    "arr6.reshape(3,3) #3*3=9"
   ]
  },
  {
   "cell_type": "code",
   "execution_count": 42,
   "id": "754e807f",
   "metadata": {},
   "outputs": [
    {
     "data": {
      "text/plain": [
       "(1, 9)"
      ]
     },
     "execution_count": 42,
     "metadata": {},
     "output_type": "execute_result"
    }
   ],
   "source": [
    "# Convert 1D array into 2D array - row wise\n",
    "arr7 = np.array([1,2,3,4,5,6,7,8,9])\n",
    "arr7.shape\n",
    "# arr8= arr7[np.newaxis, :]\n",
    "# arr8.shape"
   ]
  },
  {
   "cell_type": "code",
   "execution_count": 45,
   "id": "fe12e040",
   "metadata": {},
   "outputs": [
    {
     "data": {
      "text/plain": [
       "(9, 1)"
      ]
     },
     "execution_count": 45,
     "metadata": {},
     "output_type": "execute_result"
    }
   ],
   "source": [
    "# Convert 1D array into 2D array - coloumn wise\n",
    "arr9= np.array([1,2,3,4,5,6,7,8,9])\n",
    "arr9.shape\n",
    "arr10= arr9[:, np.newaxis]\n",
    "arr10.shape"
   ]
  },
  {
   "cell_type": "code",
   "execution_count": 50,
   "id": "46e4cf30",
   "metadata": {},
   "outputs": [
    {
     "data": {
      "text/plain": [
       "np.int64(15)"
      ]
     },
     "execution_count": 50,
     "metadata": {},
     "output_type": "execute_result"
    }
   ],
   "source": [
    "# array\n",
    "a= np.array([1,2,3,4,5])\n",
    "a\n",
    "# a*3\n",
    "# a+3\n",
    "# a.mean()  #array mean\n",
    "# a.sum()  #array sum"
   ]
  }
 ],
 "metadata": {
  "kernelspec": {
   "display_name": "Python 3",
   "language": "python",
   "name": "python3"
  },
  "language_info": {
   "codemirror_mode": {
    "name": "ipython",
    "version": 3
   },
   "file_extension": ".py",
   "mimetype": "text/x-python",
   "name": "python",
   "nbconvert_exporter": "python",
   "pygments_lexer": "ipython3",
   "version": "3.12.3"
  }
 },
 "nbformat": 4,
 "nbformat_minor": 5
}
