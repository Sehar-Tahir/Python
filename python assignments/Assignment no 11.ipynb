{
 "cells": [
  {
   "cell_type": "code",
   "execution_count": 1,
   "id": "f6a3beb7-dd95-4506-beb9-73d9b9d2fe63",
   "metadata": {},
   "outputs": [],
   "source": [
    "#1"
   ]
  },
  {
   "cell_type": "code",
   "execution_count": 5,
   "id": "f5654bbf-5637-4770-9431-f48478807b81",
   "metadata": {},
   "outputs": [
    {
     "name": "stdout",
     "output_type": "stream",
     "text": [
      "Hello, john!\n"
     ]
    }
   ],
   "source": [
    "def greet(name):\n",
    "    print(f\"Hello, {name}!\")\n",
    "\n",
    "greet(\"john\")\n"
   ]
  },
  {
   "cell_type": "code",
   "execution_count": 6,
   "id": "3ecdd69b-ad05-43a4-9859-6ee9bd9136e7",
   "metadata": {},
   "outputs": [],
   "source": [
    "#2"
   ]
  },
  {
   "cell_type": "code",
   "execution_count": 15,
   "id": "d38e0662-40a4-4aaf-8ef1-2ea798aa362b",
   "metadata": {},
   "outputs": [
    {
     "name": "stdout",
     "output_type": "stream",
     "text": [
      "10\n"
     ]
    }
   ],
   "source": [
    "def double(z):\n",
    "    print(z*2)\n",
    "\n",
    "double(5)\n"
   ]
  },
  {
   "cell_type": "code",
   "execution_count": 14,
   "id": "a0d03962-250b-46ec-9376-8be9a42fa964",
   "metadata": {},
   "outputs": [],
   "source": [
    "#3"
   ]
  },
  {
   "cell_type": "code",
   "execution_count": 23,
   "id": "b69268bb-03c0-4de0-b53d-1ef3b481ff88",
   "metadata": {},
   "outputs": [
    {
     "name": "stdout",
     "output_type": "stream",
     "text": [
      "The sum of two numbers = 5.\n"
     ]
    }
   ],
   "source": [
    "def print_numbers(a, b):\n",
    "    print(f\"The sum of two numbers = {a+b}.\")\n",
    "\n",
    "print_numbers(2, 3)"
   ]
  },
  {
   "cell_type": "code",
   "execution_count": 19,
   "id": "b96c198c-b3bb-42ad-b8d2-407934729d92",
   "metadata": {},
   "outputs": [],
   "source": [
    "#4"
   ]
  },
  {
   "cell_type": "code",
   "execution_count": 22,
   "id": "fc6fa65a-3c84-4f66-a1fc-fc0bef51026a",
   "metadata": {},
   "outputs": [
    {
     "name": "stdout",
     "output_type": "stream",
     "text": [
      "The area of rectangle is 12.\n"
     ]
    }
   ],
   "source": [
    "def print_area(l , w):\n",
    " print(f\"The area of rectangle is {l * w}.\")\n",
    "\n",
    "print_area(3, 4)"
   ]
  },
  {
   "cell_type": "code",
   "execution_count": 24,
   "id": "12bb70f5-8733-4c01-a37e-6aeab78ddfd3",
   "metadata": {},
   "outputs": [],
   "source": [
    "#5"
   ]
  },
  {
   "cell_type": "code",
   "execution_count": 29,
   "id": "ade41899-59e1-4776-97e8-7accd3fc1bdd",
   "metadata": {},
   "outputs": [
    {
     "name": "stdout",
     "output_type": "stream",
     "text": [
      "Hello , John!\n"
     ]
    }
   ],
   "source": [
    "def print_greetings(name, greetings):\n",
    "    print(f\"{greetings} , {name}\")\n",
    "\n",
    "print_greetings(\"John!\",\"Hello\")"
   ]
  },
  {
   "cell_type": "code",
   "execution_count": null,
   "id": "536e524b-8c12-4457-95f1-c96a54a2f529",
   "metadata": {},
   "outputs": [],
   "source": [
    "# With return statements:-"
   ]
  },
  {
   "cell_type": "code",
   "execution_count": 33,
   "id": "4980ad99-b49b-4f61-bb10-bafa833e9e61",
   "metadata": {},
   "outputs": [],
   "source": [
    "#1"
   ]
  },
  {
   "cell_type": "code",
   "execution_count": 31,
   "id": "59e5c8d0-df88-4899-bd7d-aa1ea3a0af7e",
   "metadata": {},
   "outputs": [
    {
     "data": {
      "text/plain": [
       "7"
      ]
     },
     "execution_count": 31,
     "metadata": {},
     "output_type": "execute_result"
    }
   ],
   "source": [
    "def add_two(num):\n",
    "    result = num + 2\n",
    "    return result\n",
    "\n",
    "add_two(5)"
   ]
  },
  {
   "cell_type": "code",
   "execution_count": 34,
   "id": "50a86a8d-be99-44e9-b7aa-34d4ce630988",
   "metadata": {},
   "outputs": [],
   "source": [
    "#2"
   ]
  },
  {
   "cell_type": "code",
   "execution_count": 36,
   "id": "8003fed1-a31d-4519-a6f3-edf13b3cb84b",
   "metadata": {},
   "outputs": [
    {
     "data": {
      "text/plain": [
       "12"
      ]
     },
     "execution_count": 36,
     "metadata": {},
     "output_type": "execute_result"
    }
   ],
   "source": [
    "def multiply_by_three(num):\n",
    "    result = num * 3\n",
    "    return result\n",
    "\n",
    "multiply_by_three(4)"
   ]
  },
  {
   "cell_type": "code",
   "execution_count": 37,
   "id": "dbaff1be-2e97-440b-85cd-f618320ec7c1",
   "metadata": {},
   "outputs": [],
   "source": [
    "#3"
   ]
  },
  {
   "cell_type": "code",
   "execution_count": 40,
   "id": "2abf557e-6659-420e-97b7-6604fe7fc30d",
   "metadata": {},
   "outputs": [
    {
     "data": {
      "text/plain": [
       "12"
      ]
     },
     "execution_count": 40,
     "metadata": {},
     "output_type": "execute_result"
    }
   ],
   "source": [
    "def calculate_area(length , width):\n",
    "    area = length * width\n",
    "    return area\n",
    "\n",
    "calculate_area(3,4)"
   ]
  },
  {
   "cell_type": "code",
   "execution_count": null,
   "id": "5788bcb2-c2f2-4e2e-9924-ada3691a8c9f",
   "metadata": {},
   "outputs": [],
   "source": [
    "#4"
   ]
  },
  {
   "cell_type": "code",
   "execution_count": 62,
   "id": "9354a4c1-7633-434e-9945-0d56afd26b63",
   "metadata": {},
   "outputs": [
    {
     "data": {
      "text/plain": [
       "80.0"
      ]
     },
     "execution_count": 62,
     "metadata": {},
     "output_type": "execute_result"
    }
   ],
   "source": [
    "def calculate_discount(original_price ,discount_percentage):\n",
    "    discount = (original_price * discount_percentage) / 100\n",
    "    discount_price = original_price - discount \n",
    "    return discount_price\n",
    "\n",
    "calculate_discount(100, 20)"
   ]
  },
  {
   "cell_type": "code",
   "execution_count": 42,
   "id": "81edcd8d-fb5b-4d19-8cd3-5ac2c7455bac",
   "metadata": {},
   "outputs": [],
   "source": [
    "#5"
   ]
  },
  {
   "cell_type": "code",
   "execution_count": 58,
   "id": "e5e4c462-91a6-4169-890a-9f7326401ad9",
   "metadata": {},
   "outputs": [
    {
     "data": {
      "text/plain": [
       "8.045"
      ]
     },
     "execution_count": 58,
     "metadata": {},
     "output_type": "execute_result"
    }
   ],
   "source": [
    "def calculate_distance(dist_in_m):\n",
    "    dist_in_km = dist_in_m * 1.609\n",
    "    return dist_in_km\n",
    "\n",
    "calculate_distance(5)"
   ]
  },
  {
   "cell_type": "code",
   "execution_count": 44,
   "id": "f82d79ae-5444-401d-a06a-d53facfd8ed0",
   "metadata": {},
   "outputs": [],
   "source": [
    "#6"
   ]
  },
  {
   "cell_type": "code",
   "execution_count": 47,
   "id": "6998c6cf-7e1b-47e0-adb7-415e85e86d50",
   "metadata": {},
   "outputs": [
    {
     "data": {
      "text/plain": [
       "'A'"
      ]
     },
     "execution_count": 47,
     "metadata": {},
     "output_type": "execute_result"
    }
   ],
   "source": [
    "def calculate_grade(score):\n",
    "    if score >= 90 and score <= 100:\n",
    "        return \"A\"\n",
    "    elif score >= 80 and score < 90:\n",
    "        return \"B\"\n",
    "    elif score >= 70 and score < 80:\n",
    "        return \"C\"\n",
    "    elif score >= 60 and score < 70:\n",
    "        return \"D\"\n",
    "    elif score >= 50 and score < 60:\n",
    "        return \"E\"\n",
    "    elif score < 50:\n",
    "        return \"F\"\n",
    "    else:\n",
    "        return \"Invalid Score!\"\n",
    "\n",
    "calculate_grade(90)"
   ]
  },
  {
   "cell_type": "code",
   "execution_count": 48,
   "id": "e2c62add-595f-4128-98c7-ce3b6d63b02e",
   "metadata": {},
   "outputs": [],
   "source": [
    "#7"
   ]
  },
  {
   "cell_type": "code",
   "execution_count": 56,
   "id": "19202186-b13a-4b07-8d38-f02de64f1ea2",
   "metadata": {},
   "outputs": [
    {
     "data": {
      "text/plain": [
       "100.08"
      ]
     },
     "execution_count": 56,
     "metadata": {},
     "output_type": "execute_result"
    }
   ],
   "source": [
    "def calculate_cost(cost, tax):\n",
    "    total_cost = cost + tax\n",
    "    return total_cost\n",
    "\n",
    "calculate_cost(100, 0.08)"
   ]
  }
 ],
 "metadata": {
  "kernelspec": {
   "display_name": "Python 3 (ipykernel)",
   "language": "python",
   "name": "python3"
  },
  "language_info": {
   "codemirror_mode": {
    "name": "ipython",
    "version": 3
   },
   "file_extension": ".py",
   "mimetype": "text/x-python",
   "name": "python",
   "nbconvert_exporter": "python",
   "pygments_lexer": "ipython3",
   "version": "3.12.3"
  }
 },
 "nbformat": 4,
 "nbformat_minor": 5
}
