{
 "cells": [
  {
   "cell_type": "code",
   "execution_count": 8,
   "id": "c6f8ea06-ff78-4a52-86de-63e010d7dabb",
   "metadata": {},
   "outputs": [
    {
     "name": "stdout",
     "output_type": "stream",
     "text": [
      " Full name: Sehar Tahir \n",
      " Age: 0 \n",
      " Address: address_address \n",
      " Email: email@gmail.com \n",
      " Description: I am a student of Bs IT at IUB\n"
     ]
    }
   ],
   "source": [
    "#Activity no 1  {Personal Profile}\n",
    "\n",
    "Full_name = \"Sehar Tahir\"\n",
    "Age = 00\n",
    "Address = \"address_address\"\n",
    "Email = \"email@gmail.com\"\n",
    "Descrip = \"I am a student of Bs IT at IUB\"\n",
    "print(\" Full name:\", Full_name,\"\\n Age:\",Age,\"\\n Address:\",Address,\"\\n Email:\",Email,\"\\n Description:\",Descrip)"
   ]
  },
  {
   "cell_type": "code",
   "execution_count": 1,
   "id": "e247fc8b-5e2f-4be3-beaa-37d8ea1c3a4e",
   "metadata": {},
   "outputs": [
    {
     "name": "stdout",
     "output_type": "stream",
     "text": [
      "Event:  Meeting_no_1 \n",
      "Date:  26042024 \n",
      "Time:  08:30 \n",
      "Location:  Online \n",
      "Description: Discuss the project\n"
     ]
    }
   ],
   "source": [
    "#Activity no 2  {Event details}\n",
    "\n",
    "Event_title = \"Meeting_no_1\"\n",
    "Date = 26_04_2024\n",
    "Time = \"08:30\"\n",
    "Location = \"Online\"\n",
    "Description = \"Discuss the project\"\n",
    "\n",
    "print(\"Event: \",Event_title,\"\\nDate: \", Date,\"\\nTime: \", Time,\"\\nLocation: \", Location,\"\\nDescription:\",Description)\n"
   ]
  },
  {
   "cell_type": "code",
   "execution_count": 16,
   "id": "f0307939-4920-470c-8336-64e1eb7e9646",
   "metadata": {},
   "outputs": [
    {
     "data": {
      "text/plain": [
       "int"
      ]
     },
     "execution_count": 16,
     "metadata": {},
     "output_type": "execute_result"
    }
   ],
   "source": [
    "#Activity no 3  {Operations}\n",
    "\n",
    "num = 678\n",
    "name = \"Sehar Tahir\"\n",
    "is_raining = True\n",
    "type(num)"
   ]
  },
  {
   "cell_type": "code",
   "execution_count": 17,
   "id": "ffc6aae7-4209-4942-b2bc-2b8aea525fa7",
   "metadata": {},
   "outputs": [
    {
     "data": {
      "text/plain": [
       "str"
      ]
     },
     "execution_count": 17,
     "metadata": {},
     "output_type": "execute_result"
    }
   ],
   "source": [
    "type(name)"
   ]
  },
  {
   "cell_type": "code",
   "execution_count": 18,
   "id": "aa616a3b-1b49-4623-bf07-e833e0b9541b",
   "metadata": {},
   "outputs": [
    {
     "data": {
      "text/plain": [
       "bool"
      ]
     },
     "execution_count": 18,
     "metadata": {},
     "output_type": "execute_result"
    }
   ],
   "source": [
    "type (is_raining)"
   ]
  },
  {
   "cell_type": "code",
   "execution_count": 20,
   "id": "4277d758-99c7-437b-af61-96f7e13799d9",
   "metadata": {},
   "outputs": [
    {
     "data": {
      "text/plain": [
       "float"
      ]
     },
     "execution_count": 20,
     "metadata": {},
     "output_type": "execute_result"
    }
   ],
   "source": [
    "# e)\n",
    "\n",
    "num = 45.9\n",
    "type(num)"
   ]
  }
 ],
 "metadata": {
  "kernelspec": {
   "display_name": "Python 3",
   "language": "python",
   "name": "python3"
  },
  "language_info": {
   "codemirror_mode": {
    "name": "ipython",
    "version": 3
   },
   "file_extension": ".py",
   "mimetype": "text/x-python",
   "name": "python",
   "nbconvert_exporter": "python",
   "pygments_lexer": "ipython3",
   "version": "3.12.3"
  }
 },
 "nbformat": 4,
 "nbformat_minor": 5
}
