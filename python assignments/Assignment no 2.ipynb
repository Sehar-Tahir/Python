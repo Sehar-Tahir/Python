{
 "cells": [
  {
   "cell_type": "code",
   "execution_count": 9,
   "id": "30cbb081-4a94-4ace-9d4d-d0be1991e253",
   "metadata": {},
   "outputs": [],
   "source": [
    "# Question no 1 {Poem on python}"
   ]
  },
  {
   "cell_type": "code",
   "execution_count": 10,
   "id": "49f7394c-797f-406a-aefb-4625d6157f9b",
   "metadata": {},
   "outputs": [
    {
     "name": "stdout",
     "output_type": "stream",
     "text": [
      "Poem:  \n",
      " Serpentine code, oh so fine \n",
      " Python's syntax, a wondrous sign \n",
      " Indentation's gentle embrace \n",
      " Makes coding a peaceful space \n",
      " With libraries vast and wide \n",
      " Data analysis, it does provide \n",
      " Machine learning, a clever guise \n",
      " Python's power, before our eyes\n"
     ]
    }
   ],
   "source": [
    "print(\"Poem:  \\n Serpentine code, oh so fine \\n Python's syntax, a wondrous sign \\n Indentation's gentle embrace \\n Makes coding a peaceful space \\n With libraries vast and wide \\n Data analysis, it does provide \\n Machine learning, a clever guise \\n Python's power, before our eyes\")"
   ]
  },
  {
   "cell_type": "code",
   "execution_count": 11,
   "id": "59b9c962-722c-4448-b3ff-901846ddc368",
   "metadata": {},
   "outputs": [],
   "source": [
    "# Question no 2 {Input profile info from user}"
   ]
  },
  {
   "cell_type": "code",
   "execution_count": 14,
   "id": "5ecc2a8a-37d4-44d7-8b62-934d09dd459a",
   "metadata": {},
   "outputs": [
    {
     "name": "stdin",
     "output_type": "stream",
     "text": [
      "enter your name: Sehar Tahir\n",
      "enter your age: 19\n",
      "enter your address: abc-street-ef-08\n",
      "enter your email: abcdef@gmail.com\n",
      "enter description: I am a student of BS IT at IUB\n"
     ]
    },
    {
     "name": "stdout",
     "output_type": "stream",
     "text": [
      " Name: Sehar Tahir \n",
      " Age: 19 \n",
      " Adress: abc-street-ef-08 \n",
      " Email: abcdef@gmail.com \n",
      " Description: I am a student of BS IT at IUB\n"
     ]
    }
   ],
   "source": [
    "Full_name = input(\"enter your name:\")\n",
    "Age = input(\"enter your age:\")\n",
    "Address = input(\"enter your address:\")\n",
    "Email = input(\"enter your email:\")\n",
    "Description = input(\"enter description:\")\n",
    "\n",
    "print(f\" Name: {Full_name} \\n Age: {Age} \\n Adress: {Address} \\n Email: {Email} \\n Description: {Description}\" )"
   ]
  },
  {
   "cell_type": "code",
   "execution_count": 15,
   "id": "b35657b4-72e7-4e2c-b54d-b7f4eff0ebad",
   "metadata": {},
   "outputs": [],
   "source": [
    "# Question no 3 {perform following operations}"
   ]
  },
  {
   "cell_type": "code",
   "execution_count": 16,
   "id": "7ed2b706-58c9-473f-81a9-ae3e504ef8c9",
   "metadata": {},
   "outputs": [
    {
     "name": "stdin",
     "output_type": "stream",
     "text": [
      " blue\n"
     ]
    },
    {
     "name": "stdout",
     "output_type": "stream",
     "text": [
      "Your favourite colour is: blue\n"
     ]
    }
   ],
   "source": [
    "colour = input()\n",
    "print(f\"Your favourite colour is: {colour}\")"
   ]
  },
  {
   "cell_type": "code",
   "execution_count": 17,
   "id": "9895afed-4cc2-4b8e-8ec2-02345aaaef72",
   "metadata": {},
   "outputs": [
    {
     "name": "stdout",
     "output_type": "stream",
     "text": [
      "I am going to attend the class on google meet\n"
     ]
    }
   ],
   "source": [
    "print(\"I am going to attend the class on google meet\")"
   ]
  }
 ],
 "metadata": {
  "kernelspec": {
   "display_name": "Python 3 (ipykernel)",
   "language": "python",
   "name": "python3"
  },
  "language_info": {
   "codemirror_mode": {
    "name": "ipython",
    "version": 3
   },
   "file_extension": ".py",
   "mimetype": "text/x-python",
   "name": "python",
   "nbconvert_exporter": "python",
   "pygments_lexer": "ipython3",
   "version": "3.12.3"
  }
 },
 "nbformat": 4,
 "nbformat_minor": 5
}
