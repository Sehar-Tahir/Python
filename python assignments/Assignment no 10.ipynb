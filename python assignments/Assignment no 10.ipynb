{
 "cells": [
  {
   "cell_type": "code",
   "execution_count": null,
   "id": "905898f3-0bd9-4b6e-b95e-256255f3f252",
   "metadata": {},
   "outputs": [],
   "source": [
    "#1"
   ]
  },
  {
   "cell_type": "code",
   "execution_count": 9,
   "id": "bbabbed4-2bb5-4878-aff4-3fdb08cd0f2d",
   "metadata": {},
   "outputs": [
    {
     "name": "stdout",
     "output_type": "stream",
     "text": [
      "1\n",
      "2\n",
      "3\n",
      "4\n",
      "5\n",
      "6\n",
      "7\n",
      "8\n",
      "9\n",
      "10\n"
     ]
    }
   ],
   "source": [
    "i = 0\n",
    "while(i < 10):\n",
    "    i += 1\n",
    "    print(i)"
   ]
  },
  {
   "cell_type": "code",
   "execution_count": null,
   "id": "41b6e294-d48e-4672-a1b9-8746b7350e83",
   "metadata": {},
   "outputs": [],
   "source": [
    "#2"
   ]
  },
  {
   "cell_type": "code",
   "execution_count": 2,
   "id": "010938f5-4720-4624-9995-85dec9df9978",
   "metadata": {},
   "outputs": [
    {
     "name": "stdout",
     "output_type": "stream",
     "text": [
      "55\n"
     ]
    }
   ],
   "source": [
    "sum = 0\n",
    "i = 0\n",
    "while(i < 11):\n",
    "    sum = sum + i\n",
    "    i += 1\n",
    "print(sum)"
   ]
  },
  {
   "cell_type": "code",
   "execution_count": 3,
   "id": "3694a5a5-6bd8-4cc4-b89c-cf4127ddd946",
   "metadata": {},
   "outputs": [],
   "source": [
    "#3"
   ]
  },
  {
   "cell_type": "code",
   "execution_count": 15,
   "id": "9238fadc-5259-413a-8516-15c0a0dc2399",
   "metadata": {},
   "outputs": [
    {
     "name": "stdout",
     "output_type": "stream",
     "text": [
      "6 * 1 = 0\n",
      "6 * 2 = 6\n",
      "6 * 3 = 12\n",
      "6 * 4 = 18\n",
      "6 * 5 = 24\n",
      "6 * 6 = 30\n",
      "6 * 7 = 36\n",
      "6 * 8 = 42\n",
      "6 * 9 = 48\n",
      "6 * 10 = 54\n"
     ]
    }
   ],
   "source": [
    "m = 6\n",
    "n = 0\n",
    "while (n < 10):\n",
    "    c = m * n\n",
    "    n += 1\n",
    "    print(f\"{m} * {n} = {c}\")"
   ]
  },
  {
   "cell_type": "code",
   "execution_count": 16,
   "id": "4f5420db-81ff-4428-b9bd-5668f52f1310",
   "metadata": {},
   "outputs": [],
   "source": [
    "#4"
   ]
  },
  {
   "cell_type": "code",
   "execution_count": 2,
   "id": "6aeaae3d-3edd-42ff-b139-1e854761cc34",
   "metadata": {},
   "outputs": [
    {
     "name": "stdout",
     "output_type": "stream",
     "text": [
      "1\n",
      "4\n",
      "9\n",
      "16\n",
      "25\n",
      "36\n",
      "49\n",
      "64\n",
      "81\n",
      "100\n"
     ]
    }
   ],
   "source": [
    "sq = 1\n",
    "i = 1\n",
    "while(i < 11):\n",
    "    sq = i * i\n",
    "    i += 1\n",
    "    print(sq)"
   ]
  },
  {
   "cell_type": "code",
   "execution_count": 3,
   "id": "2415f8ca-8dd5-4b99-9fa7-aa5e851c4308",
   "metadata": {},
   "outputs": [],
   "source": [
    "#5"
   ]
  },
  {
   "cell_type": "code",
   "execution_count": 3,
   "id": "8c4421fd-55ef-438a-8acb-4f89d31bcbcf",
   "metadata": {},
   "outputs": [
    {
     "name": "stdout",
     "output_type": "stream",
     "text": [
      "10\n",
      "9\n",
      "8\n",
      "7\n",
      "6\n",
      "5\n",
      "4\n",
      "3\n",
      "2\n",
      "1\n"
     ]
    }
   ],
   "source": [
    "n = 10\n",
    "while(n > 0):\n",
    "    print(n)\n",
    "    n = n - 1"
   ]
  },
  {
   "cell_type": "code",
   "execution_count": 7,
   "id": "866d4db6-164f-4ccc-bcab-1f26ecb05908",
   "metadata": {},
   "outputs": [],
   "source": [
    "#6"
   ]
  },
  {
   "cell_type": "code",
   "execution_count": null,
   "id": "e382b6b9",
   "metadata": {},
   "outputs": [],
   "source": [
    "sum = 0\n",
    "num = 1\n",
    "while num < 11:\n",
    "      if num % 2 == 0:\n",
    "         sum = sum + num\n",
    "         num = num + 1   \n",
    "print(sum)"
   ]
  }
 ],
 "metadata": {
  "kernelspec": {
   "display_name": "Python 3",
   "language": "python",
   "name": "python3"
  },
  "language_info": {
   "codemirror_mode": {
    "name": "ipython",
    "version": 3
   },
   "file_extension": ".py",
   "mimetype": "text/x-python",
   "name": "python",
   "nbconvert_exporter": "python",
   "pygments_lexer": "ipython3",
   "version": "3.12.3"
  }
 },
 "nbformat": 4,
 "nbformat_minor": 5
}
