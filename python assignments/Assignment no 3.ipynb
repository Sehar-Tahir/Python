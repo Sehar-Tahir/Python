{
 "cells": [
  {
   "cell_type": "code",
   "execution_count": 3,
   "id": "22784724-03d8-4ab5-9f98-e4c50acbf7eb",
   "metadata": {},
   "outputs": [],
   "source": [
    "# Question no 1 { Discount Calculator }\n",
    "\n"
   ]
  },
  {
   "cell_type": "code",
   "execution_count": 31,
   "id": "ed8bf66c-75de-4e3f-b249-6a3229b5e094",
   "metadata": {},
   "outputs": [
    {
     "name": "stdin",
     "output_type": "stream",
     "text": [
      "Enter your total price:  570\n"
     ]
    },
    {
     "name": "stdout",
     "output_type": "stream",
     "text": [
      "Discount Amount:  10%\n",
      "Final Price is: 57.0\n"
     ]
    }
   ],
   "source": [
    "original_price = int(input(\"Enter your total price: \"))\n",
    "\n",
    "if original_price >= 100:\n",
    "     print(\"Discount Amount:  10%\")\n",
    "     final_price = (original_price / 100)*10\n",
    "     print(f\"Final Price is: {final_price}\")\n",
    "    \n",
    "elif original_price >= 50 and original_price <100:\n",
    "    print(\"Discount Amount: 5%\")\n",
    "    final_price = (original_price / 100)*5 \n",
    "    print(f\"Final Price is: {final_price}\")\n",
    "else:\n",
    "     print(\"No Discount!\")"
   ]
  },
  {
   "cell_type": "code",
   "execution_count": 2,
   "id": "85f9b8c8-23ab-457d-9f3d-f96c14b1e1b5",
   "metadata": {},
   "outputs": [],
   "source": [
    "# Question no 2 { ATM Machine Simulator }\n",
    "\n"
   ]
  },
  {
   "cell_type": "code",
   "execution_count": 17,
   "id": "12eaf653-d60d-4017-9165-2ae06e8f5f6a",
   "metadata": {},
   "outputs": [
    {
     "name": "stdin",
     "output_type": "stream",
     "text": [
      "Enter your account_balance:  6000\n",
      "Enter your withdraw_amount:  2000\n"
     ]
    },
    {
     "name": "stdout",
     "output_type": "stream",
     "text": [
      "4000\n"
     ]
    }
   ],
   "source": [
    "account_balance = int(input(\"Enter your account_balance: \"))\n",
    "withdraw_amount = int(input(\"Enter your withdraw_amount: \"))\n",
    "\n",
    "if withdraw_amount > account_balance:\n",
    "    print(\"Insufficient Funds!\")\n",
    "else:\n",
    "    if withdraw_amount % 20 == 0:\n",
    "      remaining_balance = account_balance - withdraw_amount\n",
    "      print(remaining_balance)\n",
    "    else:\n",
    "        print(\"Invalid amount! Please enter a multiple of 20\")\n",
    "    "
   ]
  },
  {
   "cell_type": "code",
   "execution_count": 18,
   "id": "05cd9e10-6014-4643-93f3-4ca85b658094",
   "metadata": {},
   "outputs": [],
   "source": [
    "# Question no 3 { Favourite Colour Picker }\n",
    "\n"
   ]
  },
  {
   "cell_type": "code",
   "execution_count": 45,
   "id": "fb8521c7-406d-48aa-87ca-5b208052d42d",
   "metadata": {},
   "outputs": [
    {
     "name": "stdout",
     "output_type": "stream",
     "text": [
      "1. Red \n",
      "2. Green \n",
      "3. Blue \n",
      "4. Yellow\n"
     ]
    },
    {
     "name": "stdin",
     "output_type": "stream",
     "text": [
      "Enter your favourite colour from the list:  yellow\n"
     ]
    },
    {
     "name": "stdout",
     "output_type": "stream",
     "text": [
      "Great Choice! Yellow is a colour of flowers.\n"
     ]
    }
   ],
   "source": [
    "print(\"1. Red \\n2. Green \\n3. Blue \\n4. Yellow\")\n",
    "\n",
    "pick_colour = input(\"Enter your favourite colour from the list: \").lower()\n",
    "\n",
    "if pick_colour == 'red':\n",
    "    print(\"Great Choice! Red is a bold colour.\")\n",
    "elif pick_colour == 'green':\n",
    "    print(\"Great Choice! Green is a colour of nature.\")\n",
    "elif pick_colour == 'blue':\n",
    "    print(\"Great Choice! Blue is a colour of sky.\")\n",
    "elif pick_colour == 'yellow':\n",
    "    print(\"Great Choice! Yellow is a colour of flowers.\")\n",
    "else:\n",
    "    print(\"Invalid Choice! Please enter from the given list: \\n1. Red \\n2. Green \\n3. Blue \\n4. Yellow\")\n"
   ]
  }
 ],
 "metadata": {
  "kernelspec": {
   "display_name": "Python 3 (ipykernel)",
   "language": "python",
   "name": "python3"
  },
  "language_info": {
   "codemirror_mode": {
    "name": "ipython",
    "version": 3
   },
   "file_extension": ".py",
   "mimetype": "text/x-python",
   "name": "python",
   "nbconvert_exporter": "python",
   "pygments_lexer": "ipython3",
   "version": "3.12.3"
  }
 },
 "nbformat": 4,
 "nbformat_minor": 5
}
