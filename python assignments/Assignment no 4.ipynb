{
 "cells": [
  {
   "cell_type": "code",
   "execution_count": 1,
   "id": "6e0198c7-738c-463f-b05c-0a8850e85781",
   "metadata": {},
   "outputs": [],
   "source": [
    "#Q no 1"
   ]
  },
  {
   "cell_type": "code",
   "execution_count": 32,
   "id": "633c000e-5179-4432-808a-3411fa959dff",
   "metadata": {},
   "outputs": [
    {
     "name": "stdin",
     "output_type": "stream",
     "text": [
      "Enter your age 14\n"
     ]
    },
    {
     "name": "stdout",
     "output_type": "stream",
     "text": [
      "You can watch superhero movies.\n"
     ]
    }
   ],
   "source": [
    "Age = int(input(\"Enter your age\"))\n",
    "if Age < 13:\n",
    "    print(\"You can watch animated movies.\")\n",
    "elif  Age >= 13  and Age <= 17:\n",
    "    print(\"You can watch superhero movies.\")\n",
    "elif Age > 18:\n",
    "    print(\"You can watch PK movie.\")\n",
    "else:\n",
    "    print (\"Invalid! Try Again\")"
   ]
  },
  {
   "cell_type": "code",
   "execution_count": 8,
   "id": "b09174c6-c946-447a-8ef0-0304211b029b",
   "metadata": {},
   "outputs": [],
   "source": [
    "#Q no 2"
   ]
  },
  {
   "cell_type": "code",
   "execution_count": 22,
   "id": "53caf147-5533-42a3-9316-fefc122141e7",
   "metadata": {},
   "outputs": [
    {
     "name": "stdin",
     "output_type": "stream",
     "text": [
      "Enter number1:  22\n",
      "Enter number2:  2\n",
      "+ \n",
      "- \n",
      "* \n",
      "/ \n",
      "Enter Operator:  +\n"
     ]
    },
    {
     "name": "stdout",
     "output_type": "stream",
     "text": [
      "The answer of 22 + 2 = 24\n"
     ]
    }
   ],
   "source": [
    "num1 = int(input(\"Enter number1: \"))\n",
    "num2 = int(input(\"Enter number2: \"))\n",
    "choice = str(input(\"+ \\n- \\n* \\n/ \\nEnter Operator: \"))\n",
    "\n",
    "if choice == \"+\":\n",
    "   Result = num1 + num2\n",
    "   print(f\"The answer of {num1} + {num2} = {Result}\")\n",
    "elif choice == \"-\":\n",
    "   Result = num1 - num2\n",
    "   print(f\"The answer of {num1} - {num2} = {Result}\")\n",
    "elif choice == \"*\":\n",
    "   Result = num1 * num2\n",
    "   print(f\"The answer of {num1} * {num2} = {Result}\")\n",
    "elif choice == \"/\":\n",
    "   Result = num1 / num2\n",
    "   print(f\"The answer of {num1} / {num2} = {Result}\")\n",
    "else:\n",
    "   print (\"Invalid Choice!\")\n"
   ]
  },
  {
   "cell_type": "code",
   "execution_count": 14,
   "id": "7686f468-0923-43b1-b377-9a2b2b6a0339",
   "metadata": {},
   "outputs": [],
   "source": [
    "# Q no 3"
   ]
  },
  {
   "cell_type": "code",
   "execution_count": 16,
   "id": "fb176f48-2e47-4cb0-bcab-902b1a4b5473",
   "metadata": {},
   "outputs": [
    {
     "name": "stdin",
     "output_type": "stream",
     "text": [
      "1:Monday \n",
      "2:Tuesday \n",
      "3:Wednesday \n",
      "4:Thursday \n",
      "5:Friday \n",
      "6:Saturday \n",
      "7:Sunday \n",
      "Enter Day number:  5\n"
     ]
    },
    {
     "name": "stdout",
     "output_type": "stream",
     "text": [
      "Today is a half day\n"
     ]
    }
   ],
   "source": [
    "choice = int(input(\"1:Monday \\n2:Tuesday \\n3:Wednesday \\n4:Thursday \\n5:Friday \\n6:Saturday \\n7:Sunday \\nEnter Day number: \"))\n",
    "if choice == 1:\n",
    "    print(\"Time to get to work\")\n",
    "elif choice == 2:\n",
    "    print(\"Time to get to office\")\n",
    "elif choice == 3:\n",
    "    print(\"Today is the meeting\")\n",
    "elif choice == 4:\n",
    "    print(\"Today is a break day\")\n",
    "elif choice == 5:\n",
    "    print(\"Today is a half day\")\n",
    "elif choice == 6:\n",
    "    print(\"Today is a hactic day\")\n",
    "elif choice == 7:\n",
    "    print(\"Great! its a holiday\")\n",
    "else:\n",
    "    print(\"Invalid choice! Try Again\")"
   ]
  },
  {
   "cell_type": "code",
   "execution_count": 17,
   "id": "12b80e05-823d-426a-a2bb-0d6a984fe678",
   "metadata": {},
   "outputs": [],
   "source": [
    "#Q no 4"
   ]
  },
  {
   "cell_type": "code",
   "execution_count": 19,
   "id": "405fda1c-5197-4b92-84b8-fd70a62ca97f",
   "metadata": {},
   "outputs": [
    {
     "name": "stdin",
     "output_type": "stream",
     "text": [
      "Enter your age 36\n"
     ]
    },
    {
     "name": "stdout",
     "output_type": "stream",
     "text": [
      "You are from Adult Group.\n"
     ]
    }
   ],
   "source": [
    "Age = int(input(\"Enter your age\"))\n",
    "if Age >= 1 and Age <= 12:\n",
    "    print(\"You are from Child Group.\")\n",
    "elif Age >= 13 and Age <= 19:\n",
    "    print(\"You are from Teen Group.\")\n",
    "elif Age >= 20 and Age <= 64:\n",
    "    print(\"You are from Adult Group.\")\n",
    "elif Age >= 64:\n",
    "    print(\"You are Senior.\")\n",
    "else:\n",
    "    print (\"Invalid Age! Try Again\")"
   ]
  },
  {
   "cell_type": "code",
   "execution_count": 20,
   "id": "6a4e5e50-6d91-488a-817c-7fb5782b1438",
   "metadata": {},
   "outputs": [],
   "source": [
    "#Q no 5"
   ]
  },
  {
   "cell_type": "code",
   "execution_count": 25,
   "id": "213ca15c-ed60-46e9-861d-70a99f54a5a6",
   "metadata": {},
   "outputs": [
    {
     "name": "stdin",
     "output_type": "stream",
     "text": [
      "Enter number1:  10\n",
      "Enter number2:  22\n"
     ]
    },
    {
     "name": "stdout",
     "output_type": "stream",
     "text": [
      "10 is less than 22\n"
     ]
    }
   ],
   "source": [
    "n1 = int(input(\"Enter number1: \"))\n",
    "n2 = int(input(\"Enter number2: \"))\n",
    "\n",
    "if n1 > n2:\n",
    "    print(f\"{n1} is greater than {n2}\")\n",
    "if n1 < n2:\n",
    "    print(f\"{n1} is less than {n2}\")\n",
    "else:\n",
    "    print(f\"{n1} is equal to {n2}\")\n"
   ]
  },
  {
   "cell_type": "code",
   "execution_count": 31,
   "id": "568039ea-a7fa-430d-b730-3b7bb536e8ed",
   "metadata": {},
   "outputs": [],
   "source": [
    "# Q no 6"
   ]
  },
  {
   "cell_type": "code",
   "execution_count": 13,
   "id": "5f117066-2d81-4ac1-a228-526cb1dba9df",
   "metadata": {},
   "outputs": [
    {
     "name": "stdin",
     "output_type": "stream",
     "text": [
      "Enter your age\n",
      " 23\n",
      "Enter timeslot (Morning & Evening)\n",
      " evening\n"
     ]
    },
    {
     "name": "stdout",
     "output_type": "stream",
     "text": [
      "Price of your ticket is 12\n"
     ]
    }
   ],
   "source": [
    "# Age = int(input(\"Enter your age\\n\"))\n",
    "# Time = str(input(\"Enter timeslot (Morning & Evening)\\n\"))\n",
    "\n",
    "# if Age < 12:\n",
    "#     price = 5\n",
    "#     if Time == 'evening':\n",
    "#         price = price + 2\n",
    "# elif Age >= 12 and Age < 60:\n",
    "#     price = 10\n",
    "#     if Time == 'evening':\n",
    "#         price = price + 2\n",
    "# else: \n",
    "#     price = 7\n",
    "#     if Time == 'evening':\n",
    "#         price = price + 2\n",
    "\n",
    "# print(f\"Price of your ticket is {price}\")\n",
    "\n",
    "\n",
    "#2nd method:\n",
    "\n",
    "Age = int(input(\"Enter your age\\n\"))\n",
    "Time = str(input(\"Enter timeslot (Morning & Evening)\\n\"))\n",
    "\n",
    "if Age < 12:\n",
    "    price = 5\n",
    "elif Age >= 12 and Age < 60:\n",
    "    price = 10\n",
    "else: \n",
    "    price = 7\n",
    "\n",
    "if Time == 'evening':\n",
    "        price = price + 2\n",
    "elif Time == 'morning':\n",
    "        price == price\n",
    "else:\n",
    "    print(\"Invalid slot\")\n",
    "\n",
    "print(f\"Price of your ticket is {price}\")\n"
   ]
  },
  {
   "cell_type": "code",
   "execution_count": 27,
   "id": "ee0499a1-a84a-4f05-8703-3d25043ba138",
   "metadata": {},
   "outputs": [],
   "source": [
    "# Q no 7"
   ]
  },
  {
   "cell_type": "code",
   "execution_count": 30,
   "id": "0da906fe-1997-46de-b367-d3359cbb0090",
   "metadata": {},
   "outputs": [
    {
     "name": "stdin",
     "output_type": "stream",
     "text": [
      "Enter Letter:  a\n"
     ]
    },
    {
     "name": "stdout",
     "output_type": "stream",
     "text": [
      "Given letter is a consonent\n"
     ]
    }
   ],
   "source": [
    "Letter = str(input(\"Enter Letter: \"))\n",
    "\n",
    "if Letter == \"a,e,i,o,u\":\n",
    "    print(\"Given letter is a vowel\")\n",
    "else:\n",
    "    print(\"Given letter is a consonent\")"
   ]
  },
  {
   "cell_type": "code",
   "execution_count": null,
   "id": "bfa454b3-b59c-484e-bdfb-8fbd9880290f",
   "metadata": {},
   "outputs": [],
   "source": []
  }
 ],
 "metadata": {
  "kernelspec": {
   "display_name": "Python 3 (ipykernel)",
   "language": "python",
   "name": "python3"
  },
  "language_info": {
   "codemirror_mode": {
    "name": "ipython",
    "version": 3
   },
   "file_extension": ".py",
   "mimetype": "text/x-python",
   "name": "python",
   "nbconvert_exporter": "python",
   "pygments_lexer": "ipython3",
   "version": "3.12.3"
  }
 },
 "nbformat": 4,
 "nbformat_minor": 5
}
