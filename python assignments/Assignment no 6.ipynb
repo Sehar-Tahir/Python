{
 "cells": [
  {
   "cell_type": "code",
   "execution_count": 1,
   "id": "57e911d0-b3b6-4850-acb4-e7223082975a",
   "metadata": {},
   "outputs": [],
   "source": [
    "# Question no 1 (Accessing elements)"
   ]
  },
  {
   "cell_type": "code",
   "execution_count": 2,
   "id": "315d48db-4f62-4b19-94df-740ccf77c57c",
   "metadata": {},
   "outputs": [
    {
     "data": {
      "text/plain": [
       "'bird'"
      ]
     },
     "execution_count": 2,
     "metadata": {},
     "output_type": "execute_result"
    }
   ],
   "source": [
    "animals = [\"dog\" , \"cat\" , \"bird\" , \"fish\" , \"hamster\"]\n",
    "animals[2]"
   ]
  },
  {
   "cell_type": "code",
   "execution_count": 3,
   "id": "a05474fa-4b97-4f9b-936f-91c418e0a76b",
   "metadata": {},
   "outputs": [],
   "source": [
    "# Question no 2 (List slicing)"
   ]
  },
  {
   "cell_type": "code",
   "execution_count": 4,
   "id": "065c5a37-036f-446a-92b4-3490abc2519d",
   "metadata": {},
   "outputs": [
    {
     "data": {
      "text/plain": [
       "[2, 3, 4, 5]"
      ]
     },
     "execution_count": 4,
     "metadata": {},
     "output_type": "execute_result"
    }
   ],
   "source": [
    "numbers = [0,1,2,3,4,5,6,7,8,9]\n",
    "numbers[2:6]"
   ]
  },
  {
   "cell_type": "code",
   "execution_count": 5,
   "id": "af412eb2-895c-4818-ae68-d68a6ccb9e2f",
   "metadata": {},
   "outputs": [],
   "source": [
    "# Question no 3 (negative indexing)"
   ]
  },
  {
   "cell_type": "code",
   "execution_count": 6,
   "id": "4a755487-3030-4397-ae26-0c82b8e06b0e",
   "metadata": {},
   "outputs": [
    {
     "data": {
      "text/plain": [
       "'purple'"
      ]
     },
     "execution_count": 6,
     "metadata": {},
     "output_type": "execute_result"
    }
   ],
   "source": [
    "colours = [\"red\" , \"green\" , \"blue\" , \"yellow\" , \"purple\" ]\n",
    "colours[-1]"
   ]
  },
  {
   "cell_type": "code",
   "execution_count": 7,
   "id": "47b0877a-9143-4078-ab62-027fa298dc00",
   "metadata": {},
   "outputs": [],
   "source": [
    "# Question no 4 (List Length)"
   ]
  },
  {
   "cell_type": "code",
   "execution_count": 9,
   "id": "fe381046-6912-4e8f-86d8-f92d51c10ec9",
   "metadata": {},
   "outputs": [
    {
     "data": {
      "text/plain": [
       "4"
      ]
     },
     "execution_count": 9,
     "metadata": {},
     "output_type": "execute_result"
    }
   ],
   "source": [
    "seasons =  [\"spring\", \"summer\" , \"autumn\", \"winter\"]\n",
    "len(seasons)"
   ]
  },
  {
   "cell_type": "code",
   "execution_count": 10,
   "id": "2aed000e-77a0-4a04-bc79-5aa0ec70d6a1",
   "metadata": {},
   "outputs": [],
   "source": [
    "# Question no 5 (Adding Items)"
   ]
  },
  {
   "cell_type": "code",
   "execution_count": 12,
   "id": "7ea5f164-f50a-4bfe-bc9a-d4252d767047",
   "metadata": {},
   "outputs": [
    {
     "data": {
      "text/plain": [
       "['reading', 'painting', 'gardening']"
      ]
     },
     "execution_count": 12,
     "metadata": {},
     "output_type": "execute_result"
    }
   ],
   "source": [
    "hobbies = [ \"reading\" , \"painting\" ]\n",
    "hobbies.append(\"gardening\")\n",
    "hobbies"
   ]
  },
  {
   "cell_type": "code",
   "execution_count": 13,
   "id": "dfb394b0-c2d5-4eee-aab1-0fad59f55eb5",
   "metadata": {},
   "outputs": [],
   "source": [
    "# Question no 6 (Removing Items)"
   ]
  },
  {
   "cell_type": "code",
   "execution_count": 14,
   "id": "774bed35-4165-49f2-808f-ce0d49635527",
   "metadata": {},
   "outputs": [
    {
     "data": {
      "text/plain": [
       "['A', 'B', 'C', 'E']"
      ]
     },
     "execution_count": 14,
     "metadata": {},
     "output_type": "execute_result"
    }
   ],
   "source": [
    "grades = [ \"A\" , \"B\", \"C\", \"D\", \"E\" ]\n",
    "grades.remove(\"D\")\n",
    "grades"
   ]
  },
  {
   "cell_type": "code",
   "execution_count": 15,
   "id": "ff47afeb-271b-49e6-9498-cb7fdbc86ab5",
   "metadata": {},
   "outputs": [],
   "source": [
    "# Question no 7 (Inserting Items)"
   ]
  },
  {
   "cell_type": "code",
   "execution_count": 16,
   "id": "7b130e0e-78c5-4358-b3b3-8c6f14e10462",
   "metadata": {},
   "outputs": [
    {
     "data": {
      "text/plain": [
       "['Mercury', 'Venus', 'jupiter', 'Earth', 'Mars']"
      ]
     },
     "execution_count": 16,
     "metadata": {},
     "output_type": "execute_result"
    }
   ],
   "source": [
    "planets = [\"Mercury\" , \"Venus\" , \"Earth\" , \"Mars\" ]\n",
    "planets.insert( 2, \"jupiter\")\n",
    "planets"
   ]
  },
  {
   "cell_type": "code",
   "execution_count": 17,
   "id": "da04c488-7b19-44e2-84d3-d5d7baa85d40",
   "metadata": {},
   "outputs": [],
   "source": [
    "# Question no 8 (List Concatenation)"
   ]
  },
  {
   "cell_type": "code",
   "execution_count": 18,
   "id": "c329c43b-5d9c-488c-8c0c-05e8a737f7a5",
   "metadata": {},
   "outputs": [
    {
     "data": {
      "text/plain": [
       "[1, 2, 3, 4, 5, 6]"
      ]
     },
     "execution_count": 18,
     "metadata": {},
     "output_type": "execute_result"
    }
   ],
   "source": [
    "list1 = [1,2,3] \n",
    "list2 = [4,5,6]\n",
    "list1.extend(list2)\n",
    "list1"
   ]
  },
  {
   "cell_type": "code",
   "execution_count": 19,
   "id": "5d6f0527-ac73-4f93-b352-8e886d67925b",
   "metadata": {},
   "outputs": [],
   "source": [
    "# Question no 9 (List Repetition)"
   ]
  },
  {
   "cell_type": "code",
   "execution_count": 21,
   "id": "9a5cb4e4-b761-4c9b-9573-f50a9731d26b",
   "metadata": {},
   "outputs": [
    {
     "data": {
      "text/plain": [
       "['echo', 'echo', 'echo']"
      ]
     },
     "execution_count": 21,
     "metadata": {},
     "output_type": "execute_result"
    }
   ],
   "source": [
    "repeat_list = [\"echo\"]\n",
    "repeat_list * 3"
   ]
  }
 ],
 "metadata": {
  "kernelspec": {
   "display_name": "Python 3 (ipykernel)",
   "language": "python",
   "name": "python3"
  },
  "language_info": {
   "codemirror_mode": {
    "name": "ipython",
    "version": 3
   },
   "file_extension": ".py",
   "mimetype": "text/x-python",
   "name": "python",
   "nbconvert_exporter": "python",
   "pygments_lexer": "ipython3",
   "version": "3.12.3"
  }
 },
 "nbformat": 4,
 "nbformat_minor": 5
}
