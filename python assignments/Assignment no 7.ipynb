{
 "cells": [
  {
   "cell_type": "code",
   "execution_count": 1,
   "id": "a84b7415-0b5c-46ff-8fa2-9a5d3a1a922b",
   "metadata": {},
   "outputs": [],
   "source": [
    "# 1 & 2"
   ]
  },
  {
   "cell_type": "code",
   "execution_count": 7,
   "id": "adb020e8-92b5-4dc1-9dfa-a68c2b14b2e4",
   "metadata": {},
   "outputs": [
    {
     "data": {
      "text/plain": [
       "'banana'"
      ]
     },
     "execution_count": 7,
     "metadata": {},
     "output_type": "execute_result"
    }
   ],
   "source": [
    "tuple = (\"apple\", \"banana\", \"cherry\")\n",
    "tuple[1]"
   ]
  },
  {
   "cell_type": "code",
   "execution_count": 6,
   "id": "e43b4ade-7d21-4f83-ac79-6e303f1578f2",
   "metadata": {},
   "outputs": [],
   "source": [
    "# 3 & 4"
   ]
  },
  {
   "cell_type": "code",
   "execution_count": 8,
   "id": "74865423-3a1a-4451-84c0-69cabff4539a",
   "metadata": {},
   "outputs": [
    {
     "data": {
      "text/plain": [
       "5"
      ]
     },
     "execution_count": 8,
     "metadata": {},
     "output_type": "execute_result"
    }
   ],
   "source": [
    "numbers = (1,2,3,4,5)\n",
    "len(numbers)"
   ]
  },
  {
   "cell_type": "code",
   "execution_count": 10,
   "id": "9b51b9e7-0a7f-4d35-9e82-c754b77088e9",
   "metadata": {},
   "outputs": [
    {
     "data": {
      "text/plain": [
       "'hello'"
      ]
     },
     "execution_count": 10,
     "metadata": {},
     "output_type": "execute_result"
    }
   ],
   "source": [
    "# 5 & 6\n",
    "mixed_tuple = (\"hello\" , 123, 3.14)\n",
    "mixed_tuple[0]"
   ]
  },
  {
   "cell_type": "code",
   "execution_count": null,
   "id": "6974aa70-32bf-4a54-9a16-b4702ceafc27",
   "metadata": {},
   "outputs": [],
   "source": [
    "# 7 & 8"
   ]
  },
  {
   "cell_type": "code",
   "execution_count": 14,
   "id": "08b35eca-43a2-4d88-a081-1223dbd53964",
   "metadata": {},
   "outputs": [
    {
     "data": {
      "text/plain": [
       "'blue'"
      ]
     },
     "execution_count": 14,
     "metadata": {},
     "output_type": "execute_result"
    }
   ],
   "source": [
    "colours = (\"red\", \"green\" , \"blue\")\n",
    "colours[-1]"
   ]
  },
  {
   "cell_type": "code",
   "execution_count": 12,
   "id": "f4b10033-4a3b-4411-b52d-04635ea95fbf",
   "metadata": {},
   "outputs": [],
   "source": [
    "# 9 & 10"
   ]
  },
  {
   "cell_type": "code",
   "execution_count": 39,
   "id": "7233065d-7fea-4ef3-84ed-17cdccec304e",
   "metadata": {},
   "outputs": [
    {
     "name": "stdout",
     "output_type": "stream",
     "text": [
      "Name of Student 1 is john and his age is 20\n",
      "Name of Student 2 is Alice and his age is 22\n",
      "Name of Student 3 is Bob and his age is 21\n"
     ]
    }
   ],
   "source": [
    "students = ((\"john\", 20, \"Math\"),(\"Alice\", 22, \"Science\"),(\"Bob\", 21, \"History\"))\n",
    "name1, age1, _ = students[0]\n",
    "name2, age2, _ = students[1]\n",
    "name3, age3, _ = students[2]\n",
    "\n",
    "print(f\"Name of Student 1 is {name1} and his age is {age1}\")\n",
    "print(f\"Name of Student 2 is {name2} and his age is {age2}\")\n",
    "print(f\"Name of Student 3 is {name3} and his age is {age3}\")\n"
   ]
  },
  {
   "cell_type": "code",
   "execution_count": 17,
   "id": "cd621072-df24-4604-b98b-a96dd349e5bd",
   "metadata": {},
   "outputs": [],
   "source": [
    "# 11 & 12"
   ]
  },
  {
   "cell_type": "code",
   "execution_count": 19,
   "id": "9e431261-8a2a-4c60-b9bf-5a7ad2f406a2",
   "metadata": {},
   "outputs": [
    {
     "data": {
      "text/plain": [
       "88"
      ]
     },
     "execution_count": 19,
     "metadata": {},
     "output_type": "execute_result"
    }
   ],
   "source": [
    "grades = ((80,90,70),(95,88,92),(78,85,90))\n",
    "grades[1][1]"
   ]
  },
  {
   "cell_type": "code",
   "execution_count": 20,
   "id": "1b576c22-fb11-431b-b893-e062eae7c64e",
   "metadata": {},
   "outputs": [],
   "source": [
    "# 13 & 14"
   ]
  },
  {
   "cell_type": "code",
   "execution_count": 21,
   "id": "1e754811-8d94-45c2-8c80-32f1e469dc68",
   "metadata": {},
   "outputs": [
    {
     "data": {
      "text/plain": [
       "(3, 4, 5)"
      ]
     },
     "execution_count": 21,
     "metadata": {},
     "output_type": "execute_result"
    }
   ],
   "source": [
    "data = (1,2,3,4,5,7,8,9)\n",
    "data [2:5]"
   ]
  },
  {
   "cell_type": "code",
   "execution_count": 22,
   "id": "9af52a0a-7a45-434c-9cee-86ebabe14ca5",
   "metadata": {},
   "outputs": [],
   "source": [
    "# 15 & 16"
   ]
  },
  {
   "cell_type": "code",
   "execution_count": 23,
   "id": "5b5e6184-fa25-4607-b85c-f1c0c752832f",
   "metadata": {},
   "outputs": [
    {
     "data": {
      "text/plain": [
       "2"
      ]
     },
     "execution_count": 23,
     "metadata": {},
     "output_type": "execute_result"
    }
   ],
   "source": [
    "names = (\"John\", \"Alice\" ,\"Bob\", \"Eve\", \"Charlie\")\n",
    "names.index(\"Bob\")"
   ]
  }
 ],
 "metadata": {
  "kernelspec": {
   "display_name": "Python 3 (ipykernel)",
   "language": "python",
   "name": "python3"
  },
  "language_info": {
   "codemirror_mode": {
    "name": "ipython",
    "version": 3
   },
   "file_extension": ".py",
   "mimetype": "text/x-python",
   "name": "python",
   "nbconvert_exporter": "python",
   "pygments_lexer": "ipython3",
   "version": "3.12.3"
  }
 },
 "nbformat": 4,
 "nbformat_minor": 5
}
