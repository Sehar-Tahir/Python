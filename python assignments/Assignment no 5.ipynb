{
 "cells": [
  {
   "cell_type": "code",
   "execution_count": 3,
   "id": "2163aeb5-1090-4cf1-b221-53a6c5a8dc3d",
   "metadata": {},
   "outputs": [
    {
     "data": {
      "text/plain": [
       "'sehar tahir'"
      ]
     },
     "execution_count": 3,
     "metadata": {},
     "output_type": "execute_result"
    }
   ],
   "source": [
    "#01\n",
    "name = 'Sehar Tahir'\n",
    "name.lower()"
   ]
  },
  {
   "cell_type": "code",
   "execution_count": 4,
   "id": "28e34b5f-2b27-407d-b4fd-c09f741699c9",
   "metadata": {},
   "outputs": [
    {
     "data": {
      "text/plain": [
       "'SEHAR TAHIR'"
      ]
     },
     "execution_count": 4,
     "metadata": {},
     "output_type": "execute_result"
    }
   ],
   "source": [
    "#02\n",
    "name = 'sehar tahir'\n",
    "name.upper()"
   ]
  },
  {
   "cell_type": "code",
   "execution_count": 5,
   "id": "062a9048-17bc-40d4-b7ec-6e7eeffa6995",
   "metadata": {},
   "outputs": [
    {
     "data": {
      "text/plain": [
       "'My name is Sehar Tahir'"
      ]
     },
     "execution_count": 5,
     "metadata": {},
     "output_type": "execute_result"
    }
   ],
   "source": [
    "#03\n",
    "name = '     My name is Sehar Tahir     '\n",
    "name.strip()"
   ]
  },
  {
   "cell_type": "code",
   "execution_count": 47,
   "id": "d448c5c4-9010-4c90-afbe-8724277f2d5e",
   "metadata": {},
   "outputs": [
    {
     "data": {
      "text/plain": [
       "'My name is Sehar Tahir. I am a student of BS IT'"
      ]
     },
     "execution_count": 47,
     "metadata": {},
     "output_type": "execute_result"
    }
   ],
   "source": [
    "#04\n",
    "name = 'My name is Sehar Tahir. I am a student of IT'\n",
    "name.replace(\"IT\" , \"BS IT\")"
   ]
  },
  {
   "cell_type": "code",
   "execution_count": 8,
   "id": "0b688c53-9bec-4cf7-9be7-1dd21e648404",
   "metadata": {},
   "outputs": [
    {
     "data": {
      "text/plain": [
       "['My', 'name', 'is', 'Sehar', 'Tahir.', 'I', 'am', 'a', 'student', 'of', 'IT']"
      ]
     },
     "execution_count": 8,
     "metadata": {},
     "output_type": "execute_result"
    }
   ],
   "source": [
    "#05\n",
    "name = 'My name is Sehar Tahir. I am a student of IT'\n",
    "name.split()"
   ]
  },
  {
   "cell_type": "code",
   "execution_count": 17,
   "id": "a1ca1528-0741-46d7-be77-c65efc462334",
   "metadata": {},
   "outputs": [
    {
     "data": {
      "text/plain": [
       "'My name is Sehar Tahir.I am a student of IT.'"
      ]
     },
     "execution_count": 17,
     "metadata": {},
     "output_type": "execute_result"
    }
   ],
   "source": [
    "#06\n",
    "name = 'y name is Sehar Tahir.I am a student of IT'\n",
    "name.join(\"M.\")"
   ]
  },
  {
   "cell_type": "code",
   "execution_count": 18,
   "id": "8c119e4f-cef9-49b1-a70d-52d9c756b64e",
   "metadata": {},
   "outputs": [
    {
     "data": {
      "text/plain": [
       "4"
      ]
     },
     "execution_count": 18,
     "metadata": {},
     "output_type": "execute_result"
    }
   ],
   "source": [
    "#07\n",
    "name = 'My name is Sehar Tahir. I am a student of IT'\n",
    "name.find(\"a\")"
   ]
  },
  {
   "cell_type": "code",
   "execution_count": 19,
   "id": "923519b8-b8db-4e7a-89cb-3a855cef050b",
   "metadata": {},
   "outputs": [
    {
     "data": {
      "text/plain": [
       "1"
      ]
     },
     "execution_count": 19,
     "metadata": {},
     "output_type": "execute_result"
    }
   ],
   "source": [
    "#08\n",
    "name = 'My name is Sehar Tahir. I am a student of IT'\n",
    "name.count(\"is\")"
   ]
  },
  {
   "cell_type": "code",
   "execution_count": 25,
   "id": "b3a99086-614f-4acf-99ae-482dcef592cc",
   "metadata": {},
   "outputs": [
    {
     "data": {
      "text/plain": [
       "True"
      ]
     },
     "execution_count": 25,
     "metadata": {},
     "output_type": "execute_result"
    }
   ],
   "source": [
    "#09\n",
    "name = 'My name is Sehar Tahir. I am a student of IT'\n",
    "name.startswith(\"My\")"
   ]
  },
  {
   "cell_type": "code",
   "execution_count": 27,
   "id": "c75f5193-f793-4d60-89cd-0bfdf7550b54",
   "metadata": {},
   "outputs": [
    {
     "data": {
      "text/plain": [
       "True"
      ]
     },
     "execution_count": 27,
     "metadata": {},
     "output_type": "execute_result"
    }
   ],
   "source": [
    "#10\n",
    "name = 'My name is Sehar Tahir. I am a student of IT'\n",
    "name.endswith(\"IT\")"
   ]
  },
  {
   "cell_type": "code",
   "execution_count": 28,
   "id": "7efa83eb-e691-42e5-8e2d-e0fced91725e",
   "metadata": {},
   "outputs": [
    {
     "data": {
      "text/plain": [
       "'My Name Is Sehar Tahir. I Am A Student Of It'"
      ]
     },
     "execution_count": 28,
     "metadata": {},
     "output_type": "execute_result"
    }
   ],
   "source": [
    "#11\n",
    "name = 'My name is Sehar Tahir. I am a student of IT'\n",
    "name.title()"
   ]
  },
  {
   "cell_type": "code",
   "execution_count": 29,
   "id": "a820a100-62f4-4113-a671-7404e4b5e135",
   "metadata": {},
   "outputs": [
    {
     "data": {
      "text/plain": [
       "'mY NAME IS sEHAR tAHIR. i AM A STUDENT OF it'"
      ]
     },
     "execution_count": 29,
     "metadata": {},
     "output_type": "execute_result"
    }
   ],
   "source": [
    "#12\n",
    "name = 'My name is Sehar Tahir. I am a student of IT'\n",
    "name.swapcase()"
   ]
  },
  {
   "cell_type": "code",
   "execution_count": 45,
   "id": "9f3155e5-2cd9-44bf-bff5-22a645dc424b",
   "metadata": {},
   "outputs": [
    {
     "data": {
      "text/plain": [
       "'My name is Sehar Tahir. I am a student of IT     '"
      ]
     },
     "execution_count": 45,
     "metadata": {},
     "output_type": "execute_result"
    }
   ],
   "source": [
    "#13\n",
    "name = '      My name is Sehar Tahir. I am a student of IT     '\n",
    "name.lstrip()"
   ]
  },
  {
   "cell_type": "code",
   "execution_count": 33,
   "id": "ea59753a-ee15-40ea-96cb-ec3c94fe0124",
   "metadata": {},
   "outputs": [
    {
     "data": {
      "text/plain": [
       "'      My name is Sehar Tahir. I am a student of IT'"
      ]
     },
     "execution_count": 33,
     "metadata": {},
     "output_type": "execute_result"
    }
   ],
   "source": [
    "#14\n",
    "name = '      My name is Sehar Tahir. I am a student of IT     '\n",
    "name.rstrip()"
   ]
  },
  {
   "cell_type": "code",
   "execution_count": 42,
   "id": "50fec61a-b8f2-4ab4-bd20-3bd85e89a528",
   "metadata": {},
   "outputs": [
    {
     "data": {
      "text/plain": [
       "4"
      ]
     },
     "execution_count": 42,
     "metadata": {},
     "output_type": "execute_result"
    }
   ],
   "source": [
    "#15\n",
    "name = 'My name is Sehar Tahir. I am a student of IT'\n",
    "name.index(\"a\")"
   ]
  }
 ],
 "metadata": {
  "kernelspec": {
   "display_name": "Python 3 (ipykernel)",
   "language": "python",
   "name": "python3"
  },
  "language_info": {
   "codemirror_mode": {
    "name": "ipython",
    "version": 3
   },
   "file_extension": ".py",
   "mimetype": "text/x-python",
   "name": "python",
   "nbconvert_exporter": "python",
   "pygments_lexer": "ipython3",
   "version": "3.12.3"
  }
 },
 "nbformat": 4,
 "nbformat_minor": 5
}
