{
 "cells": [
  {
   "cell_type": "markdown",
   "id": "70f66604-0fd6-485a-b74e-56224223e551",
   "metadata": {},
   "source": [
    "# Sets"
   ]
  },
  {
   "cell_type": "code",
   "execution_count": 5,
   "id": "3ac6d794-f5e6-4b2d-a8b8-5997f15a122d",
   "metadata": {},
   "outputs": [],
   "source": [
    "#  1 & 2"
   ]
  },
  {
   "cell_type": "code",
   "execution_count": 6,
   "id": "71b5038d-feed-4a79-8169-d98292062dda",
   "metadata": {},
   "outputs": [
    {
     "data": {
      "text/plain": [
       "{'apple', 'banana', 'cherry', 'orange'}"
      ]
     },
     "execution_count": 6,
     "metadata": {},
     "output_type": "execute_result"
    }
   ],
   "source": [
    "fruits = {\"apple\" ,\"banana\",\"cherry\"}\n",
    "fruits.add(\"orange\")\n",
    "fruits"
   ]
  },
  {
   "cell_type": "code",
   "execution_count": null,
   "id": "a1dec245-dd77-43df-aa08-73b5dc8aca70",
   "metadata": {},
   "outputs": [],
   "source": [
    "# 3"
   ]
  },
  {
   "cell_type": "code",
   "execution_count": 10,
   "id": "afa67986-5ad8-46b4-944b-f2288a739b55",
   "metadata": {},
   "outputs": [
    {
     "data": {
      "text/plain": [
       "{'apple', 'cherry'}"
      ]
     },
     "execution_count": 10,
     "metadata": {},
     "output_type": "execute_result"
    }
   ],
   "source": [
    "fruits = {\"apple\" ,\"banana\",\"cherry\"}\n",
    "fruits.remove(\"banana\")\n",
    "fruits"
   ]
  },
  {
   "cell_type": "code",
   "execution_count": 34,
   "id": "bb7642a0-3a70-4fbb-90d6-497439c1b741",
   "metadata": {},
   "outputs": [],
   "source": [
    "# 4"
   ]
  },
  {
   "cell_type": "code",
   "execution_count": 35,
   "id": "46fc72b8-105b-45e0-a675-0109e09a2c46",
   "metadata": {},
   "outputs": [
    {
     "data": {
      "text/plain": [
       "True"
      ]
     },
     "execution_count": 35,
     "metadata": {},
     "output_type": "execute_result"
    }
   ],
   "source": [
    "fruits = {\"apple\" ,\"banana\",\"cherry\"}\n",
    "\"apple\" in fruits"
   ]
  },
  {
   "cell_type": "code",
   "execution_count": 14,
   "id": "e11819b2-38cf-4197-9a93-577dc536e49b",
   "metadata": {},
   "outputs": [],
   "source": [
    "#  5 & 6"
   ]
  },
  {
   "cell_type": "code",
   "execution_count": 15,
   "id": "6229b045-f98c-4e8c-9554-c60e018cacd2",
   "metadata": {},
   "outputs": [
    {
     "data": {
      "text/plain": [
       "5"
      ]
     },
     "execution_count": 15,
     "metadata": {},
     "output_type": "execute_result"
    }
   ],
   "source": [
    "numbers = {1,2,3,4,5}\n",
    "len(numbers)"
   ]
  },
  {
   "cell_type": "code",
   "execution_count": 16,
   "id": "bb000295-fb47-411c-975e-75a2866c87b8",
   "metadata": {},
   "outputs": [],
   "source": [
    "#  7 & 8"
   ]
  },
  {
   "cell_type": "code",
   "execution_count": 17,
   "id": "91549b57-ea8f-4bc6-ac47-274456ed216d",
   "metadata": {},
   "outputs": [
    {
     "data": {
      "text/plain": [
       "{'blue', 'green', 'red'}"
      ]
     },
     "execution_count": 17,
     "metadata": {},
     "output_type": "execute_result"
    }
   ],
   "source": [
    "colours = {\"red\" , \"green\" , \"blue\"}\n",
    "newset = colours.copy()\n",
    "newset"
   ]
  },
  {
   "cell_type": "markdown",
   "id": "b565c0c9-9224-4c9d-97c2-11ba86b8719e",
   "metadata": {},
   "source": [
    "# Dictionary"
   ]
  },
  {
   "cell_type": "code",
   "execution_count": 18,
   "id": "4bfc33e7-4c01-4853-a213-f9cdff4d4b44",
   "metadata": {},
   "outputs": [],
   "source": [
    "# 1 & 2"
   ]
  },
  {
   "cell_type": "code",
   "execution_count": 21,
   "id": "51c6c079-022f-41f3-93df-309ac8c0d502",
   "metadata": {},
   "outputs": [
    {
     "data": {
      "text/plain": [
       "{'name': 'john', 'age': 25, 'city': 'newyork', 'country': 'USA'}"
      ]
     },
     "execution_count": 21,
     "metadata": {},
     "output_type": "execute_result"
    }
   ],
   "source": [
    "person = {\"name\":\"john\" , \"age\":25 , \"city\":\"newyork\"}\n",
    "person.update({\"country\":\"USA\"})\n",
    "person"
   ]
  },
  {
   "cell_type": "code",
   "execution_count": 22,
   "id": "6bc0678d-f587-46ae-a71b-fe523d6065b0",
   "metadata": {},
   "outputs": [],
   "source": [
    "# 3"
   ]
  },
  {
   "cell_type": "code",
   "execution_count": 24,
   "id": "a99b8809-6c97-49ac-b8c4-3f37871c224c",
   "metadata": {},
   "outputs": [
    {
     "data": {
      "text/plain": [
       "'john'"
      ]
     },
     "execution_count": 24,
     "metadata": {},
     "output_type": "execute_result"
    }
   ],
   "source": [
    "person[\"name\"]"
   ]
  },
  {
   "cell_type": "code",
   "execution_count": 25,
   "id": "fd966e9b-4eb4-4672-9604-d059059f58f3",
   "metadata": {},
   "outputs": [],
   "source": [
    "# 4"
   ]
  },
  {
   "cell_type": "code",
   "execution_count": 26,
   "id": "8cda4379-041c-4393-a030-619e90ec0f6b",
   "metadata": {},
   "outputs": [
    {
     "data": {
      "text/plain": [
       "{'name': 'john', 'age': 30, 'city': 'newyork'}"
      ]
     },
     "execution_count": 26,
     "metadata": {},
     "output_type": "execute_result"
    }
   ],
   "source": [
    "person = {\"name\":\"john\" , \"age\":25 , \"city\":\"newyork\"}\n",
    "person.update({\"age\":30})\n",
    "person"
   ]
  },
  {
   "cell_type": "code",
   "execution_count": 27,
   "id": "4fb66344-7303-43d3-81c6-edc46fca8828",
   "metadata": {},
   "outputs": [],
   "source": [
    "# 5"
   ]
  },
  {
   "cell_type": "code",
   "execution_count": 28,
   "id": "854d1ceb-5774-49a2-863e-cb9095ba9f72",
   "metadata": {},
   "outputs": [
    {
     "data": {
      "text/plain": [
       "dict_keys(['name', 'age', 'city'])"
      ]
     },
     "execution_count": 28,
     "metadata": {},
     "output_type": "execute_result"
    }
   ],
   "source": [
    "person.keys()"
   ]
  },
  {
   "cell_type": "code",
   "execution_count": 29,
   "id": "4ed0fed7-4e43-47cb-831f-bd795357bccc",
   "metadata": {},
   "outputs": [],
   "source": [
    "# 6"
   ]
  },
  {
   "cell_type": "code",
   "execution_count": 30,
   "id": "a2f07bbe-fc39-4e22-a452-2785cf7adb9b",
   "metadata": {},
   "outputs": [
    {
     "data": {
      "text/plain": [
       "dict_values(['john', 30, 'newyork'])"
      ]
     },
     "execution_count": 30,
     "metadata": {},
     "output_type": "execute_result"
    }
   ],
   "source": [
    "person.values()"
   ]
  },
  {
   "cell_type": "code",
   "execution_count": 31,
   "id": "b2bc2506-a31a-4ef6-a420-af34a22f27db",
   "metadata": {},
   "outputs": [],
   "source": [
    "# 7 & 8"
   ]
  },
  {
   "cell_type": "code",
   "execution_count": 33,
   "id": "bcd7c8e2-bd05-4382-b6e8-fcff870e7e72",
   "metadata": {},
   "outputs": [
    {
     "data": {
      "text/plain": [
       "90"
      ]
     },
     "execution_count": 33,
     "metadata": {},
     "output_type": "execute_result"
    }
   ],
   "source": [
    "student = {\"name\":\"Alice\" , \"grade\":90 , \"subject\":\"Math\"}\n",
    "student.get(\"grade\")"
   ]
  }
 ],
 "metadata": {
  "kernelspec": {
   "display_name": "Python 3 (ipykernel)",
   "language": "python",
   "name": "python3"
  },
  "language_info": {
   "codemirror_mode": {
    "name": "ipython",
    "version": 3
   },
   "file_extension": ".py",
   "mimetype": "text/x-python",
   "name": "python",
   "nbconvert_exporter": "python",
   "pygments_lexer": "ipython3",
   "version": "3.12.3"
  }
 },
 "nbformat": 4,
 "nbformat_minor": 5
}
