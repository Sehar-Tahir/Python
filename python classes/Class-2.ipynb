{
 "cells": [
  {
   "cell_type": "code",
   "execution_count": 1,
   "id": "8abb8ddb-19d9-4db5-a58a-5a1dcc2a801f",
   "metadata": {},
   "outputs": [],
   "source": [
    "# variables\n",
    "age = 20\n",
    "num = 234567890234567"
   ]
  },
  {
   "cell_type": "code",
   "execution_count": 2,
   "id": "ca35410e-2286-47cf-949f-4c6181e11a94",
   "metadata": {},
   "outputs": [
    {
     "data": {
      "text/plain": [
       "20"
      ]
     },
     "execution_count": 2,
     "metadata": {},
     "output_type": "execute_result"
    }
   ],
   "source": [
    "age"
   ]
  },
  {
   "cell_type": "code",
   "execution_count": 3,
   "id": "025c7d85-11ca-4ce6-b62e-ecae8da3190c",
   "metadata": {},
   "outputs": [
    {
     "data": {
      "text/plain": [
       "234567890234567"
      ]
     },
     "execution_count": 3,
     "metadata": {},
     "output_type": "execute_result"
    }
   ],
   "source": [
    "num"
   ]
  },
  {
   "cell_type": "code",
   "execution_count": 4,
   "id": "2b4b2ec7-6f4b-425a-aa15-6c19da93d4f1",
   "metadata": {},
   "outputs": [],
   "source": [
    "Age = 21\n",
    "Num = 678954"
   ]
  },
  {
   "cell_type": "code",
   "execution_count": 5,
   "id": "ab78ad5b-39ee-407d-88cb-c9c7ea147a42",
   "metadata": {},
   "outputs": [
    {
     "data": {
      "text/plain": [
       "21"
      ]
     },
     "execution_count": 5,
     "metadata": {},
     "output_type": "execute_result"
    }
   ],
   "source": [
    "Age"
   ]
  },
  {
   "cell_type": "code",
   "execution_count": 6,
   "id": "200356d1-3d06-4684-b36b-026964d86048",
   "metadata": {},
   "outputs": [
    {
     "data": {
      "text/plain": [
       "678954"
      ]
     },
     "execution_count": 6,
     "metadata": {},
     "output_type": "execute_result"
    }
   ],
   "source": [
    "Num"
   ]
  },
  {
   "cell_type": "code",
   "execution_count": 7,
   "id": "fe47d1b8-fe4d-4c8f-9c04-b369f6ccd3c0",
   "metadata": {},
   "outputs": [
    {
     "data": {
      "text/plain": [
       "140713955105816"
      ]
     },
     "execution_count": 7,
     "metadata": {},
     "output_type": "execute_result"
    }
   ],
   "source": [
    "id(age)"
   ]
  },
  {
   "cell_type": "code",
   "execution_count": 8,
   "id": "c6116e4f-7a2b-4808-a106-e2d851eb7d5e",
   "metadata": {},
   "outputs": [
    {
     "data": {
      "text/plain": [
       "140713955105848"
      ]
     },
     "execution_count": 8,
     "metadata": {},
     "output_type": "execute_result"
    }
   ],
   "source": [
    "id(Age)"
   ]
  },
  {
   "cell_type": "code",
   "execution_count": 15,
   "id": "e99e0a2b-0dde-4edc-a51f-99e299f82b7a",
   "metadata": {},
   "outputs": [],
   "source": [
    "num1 = 10\n",
    "num2 = 20\n",
    "add_result = num1+num2"
   ]
  },
  {
   "cell_type": "code",
   "execution_count": 16,
   "id": "50897acd-9ce2-4b80-a410-4fedb7f51941",
   "metadata": {},
   "outputs": [
    {
     "data": {
      "text/plain": [
       "30"
      ]
     },
     "execution_count": 16,
     "metadata": {},
     "output_type": "execute_result"
    }
   ],
   "source": [
    "add_result"
   ]
  },
  {
   "cell_type": "code",
   "execution_count": 17,
   "id": "78da9c44-cf8a-4a10-8127-c09238d2a13f",
   "metadata": {},
   "outputs": [
    {
     "data": {
      "text/plain": [
       "int"
      ]
     },
     "execution_count": 17,
     "metadata": {},
     "output_type": "execute_result"
    }
   ],
   "source": [
    "type(age)"
   ]
  },
  {
   "cell_type": "code",
   "execution_count": 18,
   "id": "15c935c0-78cb-4fc3-9da2-56b1a0bd3c5a",
   "metadata": {},
   "outputs": [],
   "source": [
    "#float data type\n",
    "weight = 89.5"
   ]
  },
  {
   "cell_type": "code",
   "execution_count": 19,
   "id": "7d1f113e-e643-44ff-8620-4c3020b26338",
   "metadata": {},
   "outputs": [
    {
     "data": {
      "text/plain": [
       "float"
      ]
     },
     "execution_count": 19,
     "metadata": {},
     "output_type": "execute_result"
    }
   ],
   "source": [
    "type(weight)"
   ]
  },
  {
   "cell_type": "code",
   "execution_count": 22,
   "id": "ef136f3c-d2de-4d4a-80f4-e49d983eaf38",
   "metadata": {},
   "outputs": [
    {
     "data": {
      "text/plain": [
       "bool"
      ]
     },
     "execution_count": 22,
     "metadata": {},
     "output_type": "execute_result"
    }
   ],
   "source": [
    "#bool data type\n",
    "boll = True\n",
    "type(boll)"
   ]
  },
  {
   "cell_type": "code",
   "execution_count": 23,
   "id": "0edee8e7-39c5-48dc-9303-016a7fea514e",
   "metadata": {},
   "outputs": [
    {
     "data": {
      "text/plain": [
       "bool"
      ]
     },
     "execution_count": 23,
     "metadata": {},
     "output_type": "execute_result"
    }
   ],
   "source": [
    "boll1 = False\n",
    "type(boll1)"
   ]
  },
  {
   "cell_type": "code",
   "execution_count": 24,
   "id": "cda886df-02a6-4248-bb3c-a5d3230c1cc1",
   "metadata": {},
   "outputs": [
    {
     "data": {
      "text/plain": [
       "1"
      ]
     },
     "execution_count": 24,
     "metadata": {},
     "output_type": "execute_result"
    }
   ],
   "source": [
    "boll + boll1"
   ]
  },
  {
   "cell_type": "code",
   "execution_count": 25,
   "id": "ad327f08-70e4-4e96-b20b-7b2888b70c91",
   "metadata": {},
   "outputs": [
    {
     "data": {
      "text/plain": [
       "2"
      ]
     },
     "execution_count": 25,
     "metadata": {},
     "output_type": "execute_result"
    }
   ],
   "source": [
    "True + True "
   ]
  },
  {
   "cell_type": "code",
   "execution_count": 26,
   "id": "2f7c3ae8-69bd-4870-bb66-602bb21ae3eb",
   "metadata": {},
   "outputs": [
    {
     "data": {
      "text/plain": [
       "1"
      ]
     },
     "execution_count": 26,
     "metadata": {},
     "output_type": "execute_result"
    }
   ],
   "source": [
    "True + False"
   ]
  },
  {
   "cell_type": "code",
   "execution_count": 27,
   "id": "a4a3f13f-1bfc-4782-b3e2-aff11dd2ebf1",
   "metadata": {},
   "outputs": [],
   "source": [
    "# String datatype\n",
    "name = \"Sehar Tahir\""
   ]
  },
  {
   "cell_type": "code",
   "execution_count": 28,
   "id": "f5707bde-43ee-48e5-8628-58d60d02e62b",
   "metadata": {},
   "outputs": [
    {
     "data": {
      "text/plain": [
       "'Sehar Tahir'"
      ]
     },
     "execution_count": 28,
     "metadata": {},
     "output_type": "execute_result"
    }
   ],
   "source": [
    "name"
   ]
  },
  {
   "cell_type": "code",
   "execution_count": 29,
   "id": "600e2004-cb19-4cfc-b546-ffabe3c16646",
   "metadata": {},
   "outputs": [],
   "source": [
    "names = \"\"\" I am a student a BS IT\"\"\""
   ]
  },
  {
   "cell_type": "code",
   "execution_count": 30,
   "id": "b3cd0419-8327-47c5-86e7-d7c6fed5d5a6",
   "metadata": {},
   "outputs": [
    {
     "data": {
      "text/plain": [
       "' I am a student a BS IT'"
      ]
     },
     "execution_count": 30,
     "metadata": {},
     "output_type": "execute_result"
    }
   ],
   "source": [
    "names"
   ]
  },
  {
   "cell_type": "code",
   "execution_count": 31,
   "id": "511de5a3-6745-42ce-9d18-9e87c240079d",
   "metadata": {},
   "outputs": [
    {
     "data": {
      "text/plain": [
       "' Multi line comment '"
      ]
     },
     "execution_count": 31,
     "metadata": {},
     "output_type": "execute_result"
    }
   ],
   "source": [
    "# single line comment\n",
    "\"\"\" Multi line comment \"\"\""
   ]
  },
  {
   "cell_type": "code",
   "execution_count": 32,
   "id": "dace678a-99ac-4543-ba85-fc0c6feb94c4",
   "metadata": {},
   "outputs": [
    {
     "data": {
      "text/plain": [
       "str"
      ]
     },
     "execution_count": 32,
     "metadata": {},
     "output_type": "execute_result"
    }
   ],
   "source": [
    "type(name)"
   ]
  },
  {
   "cell_type": "code",
   "execution_count": null,
   "id": "8ddb1e53-5bc0-414c-acbc-2b1ac01aedd2",
   "metadata": {},
   "outputs": [
    {
     "data": {
      "text/plain": [
       "' I am a student a BS IT\\n from IUB'"
      ]
     },
     "execution_count": 33,
     "metadata": {},
     "output_type": "execute_result"
    }
   ],
   "source": [
    "namm = \"\"\" I am a student a BS IT from IUB\"\"\"\n",
    "namm"
   ]
  },
  {
   "cell_type": "code",
   "execution_count": null,
   "id": "af1149ef-a8c5-4bbf-b3a3-c9067ec5f4b6",
   "metadata": {},
   "outputs": [
    {
     "name": "stdout",
     "output_type": "stream",
     "text": [
      "20\n"
     ]
    }
   ],
   "source": [
    "print(age)"
   ]
  },
  {
   "cell_type": "code",
   "execution_count": 36,
   "id": "e9777463-86d9-477b-afe2-341c00a76a33",
   "metadata": {},
   "outputs": [
    {
     "name": "stdout",
     "output_type": "stream",
     "text": [
      "This is my 2nd class\n"
     ]
    }
   ],
   "source": [
    "print(\"This is my 2nd class\")"
   ]
  },
  {
   "cell_type": "code",
   "execution_count": 38,
   "id": "cc3f10f0-ffaa-4c26-9b5d-d51675726ee2",
   "metadata": {},
   "outputs": [
    {
     "name": "stdout",
     "output_type": "stream",
     "text": [
      "hello world\n"
     ]
    }
   ],
   "source": [
    "print(\"hello world\")"
   ]
  },
  {
   "cell_type": "code",
   "execution_count": 39,
   "id": "5aa15042-49c9-476f-9b67-96d7fa2e9903",
   "metadata": {},
   "outputs": [
    {
     "data": {
      "text/plain": [
       "(20, 30, 60)"
      ]
     },
     "execution_count": 39,
     "metadata": {},
     "output_type": "execute_result"
    }
   ],
   "source": [
    "a = 20\n",
    "b = 30 \n",
    "c = 60 \n",
    "a,b,c "
   ]
  }
 ],
 "metadata": {
  "kernelspec": {
   "display_name": "Python 3 (ipykernel)",
   "language": "python",
   "name": "python3"
  },
  "language_info": {
   "codemirror_mode": {
    "name": "ipython",
    "version": 3
   },
   "file_extension": ".py",
   "mimetype": "text/x-python",
   "name": "python",
   "nbconvert_exporter": "python",
   "pygments_lexer": "ipython3",
   "version": "3.12.3"
  }
 },
 "nbformat": 4,
 "nbformat_minor": 5
}
