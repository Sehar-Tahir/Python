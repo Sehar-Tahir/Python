{
 "cells": [
  {
   "cell_type": "markdown",
   "id": "d36f89c5-e3b6-4f0b-b5be-59eeb2bc34fe",
   "metadata": {},
   "source": [
    "# Loops"
   ]
  },
  {
   "cell_type": "code",
   "execution_count": 1,
   "id": "dabe9cd3-6b3a-4643-b6a5-d59797b6e98e",
   "metadata": {},
   "outputs": [
    {
     "name": "stdout",
     "output_type": "stream",
     "text": [
      "1\n",
      "2\n",
      "3\n",
      "4\n",
      "5\n"
     ]
    }
   ],
   "source": [
    "print(1)\n",
    "print(2)\n",
    "print(3)\n",
    "print(4)\n",
    "print(5)"
   ]
  },
  {
   "cell_type": "code",
   "execution_count": 3,
   "id": "7b22a892-f0f3-4d7c-8325-96ee3087bf24",
   "metadata": {},
   "outputs": [],
   "source": [
    "#range function(slicing concept)"
   ]
  },
  {
   "cell_type": "code",
   "execution_count": 5,
   "id": "6ee654bf-94b7-408b-9e9c-d1d32b09b64c",
   "metadata": {},
   "outputs": [
    {
     "data": {
      "text/plain": [
       "[0, 1, 2, 3, 4, 5, 6, 7, 8, 9]"
      ]
     },
     "execution_count": 5,
     "metadata": {},
     "output_type": "execute_result"
    }
   ],
   "source": [
    "list(range(0,10))"
   ]
  },
  {
   "cell_type": "code",
   "execution_count": 6,
   "id": "8d6d58b0-6e74-4a23-b4c4-18546eb0cd66",
   "metadata": {},
   "outputs": [
    {
     "data": {
      "text/plain": [
       "[10, 11, 12, 13, 14, 15, 16, 17, 18, 19, 20]"
      ]
     },
     "execution_count": 6,
     "metadata": {},
     "output_type": "execute_result"
    }
   ],
   "source": [
    "list(range(10,21))"
   ]
  },
  {
   "cell_type": "code",
   "execution_count": 7,
   "id": "0c456cb8-40da-478c-b652-27dc2c49ad78",
   "metadata": {},
   "outputs": [
    {
     "data": {
      "text/plain": [
       "[10, 12, 14, 16, 18, 20, 22]"
      ]
     },
     "execution_count": 7,
     "metadata": {},
     "output_type": "execute_result"
    }
   ],
   "source": [
    "list(range(10,24,2))"
   ]
  },
  {
   "cell_type": "code",
   "execution_count": 2,
   "id": "c22903c5-6b50-4181-90d2-d74f6a9e19c6",
   "metadata": {},
   "outputs": [],
   "source": [
    "# for loop"
   ]
  },
  {
   "cell_type": "code",
   "execution_count": 8,
   "id": "7bba89e6-4d4e-46fc-84f9-4f498dacc849",
   "metadata": {},
   "outputs": [
    {
     "name": "stdout",
     "output_type": "stream",
     "text": [
      "1\n",
      "2\n",
      "3\n",
      "4\n",
      "5\n",
      "6\n",
      "7\n",
      "8\n",
      "9\n",
      "10\n"
     ]
    }
   ],
   "source": [
    "for i in range(1,11):\n",
    "    print(i)"
   ]
  },
  {
   "cell_type": "code",
   "execution_count": 12,
   "id": "c5a7759a-8bcc-4fb3-a1d1-782ff55e8290",
   "metadata": {},
   "outputs": [
    {
     "name": "stdout",
     "output_type": "stream",
     "text": [
      "1 : Sehar Tahir\n",
      "2 : Sehar Tahir\n",
      "3 : Sehar Tahir\n",
      "4 : Sehar Tahir\n",
      "5 : Sehar Tahir\n",
      "6 : Sehar Tahir\n",
      "7 : Sehar Tahir\n",
      "8 : Sehar Tahir\n",
      "9 : Sehar Tahir\n",
      "10 : Sehar Tahir\n"
     ]
    }
   ],
   "source": [
    "for i in range(1,11):\n",
    "    print(i,\": Sehar Tahir\")"
   ]
  },
  {
   "cell_type": "code",
   "execution_count": 19,
   "id": "a8469f5b-4bee-4547-b51e-6910c19d8657",
   "metadata": {},
   "outputs": [
    {
     "name": "stdout",
     "output_type": "stream",
     "text": [
      "325\n"
     ]
    }
   ],
   "source": [
    "#sum\n",
    "sum = 0\n",
    "for i in range(1,26):\n",
    "    sum = sum + i\n",
    "print(sum)"
   ]
  },
  {
   "cell_type": "code",
   "execution_count": 20,
   "id": "ab9127c5-773d-42ee-afc2-2e9d1f01053a",
   "metadata": {},
   "outputs": [
    {
     "name": "stdin",
     "output_type": "stream",
     "text": [
      "Enter starting value 1\n",
      "Enter ending value 25\n"
     ]
    },
    {
     "name": "stdout",
     "output_type": "stream",
     "text": [
      "325\n"
     ]
    }
   ],
   "source": [
    "#sum with user input\n",
    "start = int (input(\"Enter starting value\"))\n",
    "end = int (input(\"Enter ending value\"))\n",
    "sum = 0\n",
    "for i in range(start, end+1):\n",
    "    sum = sum + i\n",
    "print(sum)"
   ]
  },
  {
   "cell_type": "code",
   "execution_count": 21,
   "id": "97e4f83e-7488-46b0-aa11-fc5b3cf683de",
   "metadata": {},
   "outputs": [
    {
     "name": "stdin",
     "output_type": "stream",
     "text": [
      "Enter your name Sehar Tahir\n"
     ]
    },
    {
     "name": "stdout",
     "output_type": "stream",
     "text": [
      " Hello Sehar Tahir\n"
     ]
    },
    {
     "name": "stdin",
     "output_type": "stream",
     "text": [
      "Enter your name Abeeha \n"
     ]
    },
    {
     "name": "stdout",
     "output_type": "stream",
     "text": [
      " Hello Abeeha \n"
     ]
    },
    {
     "name": "stdin",
     "output_type": "stream",
     "text": [
      "Enter your name Anzish\n"
     ]
    },
    {
     "name": "stdout",
     "output_type": "stream",
     "text": [
      " Hello Anzish\n"
     ]
    },
    {
     "name": "stdin",
     "output_type": "stream",
     "text": [
      "Enter your name Amna\n"
     ]
    },
    {
     "name": "stdout",
     "output_type": "stream",
     "text": [
      " Hello Amna\n"
     ]
    },
    {
     "name": "stdin",
     "output_type": "stream",
     "text": [
      "Enter your name Bushra\n"
     ]
    },
    {
     "name": "stdout",
     "output_type": "stream",
     "text": [
      " Hello Bushra\n"
     ]
    },
    {
     "name": "stdin",
     "output_type": "stream",
     "text": [
      "Enter your name Ayesha\n"
     ]
    },
    {
     "name": "stdout",
     "output_type": "stream",
     "text": [
      " Hello Ayesha\n"
     ]
    },
    {
     "name": "stdin",
     "output_type": "stream",
     "text": [
      "Enter your name Zarina\n"
     ]
    },
    {
     "name": "stdout",
     "output_type": "stream",
     "text": [
      " Hello Zarina\n"
     ]
    },
    {
     "name": "stdin",
     "output_type": "stream",
     "text": [
      "Enter your name Tahir\n"
     ]
    },
    {
     "name": "stdout",
     "output_type": "stream",
     "text": [
      " Hello Tahir\n"
     ]
    },
    {
     "name": "stdin",
     "output_type": "stream",
     "text": [
      "Enter your name sehar\n"
     ]
    },
    {
     "name": "stdout",
     "output_type": "stream",
     "text": [
      " Hello sehar\n"
     ]
    },
    {
     "name": "stdin",
     "output_type": "stream",
     "text": [
      "Enter your name tahir\n"
     ]
    },
    {
     "name": "stdout",
     "output_type": "stream",
     "text": [
      " Hello tahir\n"
     ]
    }
   ],
   "source": [
    "for i in range(0,10):\n",
    "    name = input(\"Enter your name\")\n",
    "    print(f\" Hello {name}\")"
   ]
  },
  {
   "cell_type": "code",
   "execution_count": 1,
   "id": "21904da3-1e35-4638-b605-ddc99b746c31",
   "metadata": {},
   "outputs": [
    {
     "name": "stdin",
     "output_type": "stream",
     "text": [
      "Enter your program IT\n",
      "Enter your program CS\n",
      "Enter your program AI\n",
      "Enter your program DS\n",
      "Enter your program SE\n"
     ]
    },
    {
     "data": {
      "text/plain": [
       "['IT', 'CS', 'AI', 'DS', 'SE']"
      ]
     },
     "execution_count": 1,
     "metadata": {},
     "output_type": "execute_result"
    }
   ],
   "source": [
    "#create list using loop\n",
    "lis = []\n",
    "\n",
    "for i in range(5):\n",
    "    INP = input(\"Enter your program\")\n",
    "    lis.append(INP)\n",
    "    \n",
    "lis"
   ]
  },
  {
   "cell_type": "code",
   "execution_count": 4,
   "id": "0aad60f1-3742-42b5-ac6f-c9aed73cd4d1",
   "metadata": {},
   "outputs": [
    {
     "name": "stdout",
     "output_type": "stream",
     "text": [
      "10 * 1 = 10\n",
      "10 * 2 = 20\n",
      "10 * 3 = 30\n",
      "10 * 4 = 40\n",
      "10 * 5 = 50\n",
      "10 * 6 = 60\n",
      "10 * 7 = 70\n",
      "10 * 8 = 80\n",
      "10 * 9 = 90\n",
      "10 * 10 = 100\n"
     ]
    }
   ],
   "source": [
    "#table\n",
    "table = 10\n",
    "for i in range(1,11):\n",
    "   print(f\"{table} * {i} = {table*i}\")\n"
   ]
  },
  {
   "cell_type": "code",
   "execution_count": 1,
   "id": "aaf03dc6-f02d-4c06-9884-c4ee1f16bccb",
   "metadata": {},
   "outputs": [
    {
     "name": "stdin",
     "output_type": "stream",
     "text": [
      "Enter num to print table:  4\n",
      "Enter range of table:  12\n"
     ]
    },
    {
     "name": "stdout",
     "output_type": "stream",
     "text": [
      "4 * 1 = 4\n",
      "4 * 2 = 8\n",
      "4 * 3 = 12\n",
      "4 * 4 = 16\n",
      "4 * 5 = 20\n",
      "4 * 6 = 24\n",
      "4 * 7 = 28\n",
      "4 * 8 = 32\n",
      "4 * 9 = 36\n",
      "4 * 10 = 40\n",
      "4 * 11 = 44\n",
      "4 * 12 = 48\n"
     ]
    }
   ],
   "source": [
    "#table\n",
    "table = int(input(\"Enter num to print table: \"))\n",
    "rang = int(input(\"Enter range of table: \"))\n",
    "for i in range(1, rang+1):\n",
    "    res = table * i\n",
    "    print(f\"{table} * {i} = {res}\")"
   ]
  },
  {
   "cell_type": "code",
   "execution_count": 2,
   "id": "4358bffc-e4b4-4ec3-a9dc-72256fa03260",
   "metadata": {},
   "outputs": [
    {
     "data": {
      "text/plain": [
       "'H'"
      ]
     },
     "execution_count": 2,
     "metadata": {},
     "output_type": "execute_result"
    }
   ],
   "source": [
    "s = \"Hi, I am Sehar Tahir. I am stud of BS IT at IUB.\"\n",
    "s[0]"
   ]
  },
  {
   "cell_type": "code",
   "execution_count": 3,
   "id": "9ded2cc0-bad9-4b08-aedf-849d452aed00",
   "metadata": {},
   "outputs": [
    {
     "data": {
      "text/plain": [
       "48"
      ]
     },
     "execution_count": 3,
     "metadata": {},
     "output_type": "execute_result"
    }
   ],
   "source": [
    "len(s)"
   ]
  },
  {
   "cell_type": "code",
   "execution_count": 4,
   "id": "58109d85-7c03-4a4f-8600-f12619ac19a0",
   "metadata": {},
   "outputs": [
    {
     "name": "stdout",
     "output_type": "stream",
     "text": [
      "H\n",
      "i\n",
      ",\n",
      " \n",
      "I\n",
      " \n",
      "a\n",
      "m\n",
      " \n",
      "S\n",
      "e\n",
      "h\n",
      "a\n",
      "r\n",
      " \n",
      "T\n",
      "a\n",
      "h\n",
      "i\n",
      "r\n",
      ".\n",
      " \n",
      "I\n",
      " \n",
      "a\n",
      "m\n",
      " \n",
      "s\n",
      "t\n",
      "u\n",
      "d\n",
      " \n",
      "o\n",
      "f\n",
      " \n",
      "B\n",
      "S\n",
      " \n",
      "I\n",
      "T\n",
      " \n",
      "a\n",
      "t\n",
      " \n",
      "I\n",
      "U\n",
      "B\n",
      ".\n"
     ]
    }
   ],
   "source": [
    "# iterate on string using loop\n",
    "s = \"Hi, I am Sehar Tahir. I am stud of BS IT at IUB.\"\n",
    "for i in range(len(s)):\n",
    "    print (s[i])\n",
    "    "
   ]
  },
  {
   "cell_type": "code",
   "execution_count": 8,
   "id": "fce097be-aa9f-4f00-a6c8-232b8b290ddd",
   "metadata": {},
   "outputs": [
    {
     "name": "stdout",
     "output_type": "stream",
     "text": [
      "36\n"
     ]
    }
   ],
   "source": [
    "s = \"Hi, I am Sehar Tahir! I am stud of BS IT at IUB.\"\n",
    "count = 0\n",
    "\n",
    "for i in range(len(s)):\n",
    "    if s[i] == \" \":\n",
    "        continue \n",
    "    else:\n",
    "        count = count + 1\n",
    "print (count) #indent extreme left if you want just last output not every loop output"
   ]
  },
  {
   "cell_type": "code",
   "execution_count": 1,
   "id": "79f2dfa5-1f9d-42f2-b532-7109586e68d4",
   "metadata": {},
   "outputs": [
    {
     "name": "stdout",
     "output_type": "stream",
     "text": [
      "34\n"
     ]
    }
   ],
   "source": [
    "s = \"Hi, I am Sehar Tahir! I am stud of BS IT at IUB.\"\n",
    "count = 0\n",
    "\n",
    "for i in range(len(s)):\n",
    "    if s[i] == \" \":\n",
    "        continue \n",
    "    elif s[i] == \"!\":\n",
    "        continue\n",
    "    elif s[i] == \".\":\n",
    "        continue\n",
    "    else:\n",
    "        count = count + 1\n",
    "print (count) "
   ]
  },
  {
   "cell_type": "code",
   "execution_count": 19,
   "id": "d6de343d-b4a5-4b03-8213-41090b609500",
   "metadata": {},
   "outputs": [
    {
     "data": {
      "text/plain": [
       "[30, 50, 70, 90, 110]"
      ]
     },
     "execution_count": 19,
     "metadata": {},
     "output_type": "execute_result"
    }
   ],
   "source": [
    "#Q6\n",
    "list1 = [20, 40, 60, 80 , 100]\n",
    "for i in range(0,len(list1)):\n",
    "    list1[i] = list1[i] + 10\n",
    "list1"
   ]
  },
  {
   "cell_type": "code",
   "execution_count": 20,
   "id": "d68696d8-1371-4e04-bf9c-674e784e3d74",
   "metadata": {},
   "outputs": [
    {
     "data": {
      "text/plain": [
       "[30, 50, 70, 90, 110]"
      ]
     },
     "execution_count": 20,
     "metadata": {},
     "output_type": "execute_result"
    }
   ],
   "source": [
    "#Q6\n",
    "list1 = [20, 40, 60, 80 , 100]\n",
    "k = 0\n",
    "for i in list1:\n",
    "    list1[k] = i + 10\n",
    "    k = k + 1\n",
    "list1"
   ]
  },
  {
   "cell_type": "code",
   "execution_count": 21,
   "id": "55cdac3a-e89f-4c08-9561-a5ba502422d6",
   "metadata": {},
   "outputs": [],
   "source": [
    "#tuple"
   ]
  },
  {
   "cell_type": "code",
   "execution_count": 23,
   "id": "62f33004-566f-40d5-8824-1ea28b40c0e0",
   "metadata": {},
   "outputs": [
    {
     "name": "stdout",
     "output_type": "stream",
     "text": [
      "20\n",
      "40\n",
      "60\n",
      "80\n",
      "100\n"
     ]
    }
   ],
   "source": [
    "tup = (20,40,60,80,100)\n",
    "for i in tup:\n",
    "    print(i)"
   ]
  },
  {
   "cell_type": "code",
   "execution_count": 22,
   "id": "15796d9d-e05f-46d6-8047-1c65641382e5",
   "metadata": {},
   "outputs": [],
   "source": [
    "#dictionary"
   ]
  },
  {
   "cell_type": "code",
   "execution_count": 24,
   "id": "e642c13e-eb74-4566-873a-881ba62c9b95",
   "metadata": {},
   "outputs": [
    {
     "data": {
      "text/plain": [
       "dict_keys([1, 2, 3])"
      ]
     },
     "execution_count": 24,
     "metadata": {},
     "output_type": "execute_result"
    }
   ],
   "source": [
    "dictionary = {1: \"Sehar\" , 2:\"Tahir\" , 3:20}\n",
    "dictionary.keys()"
   ]
  },
  {
   "cell_type": "code",
   "execution_count": 25,
   "id": "ffb7f858-03a9-4392-afe1-bf20cccb01f3",
   "metadata": {},
   "outputs": [
    {
     "data": {
      "text/plain": [
       "dict_values(['Sehar', 'Tahir', 20])"
      ]
     },
     "execution_count": 25,
     "metadata": {},
     "output_type": "execute_result"
    }
   ],
   "source": [
    "dictionary = {1: \"Sehar\" , 2:\"Tahir\" , 3:20}\n",
    "dictionary.values()"
   ]
  },
  {
   "cell_type": "code",
   "execution_count": 26,
   "id": "2aa8107c-094c-4744-9ce8-8d82d73a1e46",
   "metadata": {},
   "outputs": [
    {
     "name": "stdout",
     "output_type": "stream",
     "text": [
      "1\n",
      "2\n",
      "3\n"
     ]
    }
   ],
   "source": [
    "dictionary = {1: \"Sehar\" , 2:\"Tahir\" , 3:20}\n",
    "for i in dictionary:\n",
    "    print(i)"
   ]
  },
  {
   "cell_type": "code",
   "execution_count": 27,
   "id": "e3f94241-ec9b-45c4-95f5-0a21a36ecf68",
   "metadata": {},
   "outputs": [
    {
     "name": "stdout",
     "output_type": "stream",
     "text": [
      "1\n",
      "2\n",
      "3\n"
     ]
    }
   ],
   "source": [
    "dictionary = {1: \"Sehar\" , 2:\"Tahir\" , 3:20}\n",
    "for i in dictionary.keys():\n",
    "    print(i)"
   ]
  },
  {
   "cell_type": "code",
   "execution_count": 28,
   "id": "407c1c43-4b9a-45f2-83ec-3d17fc5ec871",
   "metadata": {},
   "outputs": [
    {
     "name": "stdout",
     "output_type": "stream",
     "text": [
      "Sehar\n",
      "Tahir\n",
      "20\n"
     ]
    }
   ],
   "source": [
    "dictionary = {1: \"Sehar\" , 2:\"Tahir\" , 3:20}\n",
    "for i in dictionary.values():\n",
    "    print(i)"
   ]
  }
 ],
 "metadata": {
  "kernelspec": {
   "display_name": "Python 3 (ipykernel)",
   "language": "python",
   "name": "python3"
  },
  "language_info": {
   "codemirror_mode": {
    "name": "ipython",
    "version": 3
   },
   "file_extension": ".py",
   "mimetype": "text/x-python",
   "name": "python",
   "nbconvert_exporter": "python",
   "pygments_lexer": "ipython3",
   "version": "3.12.3"
  }
 },
 "nbformat": 4,
 "nbformat_minor": 5
}
