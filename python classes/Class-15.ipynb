{
 "cells": [
  {
   "cell_type": "markdown",
   "id": "ed56a608-33a4-44e3-99fd-a130473b14ff",
   "metadata": {},
   "source": [
    "# Functions"
   ]
  },
  {
   "cell_type": "code",
   "execution_count": 8,
   "id": "1cfe16ca-25da-4f4b-9341-f5ca0d262fe3",
   "metadata": {},
   "outputs": [],
   "source": [
    "#find average\n",
    "def avg(num1,num2,num3):\n",
    "    sum = num1 + num2 + num3\n",
    "    avg = sum / 3\n",
    "    print(f\"The Average of these three numbers is {avg}\")"
   ]
  },
  {
   "cell_type": "code",
   "execution_count": 9,
   "id": "50829936-e9d6-4721-8f29-d4c0741d0018",
   "metadata": {},
   "outputs": [
    {
     "name": "stdout",
     "output_type": "stream",
     "text": [
      "The Average of these three numbers is 16.666666666666668\n"
     ]
    }
   ],
   "source": [
    "avg(10,30,10)"
   ]
  },
  {
   "cell_type": "code",
   "execution_count": 13,
   "id": "85e50a41-b3b7-4856-987b-9c71023167d2",
   "metadata": {},
   "outputs": [
    {
     "name": "stdout",
     "output_type": "stream",
     "text": [
      "The Average of these three numbers is 16\n"
     ]
    }
   ],
   "source": [
    "#find average & answer is int\n",
    "def avg(num1,num2,num3):\n",
    "    sum = num1 + num2 + num3\n",
    "    avg = sum // 3    #float\n",
    "    print(f\"The Average of these three numbers is {avg}\")\n",
    "avg(10,30,10)"
   ]
  },
  {
   "cell_type": "code",
   "execution_count": 12,
   "id": "14918773-1f00-483d-8ef0-56f148961019",
   "metadata": {},
   "outputs": [
    {
     "name": "stdout",
     "output_type": "stream",
     "text": [
      "The Average of these three numbers is 16\n"
     ]
    }
   ],
   "source": [
    "#find average & answer is int\n",
    "def avg(num1,num2,num3):\n",
    "    sum = num1 + num2 + num3\n",
    "    avg = int(sum / 3) #convert to int\n",
    "    print(f\"The Average of these three numbers is {avg}\")\n",
    "avg(10,30,10)"
   ]
  },
  {
   "cell_type": "code",
   "execution_count": 14,
   "id": "0ecfb484-78f5-4f81-9343-37a1c457de99",
   "metadata": {},
   "outputs": [
    {
     "name": "stdout",
     "output_type": "stream",
     "text": [
      "Num1 45\n",
      "Num2 89\n",
      "Num3 32\n"
     ]
    }
   ],
   "source": [
    "#check which value is assign to which parameters\n",
    "def avg(num1,num2,num3):\n",
    "    print(f\"Num1 {num1}\")\n",
    "    print(f\"Num2 {num2}\")\n",
    "    print(f\"Num3 {num3}\")\n",
    "#these are called positional arguments(order doesn't matter)\n",
    "avg(45,89,32)"
   ]
  },
  {
   "cell_type": "code",
   "execution_count": 17,
   "id": "cb461871-29d4-4e33-91d7-62cd20a13cb8",
   "metadata": {},
   "outputs": [
    {
     "name": "stdout",
     "output_type": "stream",
     "text": [
      "Num1 475\n",
      "Num2 859\n",
      "Num3 320\n"
     ]
    }
   ],
   "source": [
    "#another method to assign values\n",
    "def avg(num1,num2,num3):\n",
    "    print(f\"Num1 {num1}\")\n",
    "    print(f\"Num2 {num2}\")\n",
    "    print(f\"Num3 {num3}\")\n",
    "#these are called keyword arguments\n",
    "avg(num1 = 475,num2 = 859,num3 = 320)"
   ]
  },
  {
   "cell_type": "code",
   "execution_count": 22,
   "id": "dc23f19d-d3e4-4cd3-b34f-9a0e4f280e64",
   "metadata": {},
   "outputs": [
    {
     "name": "stdout",
     "output_type": "stream",
     "text": [
      "Num1 67\n",
      "Num2 98\n",
      "Num3 10\n"
     ]
    }
   ],
   "source": [
    "avg(67,98, num3=10)\n",
    "# 67 & 98 are assigned through positional argument\n",
    "# and num3 are assigned by keyword argument"
   ]
  },
  {
   "cell_type": "code",
   "execution_count": null,
   "id": "82b45ef8-21e0-4f80-916f-1763e7015a00",
   "metadata": {},
   "outputs": [
    {
     "name": "stdout",
     "output_type": "stream",
     "text": [
      "The Average of these three numbers is 3.0\n"
     ]
    },
    {
     "ename": "NameError",
     "evalue": "name 'summ' is not defined",
     "output_type": "error",
     "traceback": [
      "\u001b[1;31m---------------------------------------------------------------------------\u001b[0m",
      "\u001b[1;31mNameError\u001b[0m                                 Traceback (most recent call last)",
      "Cell \u001b[1;32mIn[26], line 7\u001b[0m\n\u001b[0;32m      5\u001b[0m     \u001b[38;5;28mprint\u001b[39m(\u001b[38;5;124mf\u001b[39m\u001b[38;5;124m\"\u001b[39m\u001b[38;5;124mThe Average of these three numbers is \u001b[39m\u001b[38;5;132;01m{\u001b[39;00mavg\u001b[38;5;132;01m}\u001b[39;00m\u001b[38;5;124m\"\u001b[39m)\n\u001b[0;32m      6\u001b[0m avg(\u001b[38;5;241m2\u001b[39m,\u001b[38;5;241m3\u001b[39m,\u001b[38;5;241m4\u001b[39m)\n\u001b[1;32m----> 7\u001b[0m \u001b[38;5;28mprint\u001b[39m(\u001b[43msumm\u001b[49m)     \u001b[38;5;66;03m#not accessible bcz its local variable not accessible outsite the function\u001b[39;00m\n",
      "\u001b[1;31mNameError\u001b[0m: name 'summ' is not defined"
     ]
    }
   ],
   "source": [
    "# local variable\n",
    "def avg(num1,num2,num3):\n",
    "    summ = num1 + num2 + num3\n",
    "    avg = summ / 3\n",
    "    print(f\"The Average of these three numbers is {avg}\")\n",
    "avg(2,3,4)\n",
    "print(summ)     #not accessible bcz its local variable not accessible outsite the function"
   ]
  },
  {
   "cell_type": "code",
   "execution_count": 28,
   "id": "db12a91e-fe0e-46eb-98ef-016c889a6180",
   "metadata": {},
   "outputs": [
    {
     "name": "stdout",
     "output_type": "stream",
     "text": [
      "9\n"
     ]
    }
   ],
   "source": [
    "# this is how we access variables outside\n",
    "def avg(num1,num2,num3):\n",
    "    summ = num1 + num2 + num3\n",
    "    avg = summ / 3\n",
    "    return summ\n",
    "    #return line ky bad koi bhi code line execute nhi hoga (return line is the last line)\n",
    "    \n",
    "answer =(avg(2,3,4))\n",
    "print(answer)   "
   ]
  },
  {
   "cell_type": "code",
   "execution_count": 7,
   "id": "40cb2df4-9372-4fff-b0c4-15db6984d2a3",
   "metadata": {},
   "outputs": [
    {
     "name": "stdout",
     "output_type": "stream",
     "text": [
      "30\n"
     ]
    }
   ],
   "source": [
    "#calculator\n",
    "def calculator(num1,num2,operator):\n",
    "    if operator == \"+\":\n",
    "        ans = num1 + num2\n",
    "    elif operator == \"-\":\n",
    "        ans = num1 - num2\n",
    "    elif operator == \"*\":\n",
    "        ans = num1 * num2\n",
    "    elif operator == \"/\":\n",
    "        ans = num1 / num2\n",
    "    else:\n",
    "        print(\"Invalid Operator!\")\n",
    "        \n",
    "    print(ans)\n",
    "        \n",
    "calculator(10,20,\"+\")"
   ]
  },
  {
   "cell_type": "code",
   "execution_count": 12,
   "id": "f97fe3da-188e-4b1e-8be6-ce9f59e9ee9e",
   "metadata": {},
   "outputs": [
    {
     "name": "stdout",
     "output_type": "stream",
     "text": [
      "30\n"
     ]
    }
   ],
   "source": [
    "#calculator (another way to return value)\n",
    "def calculator(num1,num2,operator):\n",
    "    ans = 0\n",
    "    if operator == \"+\":\n",
    "        ans = num1 + num2\n",
    "    elif operator == \"-\":\n",
    "        ans = num1 - num2\n",
    "    elif operator == \"*\":\n",
    "        ans = num1 * num2\n",
    "    elif operator == \"/\":\n",
    "        ans = num1 / num2\n",
    "    else:\n",
    "        print(\"Invalid Operator!\")\n",
    "        \n",
    "    return ans\n",
    "        \n",
    "ans = calculator(10,20,\"+\")\n",
    "print(ans)"
   ]
  }
 ],
 "metadata": {
  "kernelspec": {
   "display_name": "Python 3 (ipykernel)",
   "language": "python",
   "name": "python3"
  },
  "language_info": {
   "codemirror_mode": {
    "name": "ipython",
    "version": 3
   },
   "file_extension": ".py",
   "mimetype": "text/x-python",
   "name": "python",
   "nbconvert_exporter": "python",
   "pygments_lexer": "ipython3",
   "version": "3.12.3"
  }
 },
 "nbformat": 4,
 "nbformat_minor": 5
}
