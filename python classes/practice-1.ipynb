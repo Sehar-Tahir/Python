{
 "cells": [
  {
   "cell_type": "code",
   "execution_count": 1,
   "id": "e171a087-9a20-49cc-9f63-4680094f7a8a",
   "metadata": {},
   "outputs": [
    {
     "data": {
      "text/plain": [
       "4"
      ]
     },
     "execution_count": 1,
     "metadata": {},
     "output_type": "execute_result"
    }
   ],
   "source": [
    "2*2"
   ]
  },
  {
   "cell_type": "code",
   "execution_count": 2,
   "id": "982a34b0-93cc-4ffe-82dc-6504b98f1f29",
   "metadata": {},
   "outputs": [
    {
     "data": {
      "text/plain": [
       "0.5"
      ]
     },
     "execution_count": 2,
     "metadata": {},
     "output_type": "execute_result"
    }
   ],
   "source": [
    "2/4"
   ]
  },
  {
   "cell_type": "code",
   "execution_count": 5,
   "id": "49f41272-7551-4c4e-9c8d-b13f1509840b",
   "metadata": {
    "scrolled": true
   },
   "outputs": [
    {
     "data": {
      "text/plain": [
       "8"
      ]
     },
     "execution_count": 5,
     "metadata": {},
     "output_type": "execute_result"
    }
   ],
   "source": [
    "4+4"
   ]
  },
  {
   "cell_type": "code",
   "execution_count": 6,
   "id": "b911fa65-2356-460a-992a-4485625b3881",
   "metadata": {},
   "outputs": [
    {
     "data": {
      "text/plain": [
       "3"
      ]
     },
     "execution_count": 6,
     "metadata": {},
     "output_type": "execute_result"
    }
   ],
   "source": [
    "5-2"
   ]
  },
  {
   "cell_type": "code",
   "execution_count": null,
   "id": "47e09e15",
   "metadata": {},
   "outputs": [],
   "source": [
    "a = input(\"Enter num1: \")\n",
    "b = input(\"Enter num2: \")\n",
    "c = input(\"Enter num3: \")\n",
    "d = input(\"Enter num4: \")\n",
    "\n",
    "if(a>=b and a>=c and a>=d):\n",
    "    print(a,\" is greater\")\n",
    "elif(b>=c and b>=d):\n",
    "    print(b,\" is greater\")\n",
    "elif(c>=d):\n",
    "    print(c,\" is greater\")\n",
    "else:\n",
    "    print(d,\" is greater\")"
   ]
  }
 ],
 "metadata": {
  "kernelspec": {
   "display_name": "Python 3 (ipykernel)",
   "language": "python",
   "name": "python3"
  },
  "language_info": {
   "codemirror_mode": {
    "name": "ipython",
    "version": 3
   },
   "file_extension": ".py",
   "mimetype": "text/x-python",
   "name": "python",
   "nbconvert_exporter": "python",
   "pygments_lexer": "ipython3",
   "version": "3.12.3"
  }
 },
 "nbformat": 4,
 "nbformat_minor": 5
}
