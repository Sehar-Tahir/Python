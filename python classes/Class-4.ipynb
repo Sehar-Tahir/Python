{
 "cells": [
  {
   "cell_type": "code",
   "execution_count": 1,
   "id": "b21577c6-45f0-4124-96b7-6da3603ae4f1",
   "metadata": {},
   "outputs": [
    {
     "data": {
      "text/plain": [
       "16.7"
      ]
     },
     "execution_count": 1,
     "metadata": {},
     "output_type": "execute_result"
    }
   ],
   "source": [
    "# automatic type conversion {implicit}\n",
    "a = 10\n",
    "b = 6.7\n",
    "a + b"
   ]
  },
  {
   "cell_type": "code",
   "execution_count": 3,
   "id": "be654893-caca-4ba1-82e7-dc65500a9507",
   "metadata": {},
   "outputs": [
    {
     "data": {
      "text/plain": [
       "int"
      ]
     },
     "execution_count": 3,
     "metadata": {},
     "output_type": "execute_result"
    }
   ],
   "source": [
    "# explicit conversion\n",
    "#string to integer\n",
    "a = \"69\"  #a is string \n",
    "b = int(a)\n",
    "type(b) # now b is int "
   ]
  },
  {
   "cell_type": "code",
   "execution_count": 7,
   "id": "e61f0578-fd07-446a-a2dc-dc5c1b7ee71c",
   "metadata": {},
   "outputs": [],
   "source": [
    "# a = '69.9'\n",
    "# b = int (a)\n",
    "# error"
   ]
  },
  {
   "cell_type": "code",
   "execution_count": 8,
   "id": "d47594a7-920a-4d50-9455-2a1ac0641ea0",
   "metadata": {},
   "outputs": [
    {
     "data": {
      "text/plain": [
       "69"
      ]
     },
     "execution_count": 8,
     "metadata": {},
     "output_type": "execute_result"
    }
   ],
   "source": [
    "# float to int\n",
    "a = 69.90\n",
    "b = int(a)\n",
    "b"
   ]
  },
  {
   "cell_type": "code",
   "execution_count": 9,
   "id": "963f2268-a9c7-4d83-a5c3-e4c0ac4b1716",
   "metadata": {},
   "outputs": [
    {
     "data": {
      "text/plain": [
       "1"
      ]
     },
     "execution_count": 9,
     "metadata": {},
     "output_type": "execute_result"
    }
   ],
   "source": [
    "# bool to int  \n",
    "flag = True\n",
    "num = int (flag)\n",
    "num"
   ]
  },
  {
   "cell_type": "code",
   "execution_count": 11,
   "id": "d8d26543-cf49-4b4d-9f2b-b5df7217a507",
   "metadata": {},
   "outputs": [
    {
     "data": {
      "text/plain": [
       "'10'"
      ]
     },
     "execution_count": 11,
     "metadata": {},
     "output_type": "execute_result"
    }
   ],
   "source": [
    "# int to string \n",
    "a = 10\n",
    "b = str(a)\n",
    "b"
   ]
  },
  {
   "cell_type": "code",
   "execution_count": 1,
   "id": "de749539-d182-4e88-9a79-4d9479fee9da",
   "metadata": {},
   "outputs": [
    {
     "name": "stdout",
     "output_type": "stream",
     "text": [
      "A good developer\n"
     ]
    }
   ],
   "source": [
    "# Control Statements \n",
    "name = 'Sehar'\n",
    "if name == 'drinking coffee':\n",
    "    print(\"A bad developer\")\n",
    "else:\n",
    "    print(\"A good developer\")"
   ]
  },
  {
   "cell_type": "code",
   "execution_count": 14,
   "id": "9fb90450-f4a4-4c82-ab74-2b19c9ae39f9",
   "metadata": {},
   "outputs": [
    {
     "name": "stdout",
     "output_type": "stream",
     "text": [
      "x is greater\n"
     ]
    }
   ],
   "source": [
    "x = 10\n",
    "if x>5:\n",
    "  print(\"x is greater\")\n",
    "else: \n",
    "  print(\"not greater\")\n"
   ]
  },
  {
   "cell_type": "code",
   "execution_count": 16,
   "id": "389a749f-318d-4e6f-94d8-652d9442eb71",
   "metadata": {},
   "outputs": [
    {
     "name": "stdout",
     "output_type": "stream",
     "text": [
      "Even number\n"
     ]
    }
   ],
   "source": [
    "y = 20\n",
    "if y%2 == 0:\n",
    "    print(\"Even number\")\n",
    "else:\n",
    "    print(\"Odd number\")"
   ]
  },
  {
   "cell_type": "code",
   "execution_count": 18,
   "id": "e2348f10-6a79-40a8-a99c-fc21204d21f6",
   "metadata": {},
   "outputs": [
    {
     "name": "stdout",
     "output_type": "stream",
     "text": [
      "enter your age:  17\n"
     ]
    },
    {
     "name": "stdout",
     "output_type": "stream",
     "text": [
      "You are not eligible to vote\n"
     ]
    }
   ],
   "source": [
    "#program for eligibility of vote\n",
    "age = int(input(\"enter your age: \"))\n",
    "if age < 18:\n",
    "    print (\"You are not eligible to vote\")\n",
    "else:\n",
    "    print (\"You are eligible to vote\")"
   ]
  },
  {
   "cell_type": "code",
   "execution_count": 20,
   "id": "47262883-3946-4172-aa4f-d8f4893505f7",
   "metadata": {},
   "outputs": [
    {
     "name": "stdout",
     "output_type": "stream",
     "text": [
      "enter your age:  34\n"
     ]
    },
    {
     "name": "stdout",
     "output_type": "stream",
     "text": [
      "You are too old eligible to vote\n"
     ]
    }
   ],
   "source": [
    "# nested if else \n",
    "age = int(input(\"enter your age: \"))\n",
    "if age < 18:\n",
    "    print (\"You are not eligible to vote\")\n",
    "else:\n",
    "    if age > 30:\n",
    "        print (\"You are too old eligible to vote\")\n",
    "    else:\n",
    "        print (\"You are eligible to vote\")"
   ]
  },
  {
   "cell_type": "code",
   "execution_count": 1,
   "id": "7af280d1-cd35-488c-8993-4aee2854bea0",
   "metadata": {},
   "outputs": [
    {
     "name": "stdout",
     "output_type": "stream",
     "text": [
      "enter your marks: (1-100) 70\n"
     ]
    },
    {
     "name": "stdout",
     "output_type": "stream",
     "text": [
      " Grade C \n"
     ]
    }
   ],
   "source": [
    "# Q\n",
    "marks = int(input(\"enter your marks: (1-100)\"))\n",
    "if marks >= 90 and marks <= 100:\n",
    "    print (\" Grade A \")\n",
    "elif marks >= 80 and marks <= 90:\n",
    "    print (\" Grade B \")\n",
    "elif marks >= 70 and marks <= 80:\n",
    "    print (\" Grade C \")\n",
    "elif marks >= 60 and marks <= 70:\n",
    "    print (\" Grade D \")\n",
    "else:\n",
    "     print (\" Grade F \")"
   ]
  },
  {
   "cell_type": "code",
   "execution_count": 5,
   "id": "bea21b75-ec1b-433f-99fd-5c21a2feaf98",
   "metadata": {},
   "outputs": [
    {
     "name": "stdout",
     "output_type": "stream",
     "text": [
      "Enter traffic light yellow\n"
     ]
    },
    {
     "name": "stdout",
     "output_type": "stream",
     "text": [
      "Rukna shuru krain\n"
     ]
    }
   ],
   "source": [
    "# Traffic light program:\n",
    "traffic_light = input(\"Enter traffic light\").lower()\n",
    "\n",
    "if traffic_light =='yellow':\n",
    "    print ('Rukna shuru krain')\n",
    "elif traffic_light =='red':\n",
    "    print ('Rukain')\n",
    "else:\n",
    "    print ('move')"
   ]
  },
  {
   "cell_type": "code",
   "execution_count": null,
   "id": "1125fa29-61fd-4750-8532-9cf1a19a5cf1",
   "metadata": {},
   "outputs": [],
   "source": [
    "# Calculator:"
   ]
  },
  {
   "cell_type": "code",
   "execution_count": 5,
   "id": "535de9a7-5e3f-4340-b56f-0ca494b12573",
   "metadata": {},
   "outputs": [
    {
     "name": "stdout",
     "output_type": "stream",
     "text": [
      "Enter num from 1-4: 1 for Addition, 2 for Substraction, 3 for Multiplition, 4 for Division:  1\n",
      "Enter value of num1:  4\n",
      "Enter value of num2:  2\n"
     ]
    },
    {
     "name": "stdout",
     "output_type": "stream",
     "text": [
      "The answer of 4 + 2 = 6\n"
     ]
    }
   ],
   "source": [
    "choice = int(input(\"Enter num from 1-4: 1 for Addition, 2 for Substraction, 3 for Multiplition, 4 for Division: \"))   \n",
    "\n",
    "num1 = int(input(\"Enter value of num1: \"))\n",
    "num2 = int(input(\"Enter value of num2: \"))\n",
    "\n",
    "if choice == 1:\n",
    "    print(f\"The answer of {num1} + {num2} = {num1 + num2}\")\n",
    "elif choice == 2:\n",
    "    print(f\"The answer of {num1} - {num2} = {num1 - num2}\")\n",
    "elif choice == 3:\n",
    "    print(f\"The answer of {num1} * {num2} = {num1 * num2}\")\n",
    "else:\n",
    "    print(f\"The answer of {num1} / {num2} = {num1 / num2}\")"
   ]
  }
 ],
 "metadata": {
  "kernelspec": {
   "display_name": "Python 3",
   "language": "python",
   "name": "python3"
  },
  "language_info": {
   "codemirror_mode": {
    "name": "ipython",
    "version": 3
   },
   "file_extension": ".py",
   "mimetype": "text/x-python",
   "name": "python",
   "nbconvert_exporter": "python",
   "pygments_lexer": "ipython3",
   "version": "3.12.3"
  }
 },
 "nbformat": 4,
 "nbformat_minor": 5
}
