{
 "cells": [
  {
   "cell_type": "code",
   "execution_count": 3,
   "id": "61c44a34-9c64-4034-8acd-151377d00894",
   "metadata": {},
   "outputs": [
    {
     "name": "stdout",
     "output_type": "stream",
     "text": [
      "My name is  Sehar \n",
      " My age is 1030\n"
     ]
    }
   ],
   "source": [
    "name = \"Sehar\"\n",
    "rollnum = 1030\n",
    "print (\"My name is \", name, \"\\n My age is\" ,rollnum )"
   ]
  },
  {
   "cell_type": "code",
   "execution_count": 13,
   "id": "80b275be-f71e-4b48-ae0f-b0de0ffce70e",
   "metadata": {},
   "outputs": [
    {
     "name": "stdout",
     "output_type": "stream",
     "text": [
      "My name is Sehar Tahir .\n",
      " My roll num is 1030\n"
     ]
    }
   ],
   "source": [
    "namee = \"Sehar Tahir\"\n",
    "rollnum = 1030\n",
    "print (f\"My name is {namee} .\\n My roll num is {rollnum}\")"
   ]
  },
  {
   "cell_type": "code",
   "execution_count": 14,
   "id": "1fbc72c9-b4dd-4d2c-94cf-623b684adf4a",
   "metadata": {},
   "outputs": [
    {
     "name": "stdout",
     "output_type": "stream",
     "text": [
      "My name is Sehar Tahir . \n",
      "My roll num is 1030\n"
     ]
    }
   ],
   "source": [
    "namee = \"Sehar Tahir\"\n",
    "rollnum = 1030\n",
    "print (\"My name is {} . \\n My roll num is {}\".format(namee,rollnum))"
   ]
  },
  {
   "cell_type": "code",
   "execution_count": 16,
   "id": "5aa5e652-fbd5-4bdc-bbe2-3374ab37da72",
   "metadata": {},
   "outputs": [
    {
     "name": "stdout",
     "output_type": "stream",
     "text": [
      "sehartahir\n"
     ]
    }
   ],
   "source": [
    "#Concatination of strings\n",
    "\n",
    "first = \"sehar\"\n",
    "second = \"tahir\"\n",
    "full = first + second \n",
    "print (full)"
   ]
  },
  {
   "cell_type": "code",
   "execution_count": 17,
   "id": "06769ac5-7141-42ab-8d9f-843083a40f6b",
   "metadata": {},
   "outputs": [
    {
     "data": {
      "text/plain": [
       "30"
      ]
     },
     "execution_count": 17,
     "metadata": {},
     "output_type": "execute_result"
    }
   ],
   "source": [
    "#concatination of numbers\n",
    "\n",
    "a = 10\n",
    "b = 20\n",
    "a+b"
   ]
  },
  {
   "cell_type": "code",
   "execution_count": 7,
   "id": "ce6d0d64-0ab3-4274-b6de-d990ee1e31da",
   "metadata": {},
   "outputs": [
    {
     "name": "stdout",
     "output_type": "stream",
     "text": [
      "Sehar Tahir 1030 IUB\n"
     ]
    }
   ],
   "source": [
    "#Concatination\n",
    "\n",
    "first = \"Sehar\"\n",
    "second = \" Tahir\"\n",
    "full = first + second + \" 1030\" + \" IUB\"\n",
    "print (full)"
   ]
  },
  {
   "cell_type": "code",
   "execution_count": 20,
   "id": "4536081b-ce7a-45a3-bd1e-b5c2196c6543",
   "metadata": {},
   "outputs": [
    {
     "data": {
      "text/plain": [
       "'1020'"
      ]
     },
     "execution_count": 20,
     "metadata": {},
     "output_type": "execute_result"
    }
   ],
   "source": [
    "#concatination of num in the form of strings\n",
    "\n",
    "a = \"10\"\n",
    "b = '20'\n",
    "a+b"
   ]
  },
  {
   "cell_type": "code",
   "execution_count": 1,
   "id": "e6c66c87-ac62-4ed6-ae87-6526e04f6fd5",
   "metadata": {},
   "outputs": [
    {
     "name": "stdin",
     "output_type": "stream",
     "text": [
      " age\n"
     ]
    }
   ],
   "source": [
    "#user defined input\n",
    "age = input()"
   ]
  },
  {
   "cell_type": "code",
   "execution_count": 4,
   "id": "30145b79-bf04-43a0-9579-f9b8219c2816",
   "metadata": {},
   "outputs": [
    {
     "name": "stdin",
     "output_type": "stream",
     "text": [
      "Enter your Name:  Sehar Tahir\n"
     ]
    }
   ],
   "source": [
    "name = input (\"Enter your Name: \")\n"
   ]
  },
  {
   "cell_type": "code",
   "execution_count": 1,
   "id": "31286e2b-6a18-4e86-b3e3-6256967f6366",
   "metadata": {},
   "outputs": [
    {
     "name": "stdin",
     "output_type": "stream",
     "text": [
      "Enter number 1: 34\n",
      "Enter number 2: 67\n"
     ]
    },
    {
     "name": "stdout",
     "output_type": "stream",
     "text": [
      "34 + 67 = 3467\n"
     ]
    }
   ],
   "source": [
    "# Simple Program \n",
    "\n",
    "num1 = input(\"Enter number 1:\")\n",
    "num2 = input(\"Enter number 2:\")\n",
    "\n",
    "Result = num1 + num2\n",
    "print(f\"{num1} + {num2} = {Result}\")"
   ]
  },
  {
   "cell_type": "code",
   "execution_count": null,
   "id": "65593a1f-990f-4794-b6ef-9cbf73cd6e8d",
   "metadata": {},
   "outputs": [],
   "source": []
  }
 ],
 "metadata": {
  "kernelspec": {
   "display_name": "Python 3 (ipykernel)",
   "language": "python",
   "name": "python3"
  },
  "language_info": {
   "codemirror_mode": {
    "name": "ipython",
    "version": 3
   },
   "file_extension": ".py",
   "mimetype": "text/x-python",
   "name": "python",
   "nbconvert_exporter": "python",
   "pygments_lexer": "ipython3",
   "version": "3.12.3"
  }
 },
 "nbformat": 4,
 "nbformat_minor": 5
}
