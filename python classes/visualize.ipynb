{
 "cells": [
  {
   "cell_type": "markdown",
   "id": "b82c50ac",
   "metadata": {},
   "source": [
    "## Data Visualization\n",
    "### Count Plot"
   ]
  },
  {
   "cell_type": "code",
   "execution_count": null,
   "id": "a7a57b69",
   "metadata": {
    "vscode": {
     "languageId": "plaintext"
    }
   },
   "outputs": [],
   "source": []
  },
  {
   "cell_type": "code",
   "execution_count": null,
   "id": "1e19b49c",
   "metadata": {
    "vscode": {
     "languageId": "plaintext"
    }
   },
   "outputs": [],
   "source": []
  }
 ],
 "metadata": {
  "language_info": {
   "name": "python"
  }
 },
 "nbformat": 4,
 "nbformat_minor": 5
}
