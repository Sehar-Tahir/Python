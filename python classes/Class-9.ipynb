{
 "cells": [
  {
   "cell_type": "code",
   "execution_count": 1,
   "id": "1889884e-08ea-4fe0-88fa-492a9bcaec94",
   "metadata": {},
   "outputs": [
    {
     "data": {
      "text/plain": [
       "True"
      ]
     },
     "execution_count": 1,
     "metadata": {},
     "output_type": "execute_result"
    }
   ],
   "source": [
    "# in works with data types who have iterables(strings + lists)\n",
    "a = \"This is the 9th session of python class\"\n",
    "\"is\" in a"
   ]
  },
  {
   "cell_type": "code",
   "execution_count": 11,
   "id": "96104191-e3b6-41b3-8834-f8597414af11",
   "metadata": {},
   "outputs": [
    {
     "data": {
      "text/plain": [
       "True"
      ]
     },
     "execution_count": 11,
     "metadata": {},
     "output_type": "execute_result"
    }
   ],
   "source": [
    "x = [8,9,6,\"hi\",4,2]\n",
    "9 in x"
   ]
  },
  {
   "cell_type": "code",
   "execution_count": 5,
   "id": "70a6680a-742c-4d51-8a29-c22fdbf240a5",
   "metadata": {},
   "outputs": [
    {
     "data": {
      "text/plain": [
       "[5, 4, 3, 2, 1]"
      ]
     },
     "execution_count": 5,
     "metadata": {},
     "output_type": "execute_result"
    }
   ],
   "source": [
    "# reverse (it changes the original list)\n",
    "a = [1,2,3,4,5]\n",
    "a.reverse()\n",
    "a"
   ]
  },
  {
   "cell_type": "code",
   "execution_count": 9,
   "id": "16283560-8a81-4292-91b2-a748610cc391",
   "metadata": {},
   "outputs": [
    {
     "data": {
      "text/plain": [
       "[6, 7, 8, 9]"
      ]
     },
     "execution_count": 9,
     "metadata": {},
     "output_type": "execute_result"
    }
   ],
   "source": [
    "# reverse (it changes the original list)\n",
    "b = [6,7,8,9]\n",
    "b[::-1]\n",
    "b"
   ]
  },
  {
   "cell_type": "code",
   "execution_count": 12,
   "id": "d2106e8a-a581-4dc5-859a-9c60b6b3cc6c",
   "metadata": {},
   "outputs": [],
   "source": [
    "# sort function (sort the list in assending order)"
   ]
  },
  {
   "cell_type": "code",
   "execution_count": 13,
   "id": "034358f5-d392-405b-952c-7dd6fdb5aeba",
   "metadata": {},
   "outputs": [
    {
     "data": {
      "text/plain": [
       "[4, 5, 6, 7, 12, 34, 56, 89]"
      ]
     },
     "execution_count": 13,
     "metadata": {},
     "output_type": "execute_result"
    }
   ],
   "source": [
    "nums = [89,6,4,7,34,56,12,5]\n",
    "nums.sort()\n",
    "nums"
   ]
  },
  {
   "cell_type": "code",
   "execution_count": 14,
   "id": "b043156f-2b86-49f6-8a51-c5a205b2196a",
   "metadata": {},
   "outputs": [
    {
     "data": {
      "text/plain": [
       "['ali', 'kiran', 'rabia', 'sehar', 'shahzaib']"
      ]
     },
     "execution_count": 14,
     "metadata": {},
     "output_type": "execute_result"
    }
   ],
   "source": [
    "names = [\"sehar\" , \"shahzaib\" , \"ali\" , \"rabia\", \"kiran\"]\n",
    "names.sort()\n",
    "names"
   ]
  },
  {
   "cell_type": "code",
   "execution_count": 15,
   "id": "87b59e48-d26d-4917-b253-3c8b035d52ec",
   "metadata": {},
   "outputs": [
    {
     "data": {
      "text/plain": [
       "[89, 56, 34, 12, 7, 6, 5, 4]"
      ]
     },
     "execution_count": 15,
     "metadata": {},
     "output_type": "execute_result"
    }
   ],
   "source": [
    "# for decending order\n",
    "nums = [89,6,4,7,34,56,12,5]\n",
    "nums.sort(reverse = True)\n",
    "nums"
   ]
  },
  {
   "cell_type": "code",
   "execution_count": 16,
   "id": "fcdf7103-dbe4-4b23-a817-9253bd053a7d",
   "metadata": {},
   "outputs": [
    {
     "data": {
      "text/plain": [
       "['shahzaib', 'sehar', 'rabia', 'kiran', 'ali']"
      ]
     },
     "execution_count": 16,
     "metadata": {},
     "output_type": "execute_result"
    }
   ],
   "source": [
    "# for decending order\n",
    "names = [\"sehar\" , \"shahzaib\" , \"ali\" , \"rabia\", \"kiran\"]\n",
    "names.sort(reverse = True)\n",
    "names"
   ]
  },
  {
   "cell_type": "markdown",
   "id": "a8d0e243-76a5-4474-a2e4-27a7c1b1512b",
   "metadata": {},
   "source": [
    "# Tuple"
   ]
  },
  {
   "cell_type": "code",
   "execution_count": 17,
   "id": "42e6e578-d4c9-4576-b087-8078ed2c4c10",
   "metadata": {},
   "outputs": [
    {
     "data": {
      "text/plain": [
       "('apple', 'banana', 'cake', 'stawberry')"
      ]
     },
     "execution_count": 17,
     "metadata": {},
     "output_type": "execute_result"
    }
   ],
   "source": [
    "mytuple = (\"apple\", \"banana\", \"cake\" , \"stawberry\")\n",
    "mytuple"
   ]
  },
  {
   "cell_type": "code",
   "execution_count": 18,
   "id": "7b05c298-5d86-4d74-bc92-5ce2cd7e7b49",
   "metadata": {},
   "outputs": [
    {
     "data": {
      "text/plain": [
       "4"
      ]
     },
     "execution_count": 18,
     "metadata": {},
     "output_type": "execute_result"
    }
   ],
   "source": [
    "#length\n",
    "len(mytuple)"
   ]
  },
  {
   "cell_type": "code",
   "execution_count": 19,
   "id": "b6e69bd6-c59b-40ef-9196-e1eb5068c817",
   "metadata": {},
   "outputs": [
    {
     "data": {
      "text/plain": [
       "'banana'"
      ]
     },
     "execution_count": 19,
     "metadata": {},
     "output_type": "execute_result"
    }
   ],
   "source": [
    "mytuple[1]"
   ]
  },
  {
   "cell_type": "code",
   "execution_count": 20,
   "id": "11640b60-c73c-42d4-8263-1ca7c2d88f01",
   "metadata": {},
   "outputs": [
    {
     "data": {
      "text/plain": [
       "'stawberry'"
      ]
     },
     "execution_count": 20,
     "metadata": {},
     "output_type": "execute_result"
    }
   ],
   "source": [
    "mytuple[-1]"
   ]
  },
  {
   "cell_type": "code",
   "execution_count": 21,
   "id": "72f21cf6-42f1-40f1-abd2-42a79bc28a52",
   "metadata": {},
   "outputs": [
    {
     "data": {
      "text/plain": [
       "('banana', 'cake', 'stawberry', 'chocalate')"
      ]
     },
     "execution_count": 21,
     "metadata": {},
     "output_type": "execute_result"
    }
   ],
   "source": [
    "#Slicing\n",
    "thistuple = (\"apple\", \"banana\", \"cake\" , \"stawberry\", \"chocalate\" , \"milk\")\n",
    "thistuple [1:5]"
   ]
  },
  {
   "cell_type": "code",
   "execution_count": 22,
   "id": "bd593ce9-0260-4e9e-9fb3-c22d04c3f0b6",
   "metadata": {},
   "outputs": [
    {
     "data": {
      "text/plain": [
       "('cake', 'stawberry', 'chocalate')"
      ]
     },
     "execution_count": 22,
     "metadata": {},
     "output_type": "execute_result"
    }
   ],
   "source": [
    "# negative Slicing\n",
    "thistuple = (\"apple\", \"banana\", \"cake\" , \"stawberry\", \"chocalate\" , \"milk\")\n",
    "thistuple [-4:-1]"
   ]
  },
  {
   "cell_type": "code",
   "execution_count": 23,
   "id": "25adc05c-1df2-4033-94b8-a7720f7cb179",
   "metadata": {},
   "outputs": [
    {
     "data": {
      "text/plain": [
       "False"
      ]
     },
     "execution_count": 23,
     "metadata": {},
     "output_type": "execute_result"
    }
   ],
   "source": [
    "\"kiwi\" in thistuple"
   ]
  },
  {
   "cell_type": "code",
   "execution_count": 28,
   "id": "92c9d18a-a893-46d4-b4f8-076728f81850",
   "metadata": {},
   "outputs": [
    {
     "name": "stdout",
     "output_type": "stream",
     "text": [
      "['apple', 'banana', 'cake', 'stawberry', 'chocalate', 'milk']\n",
      "('apple', 'kiwi', 'cake', 'stawberry', 'chocalate', 'milk')\n"
     ]
    }
   ],
   "source": [
    "# tuple converted to list then change\n",
    "y = list(thistuple)  #list\n",
    "print(y)\n",
    "y[1] = \"kiwi\"\n",
    "x = tuple(y) #tuple\n",
    "print(x) "
   ]
  },
  {
   "cell_type": "code",
   "execution_count": 35,
   "id": "50896dfc-86ae-4625-92b9-b3a41aeb739f",
   "metadata": {},
   "outputs": [
    {
     "name": "stdout",
     "output_type": "stream",
     "text": [
      "('apple', 'banana', 'cake', 'stawberry', 'chocalate', 'milk', 'orange')\n"
     ]
    }
   ],
   "source": [
    "#concatenation or merge two tuples\n",
    "thattuple = (\"apple\", \"banana\", \"cake\" , \"stawberry\", \"chocalate\" , \"milk\")\n",
    "z = (\"orange\",)  # one comma is must\n",
    "thattuple += z  # thattuple = thattuplen + z\n",
    "print(thattuple)"
   ]
  },
  {
   "cell_type": "code",
   "execution_count": 39,
   "id": "b4b98a5a-5ed3-4888-a84b-2aa26746e8f7",
   "metadata": {},
   "outputs": [
    {
     "name": "stdout",
     "output_type": "stream",
     "text": [
      "('banana', 'cake', 'stawberry', 'chocalate', 'milk')\n"
     ]
    }
   ],
   "source": [
    "# remove element\n",
    "newtuple = (\"apple\", \"banana\", \"cake\" , \"stawberry\", \"chocalate\" , \"milk\")\n",
    "m = list(newtuple)\n",
    "\n",
    "m.remove(\"apple\")\n",
    "\n",
    "newtuple = tuple(m)\n",
    "print(newtuple)"
   ]
  },
  {
   "cell_type": "code",
   "execution_count": 40,
   "id": "ce34101b-dbe2-40cf-9dd2-25ee8429e2a5",
   "metadata": {},
   "outputs": [
    {
     "ename": "NameError",
     "evalue": "name 'newtuple' is not defined",
     "output_type": "error",
     "traceback": [
      "\u001b[1;31m---------------------------------------------------------------------------\u001b[0m",
      "\u001b[1;31mNameError\u001b[0m                                 Traceback (most recent call last)",
      "Cell \u001b[1;32mIn[40], line 4\u001b[0m\n\u001b[0;32m      2\u001b[0m newtuple \u001b[38;5;241m=\u001b[39m (\u001b[38;5;124m\"\u001b[39m\u001b[38;5;124mapple\u001b[39m\u001b[38;5;124m\"\u001b[39m, \u001b[38;5;124m\"\u001b[39m\u001b[38;5;124mbanana\u001b[39m\u001b[38;5;124m\"\u001b[39m, \u001b[38;5;124m\"\u001b[39m\u001b[38;5;124mcake\u001b[39m\u001b[38;5;124m\"\u001b[39m , \u001b[38;5;124m\"\u001b[39m\u001b[38;5;124mstawberry\u001b[39m\u001b[38;5;124m\"\u001b[39m, \u001b[38;5;124m\"\u001b[39m\u001b[38;5;124mchocalate\u001b[39m\u001b[38;5;124m\"\u001b[39m , \u001b[38;5;124m\"\u001b[39m\u001b[38;5;124mmilk\u001b[39m\u001b[38;5;124m\"\u001b[39m)\n\u001b[0;32m      3\u001b[0m \u001b[38;5;28;01mdel\u001b[39;00m newtuple\n\u001b[1;32m----> 4\u001b[0m \u001b[38;5;28mprint\u001b[39m(\u001b[43mnewtuple\u001b[49m)\n",
      "\u001b[1;31mNameError\u001b[0m: name 'newtuple' is not defined"
     ]
    }
   ],
   "source": [
    "# delete \n",
    "newtuple = (\"apple\", \"banana\", \"cake\" , \"stawberry\", \"chocalate\" , \"milk\")\n",
    "del newtuple\n",
    "print(newtuple)"
   ]
  },
  {
   "cell_type": "code",
   "execution_count": null,
   "id": "abc6bf57-043e-434a-b8f3-27edce5136b1",
   "metadata": {},
   "outputs": [
    {
     "name": "stdout",
     "output_type": "stream",
     "text": [
      "stawberry\n",
      "chocalate\n",
      "milk\n"
     ]
    }
   ],
   "source": [
    "#unpack (store each element in new each variable)\n",
    "\n",
    "newtuple = (\"stawberry\", \"chocalate\" , \"milk\")\n",
    "(green,yellow,red) = newtuple\n",
    "print(green)\n",
    "print(yellow)\n",
    "print(red)"
   ]
  },
  {
   "cell_type": "code",
   "execution_count": 45,
   "id": "a8ae2c42-d203-4af9-98ce-17fe0b634bd1",
   "metadata": {},
   "outputs": [
    {
     "name": "stdout",
     "output_type": "stream",
     "text": [
      "apple\n",
      "banana\n",
      "['cake', 'stawberry', 'chocalate', 'milk']\n"
     ]
    }
   ],
   "source": [
    "# remaining values store in that variable that have * star.\n",
    "newtuple = (\"apple\", \"banana\", \"cake\" , \"stawberry\", \"chocalate\" , \"milk\")\n",
    "(green,yellow,*red) = newtuple\n",
    "\n",
    "print(green)\n",
    "print(yellow)\n",
    "print(red)"
   ]
  },
  {
   "cell_type": "code",
   "execution_count": 46,
   "id": "1ebd5f8b-0971-4dc4-a295-c068656ba522",
   "metadata": {},
   "outputs": [
    {
     "name": "stdout",
     "output_type": "stream",
     "text": [
      "['apple', 'banana', 'cake', 'stawberry']\n",
      "chocalate\n",
      "milk\n"
     ]
    }
   ],
   "source": [
    "# remaining values store in that variable that have * star./\n",
    "newtuple = (\"apple\", \"banana\", \"cake\" , \"stawberry\", \"chocalate\" , \"milk\")\n",
    "*green,yellow,red = newtuple\n",
    "\n",
    "print(green)\n",
    "print(yellow)\n",
    "print(red)"
   ]
  },
  {
   "cell_type": "code",
   "execution_count": 52,
   "id": "c88a4930-5c2f-408d-9291-689479d5226b",
   "metadata": {},
   "outputs": [
    {
     "data": {
      "text/plain": [
       "('a', 'b', 'c', 1, 2, 3)"
      ]
     },
     "execution_count": 52,
     "metadata": {},
     "output_type": "execute_result"
    }
   ],
   "source": [
    "# join two tuples\n",
    "\n",
    "tuple1 = (\"a\" , \"b\" , \"c\" )\n",
    "tuple2 = (1,2,3)\n",
    "\n",
    "tuple3 = tuple1 + tuple2\n",
    "tuple3"
   ]
  },
  {
   "cell_type": "code",
   "execution_count": 51,
   "id": "24eb945d-025a-45f3-b99c-ee2540e51a50",
   "metadata": {},
   "outputs": [
    {
     "data": {
      "text/plain": [
       "('a', 'b', 'c', 'a', 'b', 'c', 'a', 'b', 'c', 'a', 'b', 'c')"
      ]
     },
     "execution_count": 51,
     "metadata": {},
     "output_type": "execute_result"
    }
   ],
   "source": [
    "# jitny times copy krna multiply kr dain\n",
    "\n",
    "tuple1 = (\"a\" , \"b\" , \"c\" )\n",
    "tuple1*4"
   ]
  },
  {
   "cell_type": "code",
   "execution_count": 54,
   "id": "62536074-6d66-4b84-8e7d-59a54ffd97d7",
   "metadata": {},
   "outputs": [
    {
     "data": {
      "text/plain": [
       "5"
      ]
     },
     "execution_count": 54,
     "metadata": {},
     "output_type": "execute_result"
    }
   ],
   "source": [
    "#counts how many times 2 comes in tuple\n",
    "\n",
    "tup = (1,2,3,4,5,6,7,2,1,7,2,2,7,2,9)\n",
    "tup.count(2)"
   ]
  },
  {
   "cell_type": "code",
   "execution_count": 55,
   "id": "52230be5-fcc4-4536-984c-43e7c9e35da4",
   "metadata": {},
   "outputs": [
    {
     "data": {
      "text/plain": [
       "6"
      ]
     },
     "execution_count": 55,
     "metadata": {},
     "output_type": "execute_result"
    }
   ],
   "source": [
    "#index check index\n",
    "\n",
    "tup = (1,2,3,4,5,6,7,2,1,7,2,2,7,2,9)\n",
    "tup.index(7)\n"
   ]
  }
 ],
 "metadata": {
  "kernelspec": {
   "display_name": "Python 3 (ipykernel)",
   "language": "python",
   "name": "python3"
  },
  "language_info": {
   "codemirror_mode": {
    "name": "ipython",
    "version": 3
   },
   "file_extension": ".py",
   "mimetype": "text/x-python",
   "name": "python",
   "nbconvert_exporter": "python",
   "pygments_lexer": "ipython3",
   "version": "3.12.3"
  }
 },
 "nbformat": 4,
 "nbformat_minor": 5
}
