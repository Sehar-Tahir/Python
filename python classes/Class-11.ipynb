{
 "cells": [
  {
   "cell_type": "markdown",
   "id": "8f754370-33d0-4846-bc76-8dab4b89c7a2",
   "metadata": {},
   "source": [
    "# Dictionary"
   ]
  },
  {
   "cell_type": "code",
   "execution_count": 1,
   "id": "5be44b2e-a6d5-4b81-9d97-758bb658e522",
   "metadata": {},
   "outputs": [
    {
     "data": {
      "text/plain": [
       "{1: 'Sehar', 2: 'Tahir'}"
      ]
     },
     "execution_count": 1,
     "metadata": {},
     "output_type": "execute_result"
    }
   ],
   "source": [
    "#key value pairs:\n",
    "\n",
    "dic = {1:\"Sehar\" , 2:\"Tahir\"}\n",
    "dic"
   ]
  },
  {
   "cell_type": "code",
   "execution_count": 2,
   "id": "3acf0ac2-2f70-4188-859a-4424c2b6a595",
   "metadata": {},
   "outputs": [
    {
     "data": {
      "text/plain": [
       "'Sehar'"
      ]
     },
     "execution_count": 2,
     "metadata": {},
     "output_type": "execute_result"
    }
   ],
   "source": [
    "dic[1]"
   ]
  },
  {
   "cell_type": "code",
   "execution_count": 4,
   "id": "52cf779b-52ef-4576-98c0-41d12115f005",
   "metadata": {},
   "outputs": [
    {
     "data": {
      "text/plain": [
       "{'student1': 'Sehar', 'student2': 'Tahir'}"
      ]
     },
     "execution_count": 4,
     "metadata": {},
     "output_type": "execute_result"
    }
   ],
   "source": [
    "dic = {'student1':\"Sehar\" , 'student2':\"Tahir\"}\n",
    "dic"
   ]
  },
  {
   "cell_type": "code",
   "execution_count": 6,
   "id": "a6ee81e2-a8ec-41ea-b07e-c35814039d04",
   "metadata": {},
   "outputs": [
    {
     "data": {
      "text/plain": [
       "'Sehar'"
      ]
     },
     "execution_count": 6,
     "metadata": {},
     "output_type": "execute_result"
    }
   ],
   "source": [
    "dic['student1']"
   ]
  },
  {
   "cell_type": "code",
   "execution_count": 17,
   "id": "bf1b2f7a-77bd-4ee7-9a61-c3a85a59125a",
   "metadata": {},
   "outputs": [
    {
     "data": {
      "text/plain": [
       "['Sehar', 3.5, 'M']"
      ]
     },
     "execution_count": 17,
     "metadata": {},
     "output_type": "execute_result"
    }
   ],
   "source": [
    "students = {'stud_1':[\"Sehar\",3.5, 'M'] , 'stud_2':[\"Tahir\",3.9,30,'M']}\n",
    "students['stud_1']"
   ]
  },
  {
   "cell_type": "code",
   "execution_count": 18,
   "id": "a4762657-0b92-439d-a8d5-c4b2c8bb919d",
   "metadata": {},
   "outputs": [
    {
     "data": {
      "text/plain": [
       "['Tahir', 3.9, 30, 'M']"
      ]
     },
     "execution_count": 18,
     "metadata": {},
     "output_type": "execute_result"
    }
   ],
   "source": [
    "students['stud_2']"
   ]
  },
  {
   "cell_type": "code",
   "execution_count": 2,
   "id": "29891b4c-41c8-4227-8ddb-90afc4a0d9c3",
   "metadata": {},
   "outputs": [],
   "source": [
    "#Methods"
   ]
  },
  {
   "cell_type": "code",
   "execution_count": 8,
   "id": "5b4db650-4538-429a-b1b9-f9ce09b5d9f1",
   "metadata": {},
   "outputs": [],
   "source": [
    "st = {'stud_1':[\"Sehar\",3.5, 'M'] , 'stud_2':[\"Tahir\",3.9,30,'M']}"
   ]
  },
  {
   "cell_type": "code",
   "execution_count": 5,
   "id": "be7887cd-4af5-4958-bd45-06fd3fe0e2f9",
   "metadata": {},
   "outputs": [
    {
     "data": {
      "text/plain": [
       "{}"
      ]
     },
     "execution_count": 5,
     "metadata": {},
     "output_type": "execute_result"
    }
   ],
   "source": [
    "#clear (clear all content of dic not dict)\n",
    "st.clear()\n",
    "st"
   ]
  },
  {
   "cell_type": "code",
   "execution_count": 10,
   "id": "b5c84a93-4ebd-4a19-922d-9153786fc78e",
   "metadata": {},
   "outputs": [
    {
     "ename": "NameError",
     "evalue": "name 'st' is not defined",
     "output_type": "error",
     "traceback": [
      "\u001b[1;31m---------------------------------------------------------------------------\u001b[0m",
      "\u001b[1;31mNameError\u001b[0m                                 Traceback (most recent call last)",
      "Cell \u001b[1;32mIn[10], line 3\u001b[0m\n\u001b[0;32m      1\u001b[0m \u001b[38;5;66;03m#del\u001b[39;00m\n\u001b[0;32m      2\u001b[0m \u001b[38;5;28;01mdel\u001b[39;00m st\n\u001b[1;32m----> 3\u001b[0m \u001b[43mst\u001b[49m\n",
      "\u001b[1;31mNameError\u001b[0m: name 'st' is not defined"
     ]
    }
   ],
   "source": [
    "#del  (del all content of dic + dict)\n",
    "del st\n",
    "st"
   ]
  },
  {
   "cell_type": "code",
   "execution_count": 11,
   "id": "3eaeb318-3e5d-4b6f-b73b-d4b3bfbe6e42",
   "metadata": {},
   "outputs": [
    {
     "data": {
      "text/plain": [
       "{'key1': 1, 'key2': 1, 'key3': 1}"
      ]
     },
     "execution_count": 11,
     "metadata": {},
     "output_type": "execute_result"
    }
   ],
   "source": [
    "# fromkeys fixed the keys(index) but values are not fixed \n",
    "\n",
    "x = ('key1' , 'key2' , 'key3')\n",
    "y = 1\n",
    "st = dict.fromkeys(x,y)\n",
    "st"
   ]
  },
  {
   "cell_type": "code",
   "execution_count": 12,
   "id": "edf34125-6a8e-4a73-8081-a686436f130d",
   "metadata": {},
   "outputs": [
    {
     "data": {
      "text/plain": [
       "{11: 'Sehar', 12: 'Tahir'}"
      ]
     },
     "execution_count": 12,
     "metadata": {},
     "output_type": "execute_result"
    }
   ],
   "source": [
    "# convert tuple to dictionary using dict \n",
    "stu = dict([(11,\"Sehar\"), (12,\"Tahir\")])\n",
    "stu"
   ]
  },
  {
   "cell_type": "code",
   "execution_count": 29,
   "id": "760b79d1-f9f4-4fbb-84f1-9c0f57a55cc6",
   "metadata": {},
   "outputs": [
    {
     "data": {
      "text/plain": [
       "'Ahad'"
      ]
     },
     "execution_count": 29,
     "metadata": {},
     "output_type": "execute_result"
    }
   ],
   "source": [
    "#setdefault (add in the previous dict)\n",
    "y = {11:\"Sehar\", 12:\"Tahir\"}\n",
    "y.setdefault(15,'Ahad')"
   ]
  },
  {
   "cell_type": "code",
   "execution_count": 30,
   "id": "c69c5eee-ee65-4e73-8c45-d70742524a67",
   "metadata": {},
   "outputs": [
    {
     "data": {
      "text/plain": [
       "'None'"
      ]
     },
     "execution_count": 30,
     "metadata": {},
     "output_type": "execute_result"
    }
   ],
   "source": [
    "#get (just to get not add in the dict)\n",
    "y.get(17, 'None')"
   ]
  },
  {
   "cell_type": "code",
   "execution_count": 27,
   "id": "583a7a44-38ac-49e3-8e1f-b62aabda7ba1",
   "metadata": {},
   "outputs": [
    {
     "data": {
      "text/plain": [
       "{11: 'Sehar', 12: 'Tahir', 13: 'kamran'}"
      ]
     },
     "execution_count": 27,
     "metadata": {},
     "output_type": "execute_result"
    }
   ],
   "source": [
    "#add in the dic\n",
    "x = {11:\"Sehar\" , 12:\"Tahir\"}\n",
    "x[13] = 'kamran'\n",
    "x"
   ]
  },
  {
   "cell_type": "code",
   "execution_count": 31,
   "id": "3d91e428-dbb2-4597-9eb2-310b75fbb0e8",
   "metadata": {},
   "outputs": [
    {
     "data": {
      "text/plain": [
       "{11: 'Sehar', 12: 'Tahir', 13: 'kamran', 14: 'Ali'}"
      ]
     },
     "execution_count": 31,
     "metadata": {},
     "output_type": "execute_result"
    }
   ],
   "source": [
    "#update or add new value in the dic\n",
    "x.update({14: 'Ali'})\n",
    "x"
   ]
  },
  {
   "cell_type": "code",
   "execution_count": 32,
   "id": "9b7416db-abba-4690-808a-c94ae7346088",
   "metadata": {},
   "outputs": [
    {
     "data": {
      "text/plain": [
       "{11: 'Sehar', 12: 'Tahir', 13: 'Zeeshan', 14: 'Ali'}"
      ]
     },
     "execution_count": 32,
     "metadata": {},
     "output_type": "execute_result"
    }
   ],
   "source": [
    "#update or add new value in the dic\n",
    "x.update({13: 'Zeeshan'})\n",
    "x"
   ]
  },
  {
   "cell_type": "code",
   "execution_count": 36,
   "id": "48e2c203-5ea7-48d9-9ac5-45ce9d99b4d2",
   "metadata": {},
   "outputs": [
    {
     "data": {
      "text/plain": [
       "dict_values(['Sehar', 'Tahir', 'Zeeshan', 'Ali'])"
      ]
     },
     "execution_count": 36,
     "metadata": {},
     "output_type": "execute_result"
    }
   ],
   "source": [
    "#it gives all dict values\n",
    "x.values()"
   ]
  },
  {
   "cell_type": "code",
   "execution_count": 35,
   "id": "d401614b-484e-438e-a5de-2fe4c8ecbe4c",
   "metadata": {},
   "outputs": [
    {
     "data": {
      "text/plain": [
       "dict_keys([11, 12, 13, 14])"
      ]
     },
     "execution_count": 35,
     "metadata": {},
     "output_type": "execute_result"
    }
   ],
   "source": [
    "#it gives all dict keys\n",
    "x.keys()"
   ]
  },
  {
   "cell_type": "code",
   "execution_count": 39,
   "id": "6023ce62-d211-45ee-87b1-3d2f208fbddf",
   "metadata": {},
   "outputs": [
    {
     "data": {
      "text/plain": [
       "{1: 'Ali', 2: 'Arooj', 3: 'Alia'}"
      ]
     },
     "execution_count": 39,
     "metadata": {},
     "output_type": "execute_result"
    }
   ],
   "source": [
    "#copy\n",
    "a = {1:'Ali' , 2:'Arooj' , 3:'Alia'}\n",
    "b = a.copy()\n",
    "b"
   ]
  },
  {
   "cell_type": "code",
   "execution_count": 40,
   "id": "080904b9-cc2a-4de3-a11c-323199337d55",
   "metadata": {},
   "outputs": [],
   "source": [
    "#Program:"
   ]
  },
  {
   "cell_type": "code",
   "execution_count": 43,
   "id": "ca40cab9-ea1a-40da-9f29-8b90be31516d",
   "metadata": {},
   "outputs": [
    {
     "data": {
      "text/plain": [
       "'Toronto'"
      ]
     },
     "execution_count": 43,
     "metadata": {},
     "output_type": "execute_result"
    }
   ],
   "source": [
    "capitals = {\n",
    "    \"Canada\" :'Toronto',\n",
    "    \"Pakistan\":'Islamabad',\n",
    "     \"Malaysia\":'Kualampur',\n",
    "}\n",
    "capitals[\"Canada\"]"
   ]
  },
  {
   "cell_type": "code",
   "execution_count": 44,
   "id": "d34e468d-e5b9-4e3f-85e5-a4e07a2ca54a",
   "metadata": {},
   "outputs": [
    {
     "data": {
      "text/plain": [
       "{'Canada': 'Toronto',\n",
       " 'Pakistan': 'Islamabad',\n",
       " 'Malaysia': 'Kualampur',\n",
       " 'India': 'Mumbai'}"
      ]
     },
     "execution_count": 44,
     "metadata": {},
     "output_type": "execute_result"
    }
   ],
   "source": [
    "capitals.update({\"India\":'Mumbai'})\n",
    "capitals"
   ]
  },
  {
   "cell_type": "code",
   "execution_count": 47,
   "id": "f8891955-e23b-4ac7-94d1-5b37d98d82f9",
   "metadata": {},
   "outputs": [
    {
     "name": "stdout",
     "output_type": "stream",
     "text": [
      "dict_keys(['Canada', 'Pakistan', 'Malaysia', 'India'])\n",
      "dict_values(['Toronto', 'Islamabad', 'Kualampur', 'Mumbai'])\n"
     ]
    }
   ],
   "source": [
    "print(capitals.keys())\n",
    "print(capitals.values())"
   ]
  },
  {
   "cell_type": "code",
   "execution_count": 72,
   "id": "b8b5d954-7374-446a-b7a7-24b5b913e8fa",
   "metadata": {},
   "outputs": [
    {
     "data": {
      "text/plain": [
       "{'Pakistan': 'Islamabad', 'Malaysia': 'Kualampur'}"
      ]
     },
     "execution_count": 72,
     "metadata": {},
     "output_type": "execute_result"
    }
   ],
   "source": [
    "capitals = {\n",
    "    \"Canada\" :'Toronto',\n",
    "    \"Pakistan\":'Islamabad',\n",
    "     \"Malaysia\":'Kualampur',\n",
    "}\n",
    "capitals.pop(\"Canada\")\n",
    "capitals"
   ]
  },
  {
   "cell_type": "code",
   "execution_count": 53,
   "id": "855e4b09-6e63-465f-b306-ba8f21035d0e",
   "metadata": {},
   "outputs": [
    {
     "data": {
      "text/plain": [
       "{'Pakistan': 'Islamabad', 'Malaysia': 'Kualampur'}"
      ]
     },
     "execution_count": 53,
     "metadata": {},
     "output_type": "execute_result"
    }
   ],
   "source": [
    "capitals.popitem()\n",
    "capitals"
   ]
  },
  {
   "cell_type": "code",
   "execution_count": 55,
   "id": "c1f8878e-89c5-4af3-8711-3bbfadfa4b38",
   "metadata": {},
   "outputs": [
    {
     "data": {
      "text/plain": [
       "{}"
      ]
     },
     "execution_count": 55,
     "metadata": {},
     "output_type": "execute_result"
    }
   ],
   "source": [
    "capitals.clear()\n",
    "capitals"
   ]
  }
 ],
 "metadata": {
  "kernelspec": {
   "display_name": "Python 3 (ipykernel)",
   "language": "python",
   "name": "python3"
  },
  "language_info": {
   "codemirror_mode": {
    "name": "ipython",
    "version": 3
   },
   "file_extension": ".py",
   "mimetype": "text/x-python",
   "name": "python",
   "nbconvert_exporter": "python",
   "pygments_lexer": "ipython3",
   "version": "3.12.3"
  }
 },
 "nbformat": 4,
 "nbformat_minor": 5
}
