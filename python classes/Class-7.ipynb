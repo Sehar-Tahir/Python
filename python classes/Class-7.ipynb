{
 "cells": [
  {
   "cell_type": "code",
   "execution_count": null,
   "id": "9ccd0f2c-fb97-4d9f-b0c9-20770f408c99",
   "metadata": {},
   "outputs": [],
   "source": [
    "# Slicing:"
   ]
  },
  {
   "cell_type": "code",
   "execution_count": 1,
   "id": "91659bd9-cab5-47f4-8961-54c62b101d72",
   "metadata": {},
   "outputs": [
    {
     "data": {
      "text/plain": [
       "'ABCD'"
      ]
     },
     "execution_count": 1,
     "metadata": {},
     "output_type": "execute_result"
    }
   ],
   "source": [
    "a = \"ABCDEFGH\"\n",
    "a[0:4]"
   ]
  },
  {
   "cell_type": "code",
   "execution_count": 2,
   "id": "93b02cbd-fd59-4db2-a772-a2b97916a1be",
   "metadata": {},
   "outputs": [
    {
     "data": {
      "text/plain": [
       "'ACEG'"
      ]
     },
     "execution_count": 2,
     "metadata": {},
     "output_type": "execute_result"
    }
   ],
   "source": [
    "a = \"ABCDEFGH\"\n",
    "a[0:8:2]"
   ]
  },
  {
   "cell_type": "code",
   "execution_count": 3,
   "id": "3a97d324-d21e-4632-8186-dc6499269fb2",
   "metadata": {},
   "outputs": [
    {
     "data": {
      "text/plain": [
       "'ABCDEF'"
      ]
     },
     "execution_count": 3,
     "metadata": {},
     "output_type": "execute_result"
    }
   ],
   "source": [
    "a = \"ABCDEFGH\"\n",
    "a[:6]"
   ]
  },
  {
   "cell_type": "code",
   "execution_count": 4,
   "id": "fc6796bf-11eb-495f-a0f7-bdd311bccf83",
   "metadata": {},
   "outputs": [
    {
     "data": {
      "text/plain": [
       "'ACEG'"
      ]
     },
     "execution_count": 4,
     "metadata": {},
     "output_type": "execute_result"
    }
   ],
   "source": [
    "a = \"ABCDEFGH\"\n",
    "a[0::2]"
   ]
  },
  {
   "cell_type": "code",
   "execution_count": 5,
   "id": "13ead628-90eb-4163-9f49-c81ad4cd661f",
   "metadata": {},
   "outputs": [
    {
     "data": {
      "text/plain": [
       "''"
      ]
     },
     "execution_count": 5,
     "metadata": {},
     "output_type": "execute_result"
    }
   ],
   "source": [
    "a = \"ABCDEFGH\"\n",
    "a[0:6:-1]"
   ]
  },
  {
   "cell_type": "code",
   "execution_count": 6,
   "id": "5ffe7b0b-b339-4ded-819b-9e87841b17ba",
   "metadata": {},
   "outputs": [
    {
     "data": {
      "text/plain": [
       "''"
      ]
     },
     "execution_count": 6,
     "metadata": {},
     "output_type": "execute_result"
    }
   ],
   "source": [
    "a = \"ABCDEFGH\"\n",
    "a[8:0]"
   ]
  },
  {
   "cell_type": "code",
   "execution_count": 7,
   "id": "6dec1676-3430-434a-9e14-49fbd60c301f",
   "metadata": {},
   "outputs": [
    {
     "data": {
      "text/plain": [
       "'HGFEDCB'"
      ]
     },
     "execution_count": 7,
     "metadata": {},
     "output_type": "execute_result"
    }
   ],
   "source": [
    "a = \"ABCDEFGH\"\n",
    "a[8:0:-1]"
   ]
  },
  {
   "cell_type": "code",
   "execution_count": 8,
   "id": "dd9e0152-14dd-41bc-89a9-6833c8cc091a",
   "metadata": {},
   "outputs": [
    {
     "data": {
      "text/plain": [
       "'HGFEDCBA'"
      ]
     },
     "execution_count": 8,
     "metadata": {},
     "output_type": "execute_result"
    }
   ],
   "source": [
    "a = \"ABCDEFGH\"\n",
    "a[::-1]"
   ]
  },
  {
   "cell_type": "code",
   "execution_count": 10,
   "id": "4474399a-5c24-42f9-8db2-6ded7a2638d0",
   "metadata": {},
   "outputs": [
    {
     "data": {
      "text/plain": [
       "'EDCBA'"
      ]
     },
     "execution_count": 10,
     "metadata": {},
     "output_type": "execute_result"
    }
   ],
   "source": [
    "a = \"ABCDEFGH\"\n",
    "a[4::-1]"
   ]
  },
  {
   "cell_type": "code",
   "execution_count": 11,
   "id": "cfb0b3e0-f196-4382-bba4-99fd76603aa7",
   "metadata": {},
   "outputs": [
    {
     "data": {
      "text/plain": [
       "'GECA'"
      ]
     },
     "execution_count": 11,
     "metadata": {},
     "output_type": "execute_result"
    }
   ],
   "source": [
    "a = \"ABCDEFGH\"\n",
    "a[6::-2]"
   ]
  },
  {
   "cell_type": "code",
   "execution_count": 12,
   "id": "ed2edd5b-d8b8-45c7-bec0-0cbbffa026ca",
   "metadata": {},
   "outputs": [
    {
     "data": {
      "text/plain": [
       "'HGFE'"
      ]
     },
     "execution_count": 12,
     "metadata": {},
     "output_type": "execute_result"
    }
   ],
   "source": [
    "a = \"ABCDEFGH\"\n",
    "a[:3:-1]"
   ]
  }
 ],
 "metadata": {
  "kernelspec": {
   "display_name": "Python 3 (ipykernel)",
   "language": "python",
   "name": "python3"
  },
  "language_info": {
   "codemirror_mode": {
    "name": "ipython",
    "version": 3
   },
   "file_extension": ".py",
   "mimetype": "text/x-python",
   "name": "python",
   "nbconvert_exporter": "python",
   "pygments_lexer": "ipython3",
   "version": "3.12.3"
  }
 },
 "nbformat": 4,
 "nbformat_minor": 5
}
