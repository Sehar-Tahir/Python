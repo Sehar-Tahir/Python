{
 "cells": [
  {
   "cell_type": "markdown",
   "id": "adb21b5a-0a06-414c-895d-e5552f354f1e",
   "metadata": {},
   "source": [
    "# Function"
   ]
  },
  {
   "cell_type": "code",
   "execution_count": 10,
   "id": "aba07f8c-cfca-49a2-9834-ee2bb0b7848f",
   "metadata": {},
   "outputs": [
    {
     "name": "stdout",
     "output_type": "stream",
     "text": [
      "Welcome!\n"
     ]
    }
   ],
   "source": [
    "print(\"Welcome!\")"
   ]
  },
  {
   "cell_type": "code",
   "execution_count": 7,
   "id": "d9653145-353a-45f1-b2a0-b44a18580621",
   "metadata": {},
   "outputs": [],
   "source": [
    "def greet():\n",
    "    print(\"Hi, Welcome to python learning\")"
   ]
  },
  {
   "cell_type": "code",
   "execution_count": 8,
   "id": "b2bb29d5-efae-4b5e-9e9e-3760e4c61e82",
   "metadata": {},
   "outputs": [
    {
     "name": "stdout",
     "output_type": "stream",
     "text": [
      "Hi, Welcome to python learning\n"
     ]
    }
   ],
   "source": [
    "greet()"
   ]
  },
  {
   "cell_type": "code",
   "execution_count": 11,
   "id": "798d25de-e2d7-4851-a8c2-be8d7539108f",
   "metadata": {},
   "outputs": [
    {
     "name": "stdout",
     "output_type": "stream",
     "text": [
      "Hi, Welcome to python learning\n"
     ]
    }
   ],
   "source": [
    "greet()"
   ]
  },
  {
   "cell_type": "code",
   "execution_count": 12,
   "id": "997836a1-2ed9-4e40-acc6-7723471c2cd3",
   "metadata": {},
   "outputs": [
    {
     "name": "stdout",
     "output_type": "stream",
     "text": [
      "Hi, Welcome to python learning\n"
     ]
    }
   ],
   "source": [
    "greet()"
   ]
  },
  {
   "cell_type": "code",
   "execution_count": 13,
   "id": "e18762d9-50c7-44aa-95a2-8ceee5daeec0",
   "metadata": {},
   "outputs": [
    {
     "name": "stdout",
     "output_type": "stream",
     "text": [
      "Hi, Welcome to python learning\n"
     ]
    }
   ],
   "source": [
    "greet()"
   ]
  },
  {
   "cell_type": "code",
   "execution_count": 14,
   "id": "8fd045be-4d30-4350-bc45-96bea604b450",
   "metadata": {},
   "outputs": [],
   "source": [
    "def farewell():\n",
    "    print(\"Take Care!\")"
   ]
  },
  {
   "cell_type": "code",
   "execution_count": 15,
   "id": "94d27ac2-73f4-4517-85fb-222ee7319e51",
   "metadata": {},
   "outputs": [
    {
     "name": "stdout",
     "output_type": "stream",
     "text": [
      "Take Care!\n"
     ]
    }
   ],
   "source": [
    "farewell()"
   ]
  },
  {
   "cell_type": "code",
   "execution_count": 16,
   "id": "fc01d52d-a964-4847-8a20-b3b20a1b5a0a",
   "metadata": {},
   "outputs": [
    {
     "name": "stdout",
     "output_type": "stream",
     "text": [
      "Take Care!\n"
     ]
    }
   ],
   "source": [
    "farewell()"
   ]
  },
  {
   "cell_type": "code",
   "execution_count": 17,
   "id": "be138429-6d86-4069-86be-20609e87ef4b",
   "metadata": {},
   "outputs": [
    {
     "name": "stdout",
     "output_type": "stream",
     "text": [
      "Hi, Welcome to python learning\n",
      "Take Care!\n"
     ]
    }
   ],
   "source": [
    "greet()\n",
    "farewell()"
   ]
  },
  {
   "cell_type": "code",
   "execution_count": 18,
   "id": "ea64fe4e-c406-417d-910b-2f303c76c807",
   "metadata": {},
   "outputs": [
    {
     "name": "stdout",
     "output_type": "stream",
     "text": [
      "Take Care!\n",
      "Hi, Welcome to python learning\n"
     ]
    }
   ],
   "source": [
    "farewell()\n",
    "greet()"
   ]
  },
  {
   "cell_type": "code",
   "execution_count": 21,
   "id": "42bb9170-64d2-4224-b5bd-e657a932aa72",
   "metadata": {},
   "outputs": [],
   "source": [
    "def greet():\n",
    "    name = \"Sehar\"\n",
    "    print(f\"Hi, {name} Welcome to learning Python!\")"
   ]
  },
  {
   "cell_type": "code",
   "execution_count": 22,
   "id": "586ece1d-6029-4f09-8ced-0195ebd867e0",
   "metadata": {},
   "outputs": [
    {
     "name": "stdout",
     "output_type": "stream",
     "text": [
      "Hi, Sehar Welcome to learning Python!\n"
     ]
    }
   ],
   "source": [
    "greet()"
   ]
  },
  {
   "cell_type": "code",
   "execution_count": 23,
   "id": "39a48e38-c31d-47ce-bbd0-4b19bc666ea9",
   "metadata": {},
   "outputs": [],
   "source": [
    "def greet(name):\n",
    "    print(f\"Hi, {name} Welcome to learning Python!\")"
   ]
  },
  {
   "cell_type": "code",
   "execution_count": 26,
   "id": "9689b166-d011-4c5d-b7ed-05458641540f",
   "metadata": {},
   "outputs": [
    {
     "name": "stdout",
     "output_type": "stream",
     "text": [
      "Hi, sehar Welcome to learning Python!\n"
     ]
    }
   ],
   "source": [
    "greet(\"sehar\")"
   ]
  },
  {
   "cell_type": "code",
   "execution_count": 27,
   "id": "89014d69-67fa-4c12-a9a3-43424338eae5",
   "metadata": {},
   "outputs": [
    {
     "name": "stdout",
     "output_type": "stream",
     "text": [
      "Hi, ali Welcome to learning Python!\n"
     ]
    }
   ],
   "source": [
    "greet(\"ali\")"
   ]
  },
  {
   "cell_type": "code",
   "execution_count": 28,
   "id": "f3ddaf3b-4b71-41a6-aa21-7bf769a68745",
   "metadata": {},
   "outputs": [
    {
     "name": "stdout",
     "output_type": "stream",
     "text": [
      "Hi, tahir Welcome to learning Python!\n"
     ]
    }
   ],
   "source": [
    "greet(\"tahir\")"
   ]
  },
  {
   "cell_type": "code",
   "execution_count": 30,
   "id": "0daa2d35-f86b-4736-b108-5c02095ef1fa",
   "metadata": {},
   "outputs": [
    {
     "name": "stdin",
     "output_type": "stream",
     "text": [
      "Enter your name:-  Sehar Tahir\n"
     ]
    },
    {
     "name": "stdout",
     "output_type": "stream",
     "text": [
      "Hi, Sehar Tahir Welcome to learning Python!\n"
     ]
    }
   ],
   "source": [
    "name = input(\"Enter your name:- \")\n",
    "greet(name)"
   ]
  },
  {
   "cell_type": "code",
   "execution_count": 34,
   "id": "6675a449-9f32-41f1-a86c-ccf69ee4dbb0",
   "metadata": {},
   "outputs": [],
   "source": [
    "#length function:\n",
    "def length(data):\n",
    "    length = 0\n",
    "    for i in data:\n",
    "        length = length + 1\n",
    "    print (length)"
   ]
  },
  {
   "cell_type": "code",
   "execution_count": 35,
   "id": "378d94b3-b9ce-4f32-9110-7d41b9c859e5",
   "metadata": {},
   "outputs": [
    {
     "name": "stdout",
     "output_type": "stream",
     "text": [
      "5\n"
     ]
    }
   ],
   "source": [
    "length(\"Sehar\")"
   ]
  },
  {
   "cell_type": "code",
   "execution_count": 38,
   "id": "38178dab-ed51-4e4e-a82d-a0ae2091a8e2",
   "metadata": {},
   "outputs": [
    {
     "name": "stdout",
     "output_type": "stream",
     "text": [
      "10\n"
     ]
    }
   ],
   "source": [
    "# length of list\n",
    "length([90,56,78,32,56,75,23,9,7,4])"
   ]
  },
  {
   "cell_type": "code",
   "execution_count": 39,
   "id": "ce6fd197-4454-40c2-846d-c9d6fa7a816b",
   "metadata": {},
   "outputs": [
    {
     "data": {
      "text/plain": [
       "10"
      ]
     },
     "execution_count": 39,
     "metadata": {},
     "output_type": "execute_result"
    }
   ],
   "source": [
    "#builtin len function\n",
    "len([90,56,78,32,56,75,23,9,7,4])"
   ]
  },
  {
   "cell_type": "code",
   "execution_count": 40,
   "id": "a7878d70-56dd-4f44-aa4c-17eeb325e02d",
   "metadata": {},
   "outputs": [],
   "source": [
    "# function for even & odd"
   ]
  },
  {
   "cell_type": "code",
   "execution_count": 26,
   "id": "cb67b28d-54ab-403c-b8a8-6e585f81caab",
   "metadata": {},
   "outputs": [
    {
     "name": "stdout",
     "output_type": "stream",
     "text": [
      "9 is Odd\n"
     ]
    }
   ],
   "source": [
    "def check(num):\n",
    "    if num % 2 == 0:\n",
    "        print (f\"{num} is Even\")\n",
    "    else:\n",
    "        print (f\"{num} is Odd\")\n",
    "check(9)"
   ]
  },
  {
   "cell_type": "code",
   "execution_count": 15,
   "id": "ec9441db-fd39-4b5c-bac8-ff3767bde8bf",
   "metadata": {},
   "outputs": [],
   "source": [
    "def sq(num):\n",
    "    print(num**2)"
   ]
  },
  {
   "cell_type": "code",
   "execution_count": 18,
   "id": "581ffb58-21b3-4a87-99a9-23dab2855da2",
   "metadata": {},
   "outputs": [
    {
     "name": "stdout",
     "output_type": "stream",
     "text": [
      "4\n"
     ]
    }
   ],
   "source": [
    "sq(2)"
   ]
  },
  {
   "cell_type": "code",
   "execution_count": 27,
   "id": "fd8a125e-0104-4dc0-8c48-47e3c8c5ed81",
   "metadata": {},
   "outputs": [
    {
     "name": "stdout",
     "output_type": "stream",
     "text": [
      "9\n"
     ]
    }
   ],
   "source": [
    "#here variables are local variables\n",
    "def sq(num):\n",
    "    squa = num**2\n",
    "    print(squa)\n",
    "sq(3)"
   ]
  }
 ],
 "metadata": {
  "kernelspec": {
   "display_name": "Python 3 (ipykernel)",
   "language": "python",
   "name": "python3"
  },
  "language_info": {
   "codemirror_mode": {
    "name": "ipython",
    "version": 3
   },
   "file_extension": ".py",
   "mimetype": "text/x-python",
   "name": "python",
   "nbconvert_exporter": "python",
   "pygments_lexer": "ipython3",
   "version": "3.12.3"
  }
 },
 "nbformat": 4,
 "nbformat_minor": 5
}
