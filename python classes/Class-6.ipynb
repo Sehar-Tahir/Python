{
 "cells": [
  {
   "cell_type": "code",
   "execution_count": 2,
   "id": "dc5715d5-4835-443c-84a5-fd2e96d804f3",
   "metadata": {},
   "outputs": [
    {
     "data": {
      "text/plain": [
       "'h'"
      ]
     },
     "execution_count": 2,
     "metadata": {},
     "output_type": "execute_result"
    }
   ],
   "source": [
    "a = 'Sehar Tahir'\n",
    "a[2]"
   ]
  },
  {
   "cell_type": "markdown",
   "id": "acdbeaf1-71c0-42b0-83fe-d51fe29e7b2e",
   "metadata": {},
   "source": [
    "# Methods"
   ]
  },
  {
   "cell_type": "markdown",
   "id": "ef6ef9ae-c721-4d29-b392-f48d5fc6cf9d",
   "metadata": {},
   "source": [
    "## Functions"
   ]
  },
  {
   "cell_type": "markdown",
   "id": "47824008-d080-4894-9e12-5cb61ac64f89",
   "metadata": {},
   "source": [
    "## Methods"
   ]
  },
  {
   "cell_type": "code",
   "execution_count": 1,
   "id": "321eb183-0192-46aa-9348-e69f852b0ba5",
   "metadata": {},
   "outputs": [],
   "source": [
    "# Methods & Functions"
   ]
  },
  {
   "cell_type": "code",
   "execution_count": 29,
   "id": "d89171f3-5cf5-48f6-aa33-9acd585240c5",
   "metadata": {},
   "outputs": [
    {
     "data": {
      "text/plain": [
       "'Sehartahir'"
      ]
     },
     "execution_count": 29,
     "metadata": {},
     "output_type": "execute_result"
    }
   ],
   "source": [
    "name = \"sehartahir\"\n",
    "name.capitalize()"
   ]
  },
  {
   "cell_type": "code",
   "execution_count": 9,
   "id": "48bde018-500f-4522-a978-59d9dc783491",
   "metadata": {},
   "outputs": [
    {
     "data": {
      "text/plain": [
       "'sehartahir'"
      ]
     },
     "execution_count": 9,
     "metadata": {},
     "output_type": "execute_result"
    }
   ],
   "source": [
    "name = \"SEHARTAHIR\"\n",
    "name.casefold()"
   ]
  },
  {
   "cell_type": "code",
   "execution_count": 10,
   "id": "437faa87-f5c6-4aab-b79e-4150609b10c8",
   "metadata": {},
   "outputs": [
    {
     "data": {
      "text/plain": [
       "'sehartahir'"
      ]
     },
     "execution_count": 10,
     "metadata": {},
     "output_type": "execute_result"
    }
   ],
   "source": [
    "name = \"SEHARTAHIR\"\n",
    "name.lower()"
   ]
  },
  {
   "cell_type": "code",
   "execution_count": 12,
   "id": "56ac9660-0c44-40e5-8eaf-813cd860279d",
   "metadata": {},
   "outputs": [
    {
     "data": {
      "text/plain": [
       "2"
      ]
     },
     "execution_count": 12,
     "metadata": {},
     "output_type": "execute_result"
    }
   ],
   "source": [
    "details = \"My name is Sehar Tahir.Sehar Tahir is a student\"\n",
    "details.count(\"Sehar\")"
   ]
  },
  {
   "cell_type": "code",
   "execution_count": 17,
   "id": "14b09ffa-0c62-403d-9d93-3f631fd1d8c5",
   "metadata": {},
   "outputs": [
    {
     "data": {
      "text/plain": [
       "8"
      ]
     },
     "execution_count": 17,
     "metadata": {},
     "output_type": "execute_result"
    }
   ],
   "source": [
    "details = \"My name is Sehar Tahir.Sehar Tahir is a student\"\n",
    "details.count(\" \")"
   ]
  },
  {
   "cell_type": "code",
   "execution_count": 18,
   "id": "0e23b0fc-09e2-4439-8815-b2fe6933fef4",
   "metadata": {},
   "outputs": [
    {
     "data": {
      "text/plain": [
       "47"
      ]
     },
     "execution_count": 18,
     "metadata": {},
     "output_type": "execute_result"
    }
   ],
   "source": [
    "details = \"My name is Sehar Tahir.Sehar Tahir is a student\"\n",
    "len (details)"
   ]
  },
  {
   "cell_type": "code",
   "execution_count": 15,
   "id": "c5394db2-8814-4cdb-84d6-4620f8d187fc",
   "metadata": {},
   "outputs": [
    {
     "data": {
      "text/plain": [
       "10"
      ]
     },
     "execution_count": 15,
     "metadata": {},
     "output_type": "execute_result"
    }
   ],
   "source": [
    "name = \"sehartahir\"\n",
    "len (name)"
   ]
  },
  {
   "cell_type": "code",
   "execution_count": 19,
   "id": "dd9dfd1b-bada-4e11-8cea-8a237524bf97",
   "metadata": {},
   "outputs": [
    {
     "data": {
      "text/plain": [
       "4"
      ]
     },
     "execution_count": 19,
     "metadata": {},
     "output_type": "execute_result"
    }
   ],
   "source": [
    "details = \"My name is Sehar Tahir.Sehar Tahir is a student\"\n",
    "details.count(\"i\")"
   ]
  },
  {
   "cell_type": "code",
   "execution_count": 24,
   "id": "eca556a1-cbf7-4170-987f-918d7a59a08c",
   "metadata": {},
   "outputs": [
    {
     "data": {
      "text/plain": [
       "8"
      ]
     },
     "execution_count": 24,
     "metadata": {},
     "output_type": "execute_result"
    }
   ],
   "source": [
    "details = \"My name is Sehar Tahir.Sehar Tahir is a student\"\n",
    "details.find(\"is\")"
   ]
  },
  {
   "cell_type": "code",
   "execution_count": 25,
   "id": "ab75fe33-2d85-44e3-9887-417a37ba8c04",
   "metadata": {},
   "outputs": [
    {
     "data": {
      "text/plain": [
       "'MY NAME IS SEHAR TAHIR.SEHAR TAHIR IS A STUDENT'"
      ]
     },
     "execution_count": 25,
     "metadata": {},
     "output_type": "execute_result"
    }
   ],
   "source": [
    "details = \"My name is Sehar Tahir.Sehar Tahir is a student\"\n",
    "details.upper()"
   ]
  },
  {
   "cell_type": "code",
   "execution_count": 27,
   "id": "75d58bb7-b313-4581-8904-32ed119fde85",
   "metadata": {},
   "outputs": [
    {
     "data": {
      "text/plain": [
       "'My name is Sehar Tahir.Sehar Tahir is a student'"
      ]
     },
     "execution_count": 27,
     "metadata": {},
     "output_type": "execute_result"
    }
   ],
   "source": [
    "details = \"    My name is Sehar Tahir.Sehar Tahir is a student   \"\n",
    "details.strip()"
   ]
  },
  {
   "cell_type": "code",
   "execution_count": 28,
   "id": "efd21c03-b858-4963-ba27-0da47082ce55",
   "metadata": {},
   "outputs": [
    {
     "data": {
      "text/plain": [
       "'mY NAME IS sEHAR tAHIR.sEHAR tAHIR IS A sTUDENT'"
      ]
     },
     "execution_count": 28,
     "metadata": {},
     "output_type": "execute_result"
    }
   ],
   "source": [
    "details = \"My name is Sehar Tahir.Sehar Tahir is a Student\"\n",
    "details.swapcase()"
   ]
  }
 ],
 "metadata": {
  "kernelspec": {
   "display_name": "Python 3 (ipykernel)",
   "language": "python",
   "name": "python3"
  },
  "language_info": {
   "codemirror_mode": {
    "name": "ipython",
    "version": 3
   },
   "file_extension": ".py",
   "mimetype": "text/x-python",
   "name": "python",
   "nbconvert_exporter": "python",
   "pygments_lexer": "ipython3",
   "version": "3.12.3"
  }
 },
 "nbformat": 4,
 "nbformat_minor": 5
}
