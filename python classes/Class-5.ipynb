{
 "cells": [
  {
   "cell_type": "code",
   "execution_count": 1,
   "id": "80ffd697-3b08-42d2-8f4f-8790beb10702",
   "metadata": {},
   "outputs": [
    {
     "name": "stdin",
     "output_type": "stream",
     "text": [
      "Enter your age 15\n"
     ]
    },
    {
     "data": {
      "text/plain": [
       "str"
      ]
     },
     "execution_count": 1,
     "metadata": {},
     "output_type": "execute_result"
    }
   ],
   "source": [
    "#datatype of input\n",
    "age = input(\"Enter your age\")\n",
    "type(age)"
   ]
  },
  {
   "cell_type": "code",
   "execution_count": 2,
   "id": "1b354914-c64c-47c4-9a4f-285351c52fc2",
   "metadata": {},
   "outputs": [
    {
     "name": "stdin",
     "output_type": "stream",
     "text": [
      "Enter num 1: \n",
      " 23\n",
      "Enter num 2: \n",
      " 2\n"
     ]
    },
    {
     "name": "stdout",
     "output_type": "stream",
     "text": [
      "232\n"
     ]
    }
   ],
   "source": [
    "#\\n next line  str adding\n",
    "n1 = input(\"Enter num 1: \\n\")\n",
    "n2 = input(\"Enter num 2: \\n\")\n",
    "res = n1 + n2\n",
    "print(res)"
   ]
  },
  {
   "cell_type": "code",
   "execution_count": 3,
   "id": "08f15a35-f8a7-4514-ac16-075c7139b164",
   "metadata": {},
   "outputs": [
    {
     "data": {
      "text/plain": [
       "(10, int)"
      ]
     },
     "execution_count": 3,
     "metadata": {},
     "output_type": "execute_result"
    }
   ],
   "source": [
    "#cascading or type conversion\n",
    "\n",
    "a = \"10\"\n",
    "b = int (a)\n",
    "b, type(b)"
   ]
  },
  {
   "cell_type": "code",
   "execution_count": 5,
   "id": "57b6a505-7385-4aad-8a59-cbd63739dd6a",
   "metadata": {},
   "outputs": [
    {
     "name": "stdin",
     "output_type": "stream",
     "text": [
      "Enter num 1: \n",
      " 23\n",
      "Enter num 2: \n",
      " 2\n"
     ]
    },
    {
     "name": "stdout",
     "output_type": "stream",
     "text": [
      "23 + 2 = 25\n"
     ]
    }
   ],
   "source": [
    "#\\n now use type conversion\n",
    "n1 = int (input(\"Enter num 1: \\n\"))\n",
    "n2 = int (input(\"Enter num 2: \\n\"))\n",
    "res = n1 + n2\n",
    "print(f\"{n1} + {n2} = {res}\")"
   ]
  },
  {
   "cell_type": "code",
   "execution_count": 11,
   "id": "ac01b0f7-30fc-4d66-9960-04f57aa1b6ab",
   "metadata": {},
   "outputs": [
    {
     "name": "stdin",
     "output_type": "stream",
     "text": [
      "Enter num 1: \n",
      " 2\n",
      "Enter num 2: \n",
      " 2\n",
      "\n",
      "1: + \n",
      "2: - \n",
      "3: * \n",
      "4: / \n",
      "Enter your choice: 1\n"
     ]
    },
    {
     "name": "stdout",
     "output_type": "stream",
     "text": [
      "2 + 2 = 4\n"
     ]
    }
   ],
   "source": [
    "#Calculator:\n",
    "\n",
    "num1 = int (input(\"Enter num 1: \\n\"))\n",
    "num2 = int (input(\"Enter num 2: \\n\"))\n",
    "\n",
    "operator = int(input(\"\\n1: + \\n2: - \\n3: * \\n4: / \\nEnter your choice:\"))\n",
    "if operator == 1:\n",
    "    result = num1 + num2\n",
    "    print(f\"{num1} + {num2} = {result}\")\n",
    "elif operator == 2:\n",
    "    result = num1 - num2\n",
    "    print(f\"{num1} - {num2} = {result}\")\n",
    "elif operator == 3:\n",
    "    result = num1 * num2\n",
    "    print(f\"{num1} * {num2} = {result}\")\n",
    "elif operator == 4:\n",
    "    result = num1 / num2\n",
    "    print(f\"{num1} / {num2} = {result}\")\n",
    "else:\n",
    "    print(\"invalid Operator\")"
   ]
  },
  {
   "cell_type": "code",
   "execution_count": null,
   "id": "c4f07ce3-5f53-475a-95e5-e0e1282a2679",
   "metadata": {},
   "outputs": [],
   "source": [
    "# Operators"
   ]
  }
 ],
 "metadata": {
  "kernelspec": {
   "display_name": "Python 3 (ipykernel)",
   "language": "python",
   "name": "python3"
  },
  "language_info": {
   "codemirror_mode": {
    "name": "ipython",
    "version": 3
   },
   "file_extension": ".py",
   "mimetype": "text/x-python",
   "name": "python",
   "nbconvert_exporter": "python",
   "pygments_lexer": "ipython3",
   "version": "3.12.3"
  }
 },
 "nbformat": 4,
 "nbformat_minor": 5
}
