{
 "cells": [
  {
   "cell_type": "code",
   "execution_count": null,
   "id": "3d1294f5-3f4c-41bf-9335-fa32a5985ea0",
   "metadata": {},
   "outputs": [],
   "source": [
    "#break"
   ]
  },
  {
   "cell_type": "code",
   "execution_count": 3,
   "id": "ca8d3c4a-2566-4f15-9cbe-1896b379a370",
   "metadata": {},
   "outputs": [
    {
     "name": "stdout",
     "output_type": "stream",
     "text": [
      "ali\n",
      "ahmad\n",
      "saad\n"
     ]
    }
   ],
   "source": [
    "list1 = [\"ali\", \"ahmad\", \"saad\", \"anas\" , \"hamza\"]\n",
    "for i in list1:\n",
    "    if i == \"anas\":\n",
    "        break\n",
    "    print(i)"
   ]
  },
  {
   "cell_type": "code",
   "execution_count": 2,
   "id": "01ab04c8-9275-4c4d-a958-f2ee155ba51d",
   "metadata": {},
   "outputs": [],
   "source": [
    "#continue"
   ]
  },
  {
   "cell_type": "code",
   "execution_count": 4,
   "id": "19d53c1a-251c-4a67-9afa-002ca8162e7a",
   "metadata": {},
   "outputs": [
    {
     "name": "stdout",
     "output_type": "stream",
     "text": [
      "ali\n",
      "ahmad\n",
      "anas\n",
      "hamza\n"
     ]
    }
   ],
   "source": [
    "list1 = [\"ali\", \"ahmad\", \"saad\", \"anas\" , \"hamza\"]\n",
    "for i in list1:\n",
    "    if i == \"saad\":\n",
    "        continue\n",
    "    print(i)"
   ]
  },
  {
   "cell_type": "code",
   "execution_count": 6,
   "id": "d173e66d-4387-4969-a7a5-0ec64523f3e9",
   "metadata": {},
   "outputs": [],
   "source": [
    "# with else"
   ]
  },
  {
   "cell_type": "code",
   "execution_count": null,
   "id": "8a232717-86f8-4cf2-82f8-9b53b262ab7b",
   "metadata": {},
   "outputs": [
    {
     "name": "stdout",
     "output_type": "stream",
     "text": [
      "ali\n",
      "ahmad\n",
      "anas\n",
      "hamza\n",
      "Loop exicuted!\n"
     ]
    }
   ],
   "source": [
    "list1 = [\"ali\", \"ahmad\", \"saad\", \"anas\" , \"hamza\"]\n",
    "for i in list1:\n",
    "    if i == \"saad\":\n",
    "        continue\n",
    "    print(i)\n",
    "else:\n",
    "    print(\"Loop executed!\")"
   ]
  },
  {
   "cell_type": "code",
   "execution_count": 5,
   "id": "82f909e8-252f-4f67-b596-001c348d0c7c",
   "metadata": {},
   "outputs": [],
   "source": [
    "#while Loop"
   ]
  },
  {
   "cell_type": "code",
   "execution_count": 8,
   "id": "f9f9adc3-982b-48e9-807c-6b323d02a722",
   "metadata": {},
   "outputs": [
    {
     "name": "stdout",
     "output_type": "stream",
     "text": [
      "1\n",
      "2\n",
      "3\n",
      "4\n",
      "5\n"
     ]
    }
   ],
   "source": [
    "i = 1\n",
    "while i < 6:\n",
    "    print(i)\n",
    "    i +=1"
   ]
  },
  {
   "cell_type": "code",
   "execution_count": 9,
   "id": "4f7fc7df-8d44-452b-867f-8b37372334b2",
   "metadata": {},
   "outputs": [],
   "source": [
    "#program"
   ]
  },
  {
   "cell_type": "code",
   "execution_count": 11,
   "id": "c3efdfc8-d30e-4a88-be24-92452cf099bf",
   "metadata": {},
   "outputs": [
    {
     "name": "stdout",
     "output_type": "stream",
     "text": [
      "Enter another number (or 0 to stop): 50\n",
      "Enter another number (or 0 to stop): 45\n",
      "Enter another number (or 0 to stop): 15\n",
      "Enter another number (or 0 to stop): 40\n",
      "Enter another number (or 0 to stop): 0\n"
     ]
    },
    {
     "name": "stdout",
     "output_type": "stream",
     "text": [
      "The sum of the numbers you entered is : 150\n"
     ]
    }
   ],
   "source": [
    "total = 0\n",
    "number = int(input(\"Enter another number (or 0 to stop):\"))\n",
    "\n",
    "while number != 0:\n",
    "    total += number\n",
    "    number = int(input(\"Enter another number (or 0 to stop):\"))\n",
    "    \n",
    "print(\"The sum of the numbers you entered is :\" , total)"
   ]
  },
  {
   "cell_type": "code",
   "execution_count": null,
   "id": "3368a40e-60b1-4947-b7e5-b65bb03824a9",
   "metadata": {},
   "outputs": [],
   "source": []
  }
 ],
 "metadata": {
  "kernelspec": {
   "display_name": "Python 3 (ipykernel)",
   "language": "python",
   "name": "python3"
  },
  "language_info": {
   "codemirror_mode": {
    "name": "ipython",
    "version": 3
   },
   "file_extension": ".py",
   "mimetype": "text/x-python",
   "name": "python",
   "nbconvert_exporter": "python",
   "pygments_lexer": "ipython3",
   "version": "3.12.3"
  }
 },
 "nbformat": 4,
 "nbformat_minor": 5
}
