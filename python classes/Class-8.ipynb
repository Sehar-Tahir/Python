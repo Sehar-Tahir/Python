{
 "cells": [
  {
   "cell_type": "markdown",
   "id": "59a7e6f3-d09c-4624-8e12-bb083b2f1252",
   "metadata": {},
   "source": [
    "# List"
   ]
  },
  {
   "cell_type": "code",
   "execution_count": 2,
   "id": "13725937-2f0b-40b1-bb0a-c772cb7fc9e9",
   "metadata": {},
   "outputs": [
    {
     "data": {
      "text/plain": [
       "['ALi', 'Sehar', 'Abdullah', 'komal', 'Sehar']"
      ]
     },
     "execution_count": 2,
     "metadata": {},
     "output_type": "execute_result"
    }
   ],
   "source": [
    "names = [\"ALi\" , \"Sehar\" , \"Abdullah\" , \"komal\", \"Sehar\"]\n",
    "names"
   ]
  },
  {
   "cell_type": "code",
   "execution_count": 4,
   "id": "85bd1a1d-4f48-4564-83f3-0153218d2e0c",
   "metadata": {},
   "outputs": [
    {
     "data": {
      "text/plain": [
       "5"
      ]
     },
     "execution_count": 4,
     "metadata": {},
     "output_type": "execute_result"
    }
   ],
   "source": [
    "len(names)"
   ]
  },
  {
   "cell_type": "code",
   "execution_count": 5,
   "id": "f8c6d369-0045-49cc-8656-c890e26456de",
   "metadata": {},
   "outputs": [
    {
     "data": {
      "text/plain": [
       "list"
      ]
     },
     "execution_count": 5,
     "metadata": {},
     "output_type": "execute_result"
    }
   ],
   "source": [
    "type(names)"
   ]
  },
  {
   "cell_type": "code",
   "execution_count": 9,
   "id": "9738fc79-b3c2-49b5-98d5-8002ad4d1927",
   "metadata": {},
   "outputs": [
    {
     "data": {
      "text/plain": [
       "['Saad', 12, True, 60.5]"
      ]
     },
     "execution_count": 9,
     "metadata": {},
     "output_type": "execute_result"
    }
   ],
   "source": [
    "#list store multiple data type or same type of data\n",
    "newname = [\"Saad\" , 12, True, 60.5 ]\n",
    "newname"
   ]
  },
  {
   "cell_type": "markdown",
   "id": "59f5779a-4db7-4f6f-a459-b9c71a31f98f",
   "metadata": {},
   "source": [
    "# indexing"
   ]
  },
  {
   "cell_type": "code",
   "execution_count": 12,
   "id": "988ba9a9-722e-41ff-9a58-134ada56f1f4",
   "metadata": {},
   "outputs": [
    {
     "data": {
      "text/plain": [
       "'e'"
      ]
     },
     "execution_count": 12,
     "metadata": {},
     "output_type": "execute_result"
    }
   ],
   "source": [
    "a = \"hello\"\n",
    "a[1]         #a of 1(index)"
   ]
  },
  {
   "cell_type": "markdown",
   "id": "1b685397-4b66-4279-bb9b-b524699cf5d3",
   "metadata": {},
   "source": [
    "# Slicing"
   ]
  },
  {
   "cell_type": "code",
   "execution_count": 15,
   "id": "476f1c7e-c7b7-4361-a91f-ed1e62ea3f5a",
   "metadata": {},
   "outputs": [
    {
     "data": {
      "text/plain": [
       "'hel'"
      ]
     },
     "execution_count": 15,
     "metadata": {},
     "output_type": "execute_result"
    }
   ],
   "source": [
    "a = \"hello\"\n",
    "a[0:3]"
   ]
  },
  {
   "cell_type": "code",
   "execution_count": null,
   "id": "7c880d7d-b982-4916-b95a-4792bd3306ba",
   "metadata": {},
   "outputs": [
    {
     "data": {
      "text/plain": [
       "['S', 'e', 'h', 'a', 'r']"
      ]
     },
     "execution_count": 16,
     "metadata": {},
     "output_type": "execute_result"
    }
   ],
   "source": [
    "me = \"Sehar\"\n",
    "list(me)"
   ]
  },
  {
   "cell_type": "code",
   "execution_count": 17,
   "id": "0ccee063-8851-43a2-baec-fe4cb4521af0",
   "metadata": {},
   "outputs": [
    {
     "data": {
      "text/plain": [
       "'Sehar'"
      ]
     },
     "execution_count": 17,
     "metadata": {},
     "output_type": "execute_result"
    }
   ],
   "source": [
    "person = [ \"Sehar\" , 60.5 , 20 , True , False]\n",
    "person[0]"
   ]
  },
  {
   "cell_type": "code",
   "execution_count": 19,
   "id": "43e00035-32af-4c8c-9732-3398c666b197",
   "metadata": {},
   "outputs": [
    {
     "data": {
      "text/plain": [
       "'Se'"
      ]
     },
     "execution_count": 19,
     "metadata": {},
     "output_type": "execute_result"
    }
   ],
   "source": [
    "person = [\"Sehar\" , 60.5 , 20 , True , False]\n",
    "person [0][0:2]"
   ]
  },
  {
   "cell_type": "code",
   "execution_count": 20,
   "id": "ddb691c0-2623-461d-acc1-83f80a78103e",
   "metadata": {},
   "outputs": [
    {
     "data": {
      "text/plain": [
       "'Tahi'"
      ]
     },
     "execution_count": 20,
     "metadata": {},
     "output_type": "execute_result"
    }
   ],
   "source": [
    "# access index of the item of list\n",
    "person = [\"Sehar\" , 60.5 , 20 , True , False , \"Tahir\"]\n",
    "person [5][0:4]"
   ]
  },
  {
   "cell_type": "code",
   "execution_count": 1,
   "id": "22d9b211-4636-4470-bb87-4ca1c079a17e",
   "metadata": {},
   "outputs": [
    {
     "data": {
      "text/plain": [
       "[4, 6]"
      ]
     },
     "execution_count": 1,
     "metadata": {},
     "output_type": "execute_result"
    }
   ],
   "source": [
    "person = [\"Sehar\" , 60.5 , 20 , True , False, [4,6,7,8]]  # list in person list\n",
    "person [-1][0:2]"
   ]
  },
  {
   "cell_type": "markdown",
   "id": "ae14fad3-f97a-4a99-a4c0-83ffb4caf925",
   "metadata": {},
   "source": [
    "#   list methods"
   ]
  },
  {
   "cell_type": "code",
   "execution_count": 34,
   "id": "a3c0662d-086a-4c14-9a8d-ae5bb1853917",
   "metadata": {},
   "outputs": [
    {
     "data": {
      "text/plain": [
       "[5, 8, 87, 56, 93, 3000]"
      ]
     },
     "execution_count": 34,
     "metadata": {},
     "output_type": "execute_result"
    }
   ],
   "source": [
    "# append adds in last\n",
    "list2 = [5,8,87,56,93]\n",
    "list2.append(3000) \n",
    "list2"
   ]
  },
  {
   "cell_type": "code",
   "execution_count": 33,
   "id": "029e2a1d-1739-489b-b96f-2541f6da89bb",
   "metadata": {},
   "outputs": [
    {
     "data": {
      "text/plain": [
       "[5, 8, 87, 56, 93, [4, 8, 9, 3, 1]]"
      ]
     },
     "execution_count": 33,
     "metadata": {},
     "output_type": "execute_result"
    }
   ],
   "source": [
    "list3 = [5,8,87,56,93]\n",
    "list3.append([4,8,9,3,1])  #adds in last\n",
    "list3 "
   ]
  },
  {
   "cell_type": "code",
   "execution_count": 41,
   "id": "5a0a6082-9592-47dc-9b8a-96d4abd9d2f1",
   "metadata": {},
   "outputs": [
    {
     "data": {
      "text/plain": [
       "['Sehar', 5, 8, 87, 56, 93, 3000]"
      ]
     },
     "execution_count": 41,
     "metadata": {},
     "output_type": "execute_result"
    }
   ],
   "source": [
    "# insert adds at any index\n",
    "list2.insert(0, \"Sehar\") #(jo index diya hai us sy ak index pehly add kr dy ga)\n",
    "list2"
   ]
  },
  {
   "cell_type": "code",
   "execution_count": 36,
   "id": "5efd1215-6dc7-4350-9b04-c33cbaad504a",
   "metadata": {},
   "outputs": [
    {
     "data": {
      "text/plain": [
       "[5, 8, 87, 56, 93, 'Sehar', [4, 8, 9, 3, 1]]"
      ]
     },
     "execution_count": 36,
     "metadata": {},
     "output_type": "execute_result"
    }
   ],
   "source": [
    "list3.insert(-1, \"Sehar\") #add before defined index\n",
    "list3"
   ]
  },
  {
   "cell_type": "code",
   "execution_count": 43,
   "id": "422d422f-f3ab-4277-91f0-fdb2fdfc3d89",
   "metadata": {},
   "outputs": [
    {
     "data": {
      "text/plain": [
       "[20, 7, 90, 87, 65, 43, 21]"
      ]
     },
     "execution_count": 43,
     "metadata": {},
     "output_type": "execute_result"
    }
   ],
   "source": [
    "# update value\n",
    "list4 = [4,7,90,87,65,43,21]\n",
    "list4[0] = 20\n",
    "list4"
   ]
  },
  {
   "cell_type": "code",
   "execution_count": 3,
   "id": "a1ce45c7-9114-4c81-af17-0398b6214ea3",
   "metadata": {},
   "outputs": [
    {
     "data": {
      "text/plain": [
       "[4, 7, 'Sehar', 87, 65, 43, 21]"
      ]
     },
     "execution_count": 3,
     "metadata": {},
     "output_type": "execute_result"
    }
   ],
   "source": [
    "# update value\n",
    "list4 = [4,7,90,87,65,43,21]\n",
    "list4[2] = \"Sehar\"\n",
    "list4"
   ]
  },
  {
   "cell_type": "code",
   "execution_count": 5,
   "id": "ac88987a-12e9-484c-90ae-8f0a2d612233",
   "metadata": {},
   "outputs": [
    {
     "data": {
      "text/plain": [
       "[8, 5, 4, 2, True, 60.5, 'Sehar', 1, 2, 3, 4, 5]"
      ]
     },
     "execution_count": 5,
     "metadata": {},
     "output_type": "execute_result"
    }
   ],
   "source": [
    "# extend (add another list items with in the same list)\n",
    "list5 = [8, 5, 4, 2, True, 60.5,\"Sehar\"] \n",
    "list6 = [1,2,3,4,5]\n",
    "list5.extend(list6)\n",
    "list5"
   ]
  },
  {
   "cell_type": "code",
   "execution_count": 8,
   "id": "d25e196d-3e66-41c1-910a-bb6cf7b45cba",
   "metadata": {},
   "outputs": [
    {
     "data": {
      "text/plain": [
       "[8, 5, 4, 2, True, 60.5, 'Sehar', 'a', 'b', 'c', 'd', 'e']"
      ]
     },
     "execution_count": 8,
     "metadata": {},
     "output_type": "execute_result"
    }
   ],
   "source": [
    "list5 = [8, 5, 4, 2, True, 60.5,\"Sehar\"] \n",
    "a = 'abcde' #string\n",
    "list5.extend(a)\n",
    "list5"
   ]
  },
  {
   "cell_type": "code",
   "execution_count": 9,
   "id": "d2fdf6b7-2716-48d7-b800-df388bd8a948",
   "metadata": {},
   "outputs": [
    {
     "data": {
      "text/plain": [
       "'Sehar'"
      ]
     },
     "execution_count": 9,
     "metadata": {},
     "output_type": "execute_result"
    }
   ],
   "source": [
    "# pop removes last index element\n",
    "list5 = [8, 5, 4, 2, True, 60.5,\"Sehar\"] \n",
    "list5.pop()"
   ]
  },
  {
   "cell_type": "code",
   "execution_count": 10,
   "id": "225cf91d-9edc-4b52-be39-9fb93173f8f2",
   "metadata": {},
   "outputs": [
    {
     "data": {
      "text/plain": [
       "True"
      ]
     },
     "execution_count": 10,
     "metadata": {},
     "output_type": "execute_result"
    }
   ],
   "source": [
    "# pop removes specific index element if defined\n",
    "list5 = [8, 5, 4, 2, True, 60.5,\"Sehar\"] \n",
    "list5.pop(4)"
   ]
  },
  {
   "cell_type": "code",
   "execution_count": 12,
   "id": "b63fe08b-6213-4096-8193-879e026370df",
   "metadata": {},
   "outputs": [
    {
     "data": {
      "text/plain": [
       "[8, 5, 4, 2, True, 60.5]"
      ]
     },
     "execution_count": 12,
     "metadata": {},
     "output_type": "execute_result"
    }
   ],
   "source": [
    "# remove the particular thing that you define\n",
    "list5 = [8, 5, 4, 2, True, 60.5,\"Sehar\"] \n",
    "list5.remove(\"Sehar\")\n",
    "list5"
   ]
  },
  {
   "cell_type": "code",
   "execution_count": 15,
   "id": "8c438daf-5379-43c1-bd4b-f5caa29feb66",
   "metadata": {},
   "outputs": [
    {
     "data": {
      "text/plain": [
       "[2, 3, 4, 5]"
      ]
     },
     "execution_count": 15,
     "metadata": {},
     "output_type": "execute_result"
    }
   ],
   "source": [
    "#del\n",
    "a = [1,2,3,4,5]\n",
    "del a [0]\n",
    "a"
   ]
  },
  {
   "cell_type": "code",
   "execution_count": 16,
   "id": "21c2784e-ea84-4831-8d45-6d4c003ba350",
   "metadata": {},
   "outputs": [
    {
     "ename": "NameError",
     "evalue": "name 'a' is not defined",
     "output_type": "error",
     "traceback": [
      "\u001b[1;31m---------------------------------------------------------------------------\u001b[0m",
      "\u001b[1;31mNameError\u001b[0m                                 Traceback (most recent call last)",
      "Cell \u001b[1;32mIn[16], line 4\u001b[0m\n\u001b[0;32m      2\u001b[0m a \u001b[38;5;241m=\u001b[39m [\u001b[38;5;241m1\u001b[39m,\u001b[38;5;241m2\u001b[39m,\u001b[38;5;241m3\u001b[39m,\u001b[38;5;241m4\u001b[39m,\u001b[38;5;241m5\u001b[39m]\n\u001b[0;32m      3\u001b[0m \u001b[38;5;28;01mdel\u001b[39;00m a \n\u001b[1;32m----> 4\u001b[0m \u001b[43ma\u001b[49m\n",
      "\u001b[1;31mNameError\u001b[0m: name 'a' is not defined"
     ]
    }
   ],
   "source": [
    "#del it also delete the complete list a if not defined anything\n",
    "a = [1,2,3,4,5]\n",
    "del a \n",
    "a"
   ]
  },
  {
   "cell_type": "code",
   "execution_count": 18,
   "id": "d8ecb80a-7cab-4630-be91-3ed75de92d6d",
   "metadata": {},
   "outputs": [
    {
     "data": {
      "text/plain": [
       "[]"
      ]
     },
     "execution_count": 18,
     "metadata": {},
     "output_type": "execute_result"
    }
   ],
   "source": [
    "# clear just remove all the list elements not list\n",
    "a = [1,2,3,4,5]\n",
    "a.clear()\n",
    "a"
   ]
  },
  {
   "cell_type": "code",
   "execution_count": 19,
   "id": "9f741f79-e508-465f-b195-8282f58abf06",
   "metadata": {},
   "outputs": [
    {
     "data": {
      "text/plain": [
       "1"
      ]
     },
     "execution_count": 19,
     "metadata": {},
     "output_type": "execute_result"
    }
   ],
   "source": [
    "# it counts how many times 4 is present\n",
    "a = [1,2,3,4,5]\n",
    "a.count(4)"
   ]
  },
  {
   "cell_type": "code",
   "execution_count": 21,
   "id": "45d63f3e-7d6d-4f0a-8afc-04e9015bea57",
   "metadata": {},
   "outputs": [
    {
     "data": {
      "text/plain": [
       "[1, 2, 3, 4, 5]"
      ]
     },
     "execution_count": 21,
     "metadata": {},
     "output_type": "execute_result"
    }
   ],
   "source": [
    "# copy list (by using all changes also display in a)\n",
    "b = a\n",
    "a"
   ]
  },
  {
   "cell_type": "code",
   "execution_count": 22,
   "id": "b67b2542-6b7a-4cad-965f-8ead02d02b64",
   "metadata": {},
   "outputs": [
    {
     "data": {
      "text/plain": [
       "[1, 2, 3, 4, 5, 1000]"
      ]
     },
     "execution_count": 22,
     "metadata": {},
     "output_type": "execute_result"
    }
   ],
   "source": [
    "b.append(1000)\n",
    "a"
   ]
  },
  {
   "cell_type": "code",
   "execution_count": 26,
   "id": "f19269a7-3d8c-441f-b750-6486c7edf320",
   "metadata": {},
   "outputs": [],
   "source": [
    "# copy \n",
    "b = a.copy()\n",
    "b.append(234567890)\n"
   ]
  },
  {
   "cell_type": "code",
   "execution_count": 27,
   "id": "1057dbee-792f-4f78-9d72-36ce3677cde1",
   "metadata": {},
   "outputs": [
    {
     "data": {
      "text/plain": [
       "[1, 2, 3, 4, 5, 1000]"
      ]
     },
     "execution_count": 27,
     "metadata": {},
     "output_type": "execute_result"
    }
   ],
   "source": [
    "a"
   ]
  },
  {
   "cell_type": "code",
   "execution_count": 28,
   "id": "65fb89e1-4d40-4bea-ba9d-4b94d0d85cd0",
   "metadata": {},
   "outputs": [
    {
     "data": {
      "text/plain": [
       "[1, 2, 3, 4, 5, 1000, 234567890]"
      ]
     },
     "execution_count": 28,
     "metadata": {},
     "output_type": "execute_result"
    }
   ],
   "source": [
    "b"
   ]
  },
  {
   "cell_type": "code",
   "execution_count": 29,
   "id": "b4e5f0e1-7cc4-41f5-bd05-4d3869981062",
   "metadata": {},
   "outputs": [
    {
     "data": {
      "text/plain": [
       "1"
      ]
     },
     "execution_count": 29,
     "metadata": {},
     "output_type": "execute_result"
    }
   ],
   "source": [
    "# index tells the index of value (2)\n",
    "a.index(2)"
   ]
  }
 ],
 "metadata": {
  "kernelspec": {
   "display_name": "Python 3 (ipykernel)",
   "language": "python",
   "name": "python3"
  },
  "language_info": {
   "codemirror_mode": {
    "name": "ipython",
    "version": 3
   },
   "file_extension": ".py",
   "mimetype": "text/x-python",
   "name": "python",
   "nbconvert_exporter": "python",
   "pygments_lexer": "ipython3",
   "version": "3.12.3"
  }
 },
 "nbformat": 4,
 "nbformat_minor": 5
}
